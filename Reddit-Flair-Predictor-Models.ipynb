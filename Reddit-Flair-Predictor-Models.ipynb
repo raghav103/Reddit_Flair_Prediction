{
 "cells": [
  {
   "cell_type": "code",
   "execution_count": 1,
   "metadata": {},
   "outputs": [
    {
     "name": "stderr",
     "output_type": "stream",
     "text": [
      "Using TensorFlow backend.\n"
     ]
    }
   ],
   "source": [
    "import numpy as np\n",
    "import matplotlib.pyplot as plt\n",
    "import pandas as pd\n",
    "import re\n",
    "import nltk\n",
    "import seaborn as sns\n",
    "from sklearn.preprocessing import LabelEncoder, OneHotEncoder\n",
    "from sklearn.model_selection import train_test_split\n",
    "from sklearn.pipeline import Pipeline\n",
    "from sklearn.feature_extraction.text import TfidfVectorizer, CountVectorizer\n",
    "from sklearn.svm import LinearSVC\n",
    "from sklearn.naive_bayes import MultinomialNB\n",
    "from sklearn.linear_model import LogisticRegression\n",
    "from sklearn.ensemble import RandomForestClassifier\n",
    "from sklearn.model_selection import GridSearchCV\n",
    "from keras.preprocessing.text import Tokenizer\n",
    "from keras.preprocessing.sequence import pad_sequences\n",
    "from keras.layers import *\n",
    "from keras.optimizers import Adam\n",
    "from keras.models import Model\n",
    "from keras import backend as K\n",
    "from keras.engine.topology import Layer\n",
    "from keras import initializers, regularizers, constraints, optimizers, layers"
   ]
  },
  {
   "cell_type": "code",
   "execution_count": 3,
   "metadata": {},
   "outputs": [],
   "source": [
    "# load Data\n",
    "data = pd.read_csv('/Users/apple/Desktop/reddit_flair/reddit-data-cleaned.csv')"
   ]
  },
  {
   "cell_type": "code",
   "execution_count": 3,
   "metadata": {},
   "outputs": [
    {
     "data": {
      "text/html": [
       "<div>\n",
       "<style scoped>\n",
       "    .dataframe tbody tr th:only-of-type {\n",
       "        vertical-align: middle;\n",
       "    }\n",
       "\n",
       "    .dataframe tbody tr th {\n",
       "        vertical-align: top;\n",
       "    }\n",
       "\n",
       "    .dataframe thead th {\n",
       "        text-align: right;\n",
       "    }\n",
       "</style>\n",
       "<table border=\"1\" class=\"dataframe\">\n",
       "  <thead>\n",
       "    <tr style=\"text-align: right;\">\n",
       "      <th></th>\n",
       "      <th>title</th>\n",
       "      <th>score</th>\n",
       "      <th>body</th>\n",
       "      <th>url</th>\n",
       "      <th>num_comments</th>\n",
       "      <th>comments</th>\n",
       "      <th>flair</th>\n",
       "      <th>id</th>\n",
       "    </tr>\n",
       "  </thead>\n",
       "  <tbody>\n",
       "    <tr>\n",
       "      <th>0</th>\n",
       "      <td>untouchability even quarantine never take food...</td>\n",
       "      <td>54</td>\n",
       "      <td>NaN</td>\n",
       "      <td>india coronavirus outbreak untouchability even...</td>\n",
       "      <td>7</td>\n",
       "      <td>let feel hungry couple day max week care cook ...</td>\n",
       "      <td>Scheduled</td>\n",
       "      <td>fzvwz8</td>\n",
       "    </tr>\n",
       "    <tr>\n",
       "      <th>1</th>\n",
       "      <td>delhi govt source names cm arvind kejriwal dep...</td>\n",
       "      <td>303</td>\n",
       "      <td>NaN</td>\n",
       "      <td>ani status</td>\n",
       "      <td>30</td>\n",
       "      <td>beyond petty inclusion delhi government school...</td>\n",
       "      <td>Scheduled</td>\n",
       "      <td>f7ogd8</td>\n",
       "    </tr>\n",
       "    <tr>\n",
       "      <th>2</th>\n",
       "      <td>delhi ap singh advocate delhi gang rape convic...</td>\n",
       "      <td>18</td>\n",
       "      <td>NaN</td>\n",
       "      <td>ani status</td>\n",
       "      <td>21</td>\n",
       "      <td>hunch guy try expose loophole legal system nev...</td>\n",
       "      <td>Scheduled</td>\n",
       "      <td>flgvah</td>\n",
       "    </tr>\n",
       "    <tr>\n",
       "      <th>3</th>\n",
       "      <td>supreme court verdict sc st quota create polit...</td>\n",
       "      <td>109</td>\n",
       "      <td>NaN</td>\n",
       "      <td>scroll article supreme courts verdict sc st qu...</td>\n",
       "      <td>47</td>\n",
       "      <td>muslim reservation two distraction use indian ...</td>\n",
       "      <td>Scheduled</td>\n",
       "      <td>f1o839</td>\n",
       "    </tr>\n",
       "    <tr>\n",
       "      <th>4</th>\n",
       "      <td>entrance exam schedule may</td>\n",
       "      <td>12</td>\n",
       "      <td>CLAT, AILET, NEET, JEE have been postponed bu...</td>\n",
       "      <td>india comments fvcvo entrance exams scheduled may</td>\n",
       "      <td>3</td>\n",
       "      <td>bachega india tabhi toh padhega india gand mar...</td>\n",
       "      <td>Scheduled</td>\n",
       "      <td>fvcvo1</td>\n",
       "    </tr>\n",
       "    <tr>\n",
       "      <th>5</th>\n",
       "      <td>advisory schedule international mercial passen...</td>\n",
       "      <td>35</td>\n",
       "      <td>NaN</td>\n",
       "      <td>pib india status</td>\n",
       "      <td>4</td>\n",
       "      <td>oh boy chalo bhaisahab sabji ka dukaan main da...</td>\n",
       "      <td>Scheduled</td>\n",
       "      <td>fl8zf5</td>\n",
       "    </tr>\n",
       "    <tr>\n",
       "      <th>6</th>\n",
       "      <td>roommate india indian american citizen schedul...</td>\n",
       "      <td>27</td>\n",
       "      <td>He was working remotely from February 24th and...</td>\n",
       "      <td>india comments fhgyhu roommate india hes indian</td>\n",
       "      <td>4</td>\n",
       "      <td>afaik still ban entry indian citizen issue che...</td>\n",
       "      <td>Scheduled</td>\n",
       "      <td>fhgyhu</td>\n",
       "    </tr>\n",
       "    <tr>\n",
       "      <th>7</th>\n",
       "      <td>ministry score fund utilisation schedule caste</td>\n",
       "      <td>47</td>\n",
       "      <td>NaN</td>\n",
       "      <td>news politics nation ministry scores fund util...</td>\n",
       "      <td>1</td>\n",
       "      <td>fund sanskrit university public money public w...</td>\n",
       "      <td>Scheduled</td>\n",
       "      <td>fg8v3u</td>\n",
       "    </tr>\n",
       "    <tr>\n",
       "      <th>8</th>\n",
       "      <td>hydroxychloroquine schedule drug sell prescrip...</td>\n",
       "      <td>26</td>\n",
       "      <td>NaN</td>\n",
       "      <td>mohfw gov</td>\n",
       "      <td>4</td>\n",
       "      <td>someone give eli drug use delete</td>\n",
       "      <td>Scheduled</td>\n",
       "      <td>fpr0on</td>\n",
       "    </tr>\n",
       "    <tr>\n",
       "      <th>9</th>\n",
       "      <td>maharashtra govt school urban area maharashtra...</td>\n",
       "      <td>31</td>\n",
       "      <td>NaN</td>\n",
       "      <td>ani status</td>\n",
       "      <td>4</td>\n",
       "      <td>bc student immune virus fuck dickhead indian f...</td>\n",
       "      <td>Scheduled</td>\n",
       "      <td>fii4k1</td>\n",
       "    </tr>\n",
       "    <tr>\n",
       "      <th>10</th>\n",
       "      <td>askindia indigo cancel flight less hour due ba...</td>\n",
       "      <td>12</td>\n",
       "      <td>I had Indigo flight from HYD-BOM on 14th Dec @...</td>\n",
       "      <td>india comments egtg askindia indigo cancelled ...</td>\n",
       "      <td>12</td>\n",
       "      <td>yes think legally eligible claim pensation ted...</td>\n",
       "      <td>Scheduled</td>\n",
       "      <td>egtg1j</td>\n",
       "    </tr>\n",
       "    <tr>\n",
       "      <th>11</th>\n",
       "      <td>nirbhaya case sc quashes death row convict ple...</td>\n",
       "      <td>32</td>\n",
       "      <td>NaN</td>\n",
       "      <td>news india nirbhaya case sc quashes death row ...</td>\n",
       "      <td>0</td>\n",
       "      <td>NaN</td>\n",
       "      <td>Scheduled</td>\n",
       "      <td>evio1q</td>\n",
       "    </tr>\n",
       "    <tr>\n",
       "      <th>12</th>\n",
       "      <td>let fix sleep schedule</td>\n",
       "      <td>15</td>\n",
       "      <td>Hey guys, I thought there must be others in In...</td>\n",
       "      <td>india comments wido lets fix sleep schedule</td>\n",
       "      <td>11</td>\n",
       "      <td>hey man sleep already maintain sleep hygiene m...</td>\n",
       "      <td>Scheduled</td>\n",
       "      <td>f3wido</td>\n",
       "    </tr>\n",
       "    <tr>\n",
       "      <th>13</th>\n",
       "      <td>hr people people ladder apply role trading fir...</td>\n",
       "      <td>5</td>\n",
       "      <td>I have no problem in shifting to Hyderabad if ...</td>\n",
       "      <td>india comments dj hr people people ladder applied</td>\n",
       "      <td>10</td>\n",
       "      <td>unless dire need job skip interview skype reim...</td>\n",
       "      <td>Scheduled</td>\n",
       "      <td>e9z0dj</td>\n",
       "    </tr>\n",
       "    <tr>\n",
       "      <th>14</th>\n",
       "      <td>massive mob storm schedule caste colony search...</td>\n",
       "      <td>213</td>\n",
       "      <td>NaN</td>\n",
       "      <td>article massive mob storms sc colony search in...</td>\n",
       "      <td>12</td>\n",
       "      <td>society go back rotten era caste system inter ...</td>\n",
       "      <td>Scheduled</td>\n",
       "      <td>dev3md</td>\n",
       "    </tr>\n",
       "    <tr>\n",
       "      <th>15</th>\n",
       "      <td>source bangladesh foreign minister ak abdul mo...</td>\n",
       "      <td>17</td>\n",
       "      <td>NaN</td>\n",
       "      <td>ani status</td>\n",
       "      <td>3</td>\n",
       "      <td>bangladesh literally friendly neighbor god for...</td>\n",
       "      <td>Scheduled</td>\n",
       "      <td>e9lfy6</td>\n",
       "    </tr>\n",
       "    <tr>\n",
       "      <th>16</th>\n",
       "      <td>india highly questionable work culture benefit...</td>\n",
       "      <td>167</td>\n",
       "      <td>This experiment has been adopted intermittentl...</td>\n",
       "      <td>india comments drbswn india highly questionabl...</td>\n",
       "      <td>122</td>\n",
       "      <td>single big minus point indian society non exis...</td>\n",
       "      <td>Scheduled</td>\n",
       "      <td>drbswn</td>\n",
       "    </tr>\n",
       "    <tr>\n",
       "      <th>17</th>\n",
       "      <td>job consultancy panies request pan card schedu...</td>\n",
       "      <td>24</td>\n",
       "      <td>So my wife has been trying to attend interview...</td>\n",
       "      <td>india comments esd js job consultancy companie...</td>\n",
       "      <td>8</td>\n",
       "      <td>happen get suspicious try search google indeed...</td>\n",
       "      <td>Scheduled</td>\n",
       "      <td>esd9js</td>\n",
       "    </tr>\n",
       "    <tr>\n",
       "      <th>18</th>\n",
       "      <td>woman porn clip appear husband phone wedding n...</td>\n",
       "      <td>146</td>\n",
       "      <td>NaN</td>\n",
       "      <td>mirror crime article womans porn clip appears ...</td>\n",
       "      <td>87</td>\n",
       "      <td>woman porn clip appear porn actress woman sex ...</td>\n",
       "      <td>Scheduled</td>\n",
       "      <td>fk0d9w</td>\n",
       "    </tr>\n",
       "    <tr>\n",
       "      <th>19</th>\n",
       "      <td>continue practice untouchability india</td>\n",
       "      <td>2600</td>\n",
       "      <td>NaN</td>\n",
       "      <td>redd hssr</td>\n",
       "      <td>637</td>\n",
       "      <td>state manipur might perrenial conflict proud p...</td>\n",
       "      <td>Scheduled</td>\n",
       "      <td>eptyqa</td>\n",
       "    </tr>\n",
       "    <tr>\n",
       "      <th>20</th>\n",
       "      <td>people still hoard</td>\n",
       "      <td>58</td>\n",
       "      <td>I went to Dmart today morning. They had a long...</td>\n",
       "      <td>india comments fx people still hoarding</td>\n",
       "      <td>26</td>\n",
       "      <td>think would good time go back pre mart era pra...</td>\n",
       "      <td>Scheduled</td>\n",
       "      <td>fx3t1t</td>\n",
       "    </tr>\n",
       "    <tr>\n",
       "      <th>21</th>\n",
       "      <td>ladakh student organisation unified ladakh hol...</td>\n",
       "      <td>52</td>\n",
       "      <td>NaN</td>\n",
       "      <td>ani status</td>\n",
       "      <td>5</td>\n",
       "      <td>ladakh kanyakumari assam mumbai part india lea...</td>\n",
       "      <td>Scheduled</td>\n",
       "      <td>eny771</td>\n",
       "    </tr>\n",
       "    <tr>\n",
       "      <th>22</th>\n",
       "      <td>anyone india successfully able replace maid ro...</td>\n",
       "      <td>14</td>\n",
       "      <td>Just curious. If anyone has bought a Roomba or...</td>\n",
       "      <td>india comments dgtk anyone india successfully ...</td>\n",
       "      <td>27</td>\n",
       "      <td>successfully replace maid roomba job well get ...</td>\n",
       "      <td>Scheduled</td>\n",
       "      <td>g0dgtk</td>\n",
       "    </tr>\n",
       "    <tr>\n",
       "      <th>23</th>\n",
       "      <td>hptdc bus schedule</td>\n",
       "      <td>5</td>\n",
       "      <td>Does anyone know when the HPTDC  schedule (LEH...</td>\n",
       "      <td>india comments shzg hptdc bus schedule</td>\n",
       "      <td>0</td>\n",
       "      <td>NaN</td>\n",
       "      <td>Scheduled</td>\n",
       "      <td>f7shzg</td>\n",
       "    </tr>\n",
       "    <tr>\n",
       "      <th>24</th>\n",
       "      <td>fresher tomorrow schedule interview thing aware</td>\n",
       "      <td>10</td>\n",
       "      <td>Hey all ,I'm major of cse . tomorrow at pune m...</td>\n",
       "      <td>india comments dir fresher tomorrow scheduled ...</td>\n",
       "      <td>7</td>\n",
       "      <td>punctual dress formal make sure clothes iron s...</td>\n",
       "      <td>Scheduled</td>\n",
       "      <td>dir745</td>\n",
       "    </tr>\n",
       "    <tr>\n",
       "      <th>25</th>\n",
       "      <td>rocket launch pslv schedule launch risat br me...</td>\n",
       "      <td>4</td>\n",
       "      <td>NaN</td>\n",
       "      <td>isro gov sites default files flipping book psl...</td>\n",
       "      <td>0</td>\n",
       "      <td>NaN</td>\n",
       "      <td>Scheduled</td>\n",
       "      <td>e8be4n</td>\n",
       "    </tr>\n",
       "    <tr>\n",
       "      <th>26</th>\n",
       "      <td>decides whether munity give schedule tribe status</td>\n",
       "      <td>10</td>\n",
       "      <td>This question is asked keeping in mind the rec...</td>\n",
       "      <td>india comments dfccw decides whether community...</td>\n",
       "      <td>6</td>\n",
       "      <td>parameter include limited type job munity aver...</td>\n",
       "      <td>Scheduled</td>\n",
       "      <td>dfccw2</td>\n",
       "    </tr>\n",
       "    <tr>\n",
       "      <th>27</th>\n",
       "      <td>india ahead schedule ac plishing solar power t...</td>\n",
       "      <td>7</td>\n",
       "      <td>NaN</td>\n",
       "      <td>news india ahead schedule plishing solar power...</td>\n",
       "      <td>2</td>\n",
       "      <td>much hate current government admit do great jo...</td>\n",
       "      <td>Scheduled</td>\n",
       "      <td>em5f8r</td>\n",
       "    </tr>\n",
       "    <tr>\n",
       "      <th>28</th>\n",
       "      <td>pile absolute best way indians pass time lockdown</td>\n",
       "      <td>813</td>\n",
       "      <td>For the past few days my team and I have been ...</td>\n",
       "      <td>india comments fsxcdg compiled absolute best w...</td>\n",
       "      <td>97</td>\n",
       "      <td>great initiative many people focus nearest con...</td>\n",
       "      <td>Scheduled</td>\n",
       "      <td>fsxcdg</td>\n",
       "    </tr>\n",
       "    <tr>\n",
       "      <th>29</th>\n",
       "      <td>late night random discussion thread</td>\n",
       "      <td>12</td>\n",
       "      <td>^Beep ^Boop ^Bot, ^I ^am ^a ^bot! ^if ^any ^pr...</td>\n",
       "      <td>india comments ev xn late night random discuss...</td>\n",
       "      <td>326</td>\n",
       "      <td>fuck bhenchod reddit theek se randi rona karne...</td>\n",
       "      <td>Scheduled</td>\n",
       "      <td>ev75xn</td>\n",
       "    </tr>\n",
       "    <tr>\n",
       "      <th>...</th>\n",
       "      <td>...</td>\n",
       "      <td>...</td>\n",
       "      <td>...</td>\n",
       "      <td>...</td>\n",
       "      <td>...</td>\n",
       "      <td>...</td>\n",
       "      <td>...</td>\n",
       "      <td>...</td>\n",
       "    </tr>\n",
       "    <tr>\n",
       "      <th>2195</th>\n",
       "      <td>india need investment imf gita gopinath snub j...</td>\n",
       "      <td>64</td>\n",
       "      <td>NaN</td>\n",
       "      <td>india news imf gita gopinath centre snub jeff ...</td>\n",
       "      <td>8</td>\n",
       "      <td>india need caa npr nrc gita maam please unders...</td>\n",
       "      <td>CAA-NRC-NPR</td>\n",
       "      <td>errbt1</td>\n",
       "    </tr>\n",
       "    <tr>\n",
       "      <th>2196</th>\n",
       "      <td>realistic option pathways defeat modi work bjp...</td>\n",
       "      <td>89</td>\n",
       "      <td>With the way things are going, I have little d...</td>\n",
       "      <td>india comments faaj realistic optionspathways ...</td>\n",
       "      <td>109</td>\n",
       "      <td>say hope country realistic method imo focus ec...</td>\n",
       "      <td>CAA-NRC-NPR</td>\n",
       "      <td>faaj1d</td>\n",
       "    </tr>\n",
       "    <tr>\n",
       "      <th>2197</th>\n",
       "      <td>woman detain munity hall outside besant nagar ...</td>\n",
       "      <td>163</td>\n",
       "      <td>NaN</td>\n",
       "      <td>lonelyredcurl status</td>\n",
       "      <td>9</td>\n",
       "      <td>include boy detain chennai police stag kolam r...</td>\n",
       "      <td>CAA-NRC-NPR</td>\n",
       "      <td>eh2lbm</td>\n",
       "    </tr>\n",
       "    <tr>\n",
       "      <th>2198</th>\n",
       "      <td>npr day modi say nrc word utter cabinet clear ...</td>\n",
       "      <td>51</td>\n",
       "      <td>NaN</td>\n",
       "      <td>scroll article npr days modi says nrc word has...</td>\n",
       "      <td>11</td>\n",
       "      <td>official website mha write npr first step towa...</td>\n",
       "      <td>CAA-NRC-NPR</td>\n",
       "      <td>ef2ys3</td>\n",
       "    </tr>\n",
       "    <tr>\n",
       "      <th>2199</th>\n",
       "      <td>ministry home affair mha decide withdraw panie...</td>\n",
       "      <td>85</td>\n",
       "      <td>NaN</td>\n",
       "      <td>ani status</td>\n",
       "      <td>20</td>\n",
       "      <td>government backfoot nrc relieve security force...</td>\n",
       "      <td>CAA-NRC-NPR</td>\n",
       "      <td>ef3vg3</td>\n",
       "    </tr>\n",
       "    <tr>\n",
       "      <th>2200</th>\n",
       "      <td>woman anticaaprotest townhall bangalore proud ...</td>\n",
       "      <td>303</td>\n",
       "      <td>NaN</td>\n",
       "      <td>shayonisengupt status</td>\n",
       "      <td>6</td>\n",
       "      <td>reason woman protest participation woman anti ...</td>\n",
       "      <td>CAA-NRC-NPR</td>\n",
       "      <td>eg7uiw</td>\n",
       "    </tr>\n",
       "    <tr>\n",
       "      <th>2201</th>\n",
       "      <td>root delhi hindu muslim riot malevolent creepe...</td>\n",
       "      <td>17</td>\n",
       "      <td>NaN</td>\n",
       "      <td>theprint national interest root delhis hindu m...</td>\n",
       "      <td>0</td>\n",
       "      <td>NaN</td>\n",
       "      <td>CAA-NRC-NPR</td>\n",
       "      <td>fb8hjz</td>\n",
       "    </tr>\n",
       "    <tr>\n",
       "      <th>2202</th>\n",
       "      <td>step turn nazi germany</td>\n",
       "      <td>7</td>\n",
       "      <td>The [steps to death](https://imgur.com/a/3QMuD...</td>\n",
       "      <td>india comments fz gjd step turning</td>\n",
       "      <td>6</td>\n",
       "      <td>people cause dissent step towards ing nazi ger...</td>\n",
       "      <td>CAA-NRC-NPR</td>\n",
       "      <td>fz4gjd</td>\n",
       "    </tr>\n",
       "    <tr>\n",
       "      <th>2203</th>\n",
       "      <td>rant</td>\n",
       "      <td>15</td>\n",
       "      <td>This is just an expression of my personal opin...</td>\n",
       "      <td>india comments fl toc rant</td>\n",
       "      <td>8</td>\n",
       "      <td>make sense congress need major change need act...</td>\n",
       "      <td>CAA-NRC-NPR</td>\n",
       "      <td>fl5toc</td>\n",
       "    </tr>\n",
       "    <tr>\n",
       "      <th>2204</th>\n",
       "      <td>reason protest modi bjp</td>\n",
       "      <td>435</td>\n",
       "      <td>Here, I have compiled a list of points that ca...</td>\n",
       "      <td>india comments enc sj reasons protest modi bjp</td>\n",
       "      <td>112</td>\n",
       "      <td>hindu rashtra lie inch chest nice would add re...</td>\n",
       "      <td>CAA-NRC-NPR</td>\n",
       "      <td>enc8sj</td>\n",
       "    </tr>\n",
       "    <tr>\n",
       "      <th>2205</th>\n",
       "      <td>problem current caa protest right winger persp...</td>\n",
       "      <td>5</td>\n",
       "      <td>Note: The post is based on the fundamental pre...</td>\n",
       "      <td>india comments yyo problem current caa protests</td>\n",
       "      <td>133</td>\n",
       "      <td>solid proposal already solid proposal century ...</td>\n",
       "      <td>CAA-NRC-NPR</td>\n",
       "      <td>f96yyo</td>\n",
       "    </tr>\n",
       "    <tr>\n",
       "      <th>2206</th>\n",
       "      <td>still insist caa npr effect indian legally</td>\n",
       "      <td>368</td>\n",
       "      <td>So the premise that the CAA, NRC and such ways...</td>\n",
       "      <td>india comments etapvq still insist caa npr</td>\n",
       "      <td>42</td>\n",
       "      <td>country rely state deliver food trust state ru...</td>\n",
       "      <td>CAA-NRC-NPR</td>\n",
       "      <td>etapvq</td>\n",
       "    </tr>\n",
       "    <tr>\n",
       "      <th>2207</th>\n",
       "      <td>could anyone might know indira gandhi kindly t...</td>\n",
       "      <td>6</td>\n",
       "      <td>Some of the videos that I'd come across today ...</td>\n",
       "      <td>india comments fyaufk could anyone might know ...</td>\n",
       "      <td>2</td>\n",
       "      <td>p find youtube watch hcuezm lar good old dd pl...</td>\n",
       "      <td>CAA-NRC-NPR</td>\n",
       "      <td>fyaufk</td>\n",
       "    </tr>\n",
       "    <tr>\n",
       "      <th>2208</th>\n",
       "      <td>experience anti caa nrc protest san francisco ...</td>\n",
       "      <td>110</td>\n",
       "      <td>&lt;throwaway account&gt;    \\n\\n\\nSo a protest was ...</td>\n",
       "      <td>india comments ev experience anti caanrc prote...</td>\n",
       "      <td>23</td>\n",
       "      <td>brave guy sure constipation face uncle felt sm...</td>\n",
       "      <td>CAA-NRC-NPR</td>\n",
       "      <td>ev31y0</td>\n",
       "    </tr>\n",
       "    <tr>\n",
       "      <th>2209</th>\n",
       "      <td>problem anti caa protest message adopt liberal...</td>\n",
       "      <td>86</td>\n",
       "      <td>The CAA is a mistake. That much is certain. Bu...</td>\n",
       "      <td>india comments eis lf problem anticaa protests</td>\n",
       "      <td>51</td>\n",
       "      <td>kejriwal one nrc disproportionately affect poo...</td>\n",
       "      <td>CAA-NRC-NPR</td>\n",
       "      <td>eis5lf</td>\n",
       "    </tr>\n",
       "    <tr>\n",
       "      <th>2210</th>\n",
       "      <td>need help hindutva subscribed family member</td>\n",
       "      <td>11</td>\n",
       "      <td>*My mother is a radicalized hindutva fanatic, ...</td>\n",
       "      <td>india comments fd vdd need help hindutvasubscr...</td>\n",
       "      <td>4</td>\n",
       "      <td>troll post islamic golden age post ridiculousl...</td>\n",
       "      <td>CAA-NRC-NPR</td>\n",
       "      <td>fd5vdd</td>\n",
       "    </tr>\n",
       "    <tr>\n",
       "      <th>2211</th>\n",
       "      <td>modest proposal end rap country</td>\n",
       "      <td>59</td>\n",
       "      <td>In light of the genius of the Government in ha...</td>\n",
       "      <td>india comments eiw modest proposal end rapes c...</td>\n",
       "      <td>41</td>\n",
       "      <td>get careful cell pass pm hm run idea would pro...</td>\n",
       "      <td>CAA-NRC-NPR</td>\n",
       "      <td>eiw191</td>\n",
       "    </tr>\n",
       "    <tr>\n",
       "      <th>2212</th>\n",
       "      <td>hindu danger economy democracy danger</td>\n",
       "      <td>211</td>\n",
       "      <td>Hindu khatre mein nahi hai. Economy aur democr...</td>\n",
       "      <td>india comments ehnbq hindus danger economy dem...</td>\n",
       "      <td>17</td>\n",
       "      <td>bhakts muslim majority pakistan persecute also...</td>\n",
       "      <td>CAA-NRC-NPR</td>\n",
       "      <td>ehnbq5</td>\n",
       "    </tr>\n",
       "    <tr>\n",
       "      <th>2213</th>\n",
       "      <td>india protest caa nrc detail exhaustive explai...</td>\n",
       "      <td>267</td>\n",
       "      <td>Why are we protesting against the CAA and NRC?...</td>\n",
       "      <td>india comments eekdl india protesting caa nrc</td>\n",
       "      <td>23</td>\n",
       "      <td>source censusindia gov act rule notification c...</td>\n",
       "      <td>CAA-NRC-NPR</td>\n",
       "      <td>eekdl1</td>\n",
       "    </tr>\n",
       "    <tr>\n",
       "      <th>2214</th>\n",
       "      <td>leave lead anti caa movement liberal try seize</td>\n",
       "      <td>9</td>\n",
       "      <td>It is the Left that is leading the movement ag...</td>\n",
       "      <td>india comments eox vh left leading anticaa</td>\n",
       "      <td>19</td>\n",
       "      <td>ah yes half assed centrist fascist enablers no...</td>\n",
       "      <td>CAA-NRC-NPR</td>\n",
       "      <td>eox8vh</td>\n",
       "    </tr>\n",
       "    <tr>\n",
       "      <th>2215</th>\n",
       "      <td>kerala chief minister duty bound approach gove...</td>\n",
       "      <td>13</td>\n",
       "      <td>New Delhi: Kerala Governor Arif Mohammad Khan ...</td>\n",
       "      <td>india comments esfbrh kerala chief minister du...</td>\n",
       "      <td>5</td>\n",
       "      <td>bigot hypocrite boot licker resolution demand ...</td>\n",
       "      <td>CAA-NRC-NPR</td>\n",
       "      <td>esfbrh</td>\n",
       "    </tr>\n",
       "    <tr>\n",
       "      <th>2216</th>\n",
       "      <td>question regard caa</td>\n",
       "      <td>11</td>\n",
       "      <td>1. What is the total number of immigrants/ref...</td>\n",
       "      <td>india comments epes questions regarding caa</td>\n",
       "      <td>4</td>\n",
       "      <td>know final number nationwide nrc happen hopefu...</td>\n",
       "      <td>CAA-NRC-NPR</td>\n",
       "      <td>epes4q</td>\n",
       "    </tr>\n",
       "    <tr>\n",
       "      <th>2217</th>\n",
       "      <td>protest inclusion prosecute minority pakistan ...</td>\n",
       "      <td>39</td>\n",
       "      <td>This is the official line from BJP including t...</td>\n",
       "      <td>india comments ecxyeg protests inclusion</td>\n",
       "      <td>9</td>\n",
       "      <td>sorry dont even buy bullshit persecuted minori...</td>\n",
       "      <td>CAA-NRC-NPR</td>\n",
       "      <td>ecxyeg</td>\n",
       "    </tr>\n",
       "    <tr>\n",
       "      <th>2218</th>\n",
       "      <td>frequently ask question npr yet</td>\n",
       "      <td>31</td>\n",
       "      <td>**What is this NPR I am suddenly hearing about...</td>\n",
       "      <td>india comments ef tb frequently asked question...</td>\n",
       "      <td>4</td>\n",
       "      <td>nice answer read question person nri nrc imple...</td>\n",
       "      <td>CAA-NRC-NPR</td>\n",
       "      <td>ef74tb</td>\n",
       "    </tr>\n",
       "    <tr>\n",
       "      <th>2219</th>\n",
       "      <td>npr affect</td>\n",
       "      <td>77</td>\n",
       "      <td>NPR is first step of the National Register of ...</td>\n",
       "      <td>india comments eez npr affect</td>\n",
       "      <td>3</td>\n",
       "      <td>uhh kya ham kaagaz dikhayenge thanks explanation</td>\n",
       "      <td>CAA-NRC-NPR</td>\n",
       "      <td>eez610</td>\n",
       "    </tr>\n",
       "    <tr>\n",
       "      <th>2220</th>\n",
       "      <td>protest relections break constitution whats st...</td>\n",
       "      <td>16</td>\n",
       "      <td>People should just protest for all the NRC NPR...</td>\n",
       "      <td>india comments efrzjb cant protest relections ...</td>\n",
       "      <td>5</td>\n",
       "      <td>constitutional way election mobilize house tow...</td>\n",
       "      <td>CAA-NRC-NPR</td>\n",
       "      <td>efrzjb</td>\n",
       "    </tr>\n",
       "    <tr>\n",
       "      <th>2221</th>\n",
       "      <td>state suppression label dissent anti national</td>\n",
       "      <td>2</td>\n",
       "      <td>\\n\\nIndia above everything is a democracy. But...</td>\n",
       "      <td>india comments evi state suppression labeling</td>\n",
       "      <td>2</td>\n",
       "      <td>lot blame state affair must take opposition pa...</td>\n",
       "      <td>CAA-NRC-NPR</td>\n",
       "      <td>evi93u</td>\n",
       "    </tr>\n",
       "    <tr>\n",
       "      <th>2222</th>\n",
       "      <td>something reflect ongoing protest</td>\n",
       "      <td>28</td>\n",
       "      <td>With the ongoing protests over the CAA and the...</td>\n",
       "      <td>india comments el something reflect ongoing pr...</td>\n",
       "      <td>2</td>\n",
       "      <td>protest symbol among others fight discriminati...</td>\n",
       "      <td>CAA-NRC-NPR</td>\n",
       "      <td>el6n9o</td>\n",
       "    </tr>\n",
       "    <tr>\n",
       "      <th>2223</th>\n",
       "      <td>unofficial termination letter student jadavpur...</td>\n",
       "      <td>95</td>\n",
       "      <td>[Stop Convocation](https://www.ndtv.com/india-...</td>\n",
       "      <td>india comments ef unofficial termination lette...</td>\n",
       "      <td>0</td>\n",
       "      <td>NaN</td>\n",
       "      <td>CAA-NRC-NPR</td>\n",
       "      <td>ef0n1x</td>\n",
       "    </tr>\n",
       "    <tr>\n",
       "      <th>2224</th>\n",
       "      <td>citizenship amendment act cab caa national reg...</td>\n",
       "      <td>14</td>\n",
       "      <td>The internet rabbit hole took me to various pl...</td>\n",
       "      <td>india comments ec rbh citizenship amendment ac...</td>\n",
       "      <td>2</td>\n",
       "      <td>thank make post true nrc propose since long ti...</td>\n",
       "      <td>CAA-NRC-NPR</td>\n",
       "      <td>ec4rbh</td>\n",
       "    </tr>\n",
       "  </tbody>\n",
       "</table>\n",
       "<p>2225 rows × 8 columns</p>\n",
       "</div>"
      ],
      "text/plain": [
       "                                                  title  score  \\\n",
       "0     untouchability even quarantine never take food...     54   \n",
       "1     delhi govt source names cm arvind kejriwal dep...    303   \n",
       "2     delhi ap singh advocate delhi gang rape convic...     18   \n",
       "3     supreme court verdict sc st quota create polit...    109   \n",
       "4                            entrance exam schedule may     12   \n",
       "5     advisory schedule international mercial passen...     35   \n",
       "6     roommate india indian american citizen schedul...     27   \n",
       "7        ministry score fund utilisation schedule caste     47   \n",
       "8     hydroxychloroquine schedule drug sell prescrip...     26   \n",
       "9     maharashtra govt school urban area maharashtra...     31   \n",
       "10    askindia indigo cancel flight less hour due ba...     12   \n",
       "11    nirbhaya case sc quashes death row convict ple...     32   \n",
       "12                               let fix sleep schedule     15   \n",
       "13    hr people people ladder apply role trading fir...      5   \n",
       "14    massive mob storm schedule caste colony search...    213   \n",
       "15    source bangladesh foreign minister ak abdul mo...     17   \n",
       "16    india highly questionable work culture benefit...    167   \n",
       "17    job consultancy panies request pan card schedu...     24   \n",
       "18    woman porn clip appear husband phone wedding n...    146   \n",
       "19               continue practice untouchability india   2600   \n",
       "20                                   people still hoard     58   \n",
       "21    ladakh student organisation unified ladakh hol...     52   \n",
       "22    anyone india successfully able replace maid ro...     14   \n",
       "23                                   hptdc bus schedule      5   \n",
       "24      fresher tomorrow schedule interview thing aware     10   \n",
       "25    rocket launch pslv schedule launch risat br me...      4   \n",
       "26    decides whether munity give schedule tribe status     10   \n",
       "27    india ahead schedule ac plishing solar power t...      7   \n",
       "28    pile absolute best way indians pass time lockdown    813   \n",
       "29                  late night random discussion thread     12   \n",
       "...                                                 ...    ...   \n",
       "2195  india need investment imf gita gopinath snub j...     64   \n",
       "2196  realistic option pathways defeat modi work bjp...     89   \n",
       "2197  woman detain munity hall outside besant nagar ...    163   \n",
       "2198  npr day modi say nrc word utter cabinet clear ...     51   \n",
       "2199  ministry home affair mha decide withdraw panie...     85   \n",
       "2200  woman anticaaprotest townhall bangalore proud ...    303   \n",
       "2201  root delhi hindu muslim riot malevolent creepe...     17   \n",
       "2202                             step turn nazi germany      7   \n",
       "2203                                               rant     15   \n",
       "2204                            reason protest modi bjp    435   \n",
       "2205  problem current caa protest right winger persp...      5   \n",
       "2206         still insist caa npr effect indian legally    368   \n",
       "2207  could anyone might know indira gandhi kindly t...      6   \n",
       "2208  experience anti caa nrc protest san francisco ...    110   \n",
       "2209  problem anti caa protest message adopt liberal...     86   \n",
       "2210        need help hindutva subscribed family member     11   \n",
       "2211                    modest proposal end rap country     59   \n",
       "2212              hindu danger economy democracy danger    211   \n",
       "2213  india protest caa nrc detail exhaustive explai...    267   \n",
       "2214     leave lead anti caa movement liberal try seize      9   \n",
       "2215  kerala chief minister duty bound approach gove...     13   \n",
       "2216                                question regard caa     11   \n",
       "2217  protest inclusion prosecute minority pakistan ...     39   \n",
       "2218                    frequently ask question npr yet     31   \n",
       "2219                                         npr affect     77   \n",
       "2220  protest relections break constitution whats st...     16   \n",
       "2221      state suppression label dissent anti national      2   \n",
       "2222                  something reflect ongoing protest     28   \n",
       "2223  unofficial termination letter student jadavpur...     95   \n",
       "2224  citizenship amendment act cab caa national reg...     14   \n",
       "\n",
       "                                                   body  \\\n",
       "0                                                   NaN   \n",
       "1                                                   NaN   \n",
       "2                                                   NaN   \n",
       "3                                                   NaN   \n",
       "4      CLAT, AILET, NEET, JEE have been postponed bu...   \n",
       "5                                                   NaN   \n",
       "6     He was working remotely from February 24th and...   \n",
       "7                                                   NaN   \n",
       "8                                                   NaN   \n",
       "9                                                   NaN   \n",
       "10    I had Indigo flight from HYD-BOM on 14th Dec @...   \n",
       "11                                                  NaN   \n",
       "12    Hey guys, I thought there must be others in In...   \n",
       "13    I have no problem in shifting to Hyderabad if ...   \n",
       "14                                                  NaN   \n",
       "15                                                  NaN   \n",
       "16    This experiment has been adopted intermittentl...   \n",
       "17    So my wife has been trying to attend interview...   \n",
       "18                                                  NaN   \n",
       "19                                                  NaN   \n",
       "20    I went to Dmart today morning. They had a long...   \n",
       "21                                                  NaN   \n",
       "22    Just curious. If anyone has bought a Roomba or...   \n",
       "23    Does anyone know when the HPTDC  schedule (LEH...   \n",
       "24    Hey all ,I'm major of cse . tomorrow at pune m...   \n",
       "25                                                  NaN   \n",
       "26    This question is asked keeping in mind the rec...   \n",
       "27                                                  NaN   \n",
       "28    For the past few days my team and I have been ...   \n",
       "29    ^Beep ^Boop ^Bot, ^I ^am ^a ^bot! ^if ^any ^pr...   \n",
       "...                                                 ...   \n",
       "2195                                                NaN   \n",
       "2196  With the way things are going, I have little d...   \n",
       "2197                                                NaN   \n",
       "2198                                                NaN   \n",
       "2199                                                NaN   \n",
       "2200                                                NaN   \n",
       "2201                                                NaN   \n",
       "2202  The [steps to death](https://imgur.com/a/3QMuD...   \n",
       "2203  This is just an expression of my personal opin...   \n",
       "2204  Here, I have compiled a list of points that ca...   \n",
       "2205  Note: The post is based on the fundamental pre...   \n",
       "2206  So the premise that the CAA, NRC and such ways...   \n",
       "2207  Some of the videos that I'd come across today ...   \n",
       "2208  <throwaway account>    \\n\\n\\nSo a protest was ...   \n",
       "2209  The CAA is a mistake. That much is certain. Bu...   \n",
       "2210  *My mother is a radicalized hindutva fanatic, ...   \n",
       "2211  In light of the genius of the Government in ha...   \n",
       "2212  Hindu khatre mein nahi hai. Economy aur democr...   \n",
       "2213  Why are we protesting against the CAA and NRC?...   \n",
       "2214  It is the Left that is leading the movement ag...   \n",
       "2215  New Delhi: Kerala Governor Arif Mohammad Khan ...   \n",
       "2216   1. What is the total number of immigrants/ref...   \n",
       "2217  This is the official line from BJP including t...   \n",
       "2218  **What is this NPR I am suddenly hearing about...   \n",
       "2219  NPR is first step of the National Register of ...   \n",
       "2220  People should just protest for all the NRC NPR...   \n",
       "2221  \\n\\nIndia above everything is a democracy. But...   \n",
       "2222  With the ongoing protests over the CAA and the...   \n",
       "2223  [Stop Convocation](https://www.ndtv.com/india-...   \n",
       "2224  The internet rabbit hole took me to various pl...   \n",
       "\n",
       "                                                    url  num_comments  \\\n",
       "0     india coronavirus outbreak untouchability even...             7   \n",
       "1                                            ani status            30   \n",
       "2                                            ani status            21   \n",
       "3     scroll article supreme courts verdict sc st qu...            47   \n",
       "4     india comments fvcvo entrance exams scheduled may             3   \n",
       "5                                      pib india status             4   \n",
       "6       india comments fhgyhu roommate india hes indian             4   \n",
       "7     news politics nation ministry scores fund util...             1   \n",
       "8                                             mohfw gov             4   \n",
       "9                                            ani status             4   \n",
       "10    india comments egtg askindia indigo cancelled ...            12   \n",
       "11    news india nirbhaya case sc quashes death row ...             0   \n",
       "12          india comments wido lets fix sleep schedule            11   \n",
       "13    india comments dj hr people people ladder applied            10   \n",
       "14    article massive mob storms sc colony search in...            12   \n",
       "15                                           ani status             3   \n",
       "16    india comments drbswn india highly questionabl...           122   \n",
       "17    india comments esd js job consultancy companie...             8   \n",
       "18    mirror crime article womans porn clip appears ...            87   \n",
       "19                                            redd hssr           637   \n",
       "20              india comments fx people still hoarding            26   \n",
       "21                                           ani status             5   \n",
       "22    india comments dgtk anyone india successfully ...            27   \n",
       "23               india comments shzg hptdc bus schedule             0   \n",
       "24    india comments dir fresher tomorrow scheduled ...             7   \n",
       "25    isro gov sites default files flipping book psl...             0   \n",
       "26    india comments dfccw decides whether community...             6   \n",
       "27    news india ahead schedule plishing solar power...             2   \n",
       "28    india comments fsxcdg compiled absolute best w...            97   \n",
       "29    india comments ev xn late night random discuss...           326   \n",
       "...                                                 ...           ...   \n",
       "2195  india news imf gita gopinath centre snub jeff ...             8   \n",
       "2196  india comments faaj realistic optionspathways ...           109   \n",
       "2197                               lonelyredcurl status             9   \n",
       "2198  scroll article npr days modi says nrc word has...            11   \n",
       "2199                                         ani status            20   \n",
       "2200                              shayonisengupt status             6   \n",
       "2201  theprint national interest root delhis hindu m...             0   \n",
       "2202                 india comments fz gjd step turning             6   \n",
       "2203                         india comments fl toc rant             8   \n",
       "2204     india comments enc sj reasons protest modi bjp           112   \n",
       "2205    india comments yyo problem current caa protests           133   \n",
       "2206         india comments etapvq still insist caa npr            42   \n",
       "2207  india comments fyaufk could anyone might know ...             2   \n",
       "2208  india comments ev experience anti caanrc prote...            23   \n",
       "2209     india comments eis lf problem anticaa protests            51   \n",
       "2210  india comments fd vdd need help hindutvasubscr...             4   \n",
       "2211  india comments eiw modest proposal end rapes c...            41   \n",
       "2212  india comments ehnbq hindus danger economy dem...            17   \n",
       "2213      india comments eekdl india protesting caa nrc            23   \n",
       "2214         india comments eox vh left leading anticaa            19   \n",
       "2215  india comments esfbrh kerala chief minister du...             5   \n",
       "2216        india comments epes questions regarding caa             4   \n",
       "2217           india comments ecxyeg protests inclusion             9   \n",
       "2218  india comments ef tb frequently asked question...             4   \n",
       "2219                      india comments eez npr affect             3   \n",
       "2220  india comments efrzjb cant protest relections ...             5   \n",
       "2221      india comments evi state suppression labeling             2   \n",
       "2222  india comments el something reflect ongoing pr...             2   \n",
       "2223  india comments ef unofficial termination lette...             0   \n",
       "2224  india comments ec rbh citizenship amendment ac...             2   \n",
       "\n",
       "                                               comments        flair      id  \n",
       "0     let feel hungry couple day max week care cook ...    Scheduled  fzvwz8  \n",
       "1     beyond petty inclusion delhi government school...    Scheduled  f7ogd8  \n",
       "2     hunch guy try expose loophole legal system nev...    Scheduled  flgvah  \n",
       "3     muslim reservation two distraction use indian ...    Scheduled  f1o839  \n",
       "4     bachega india tabhi toh padhega india gand mar...    Scheduled  fvcvo1  \n",
       "5     oh boy chalo bhaisahab sabji ka dukaan main da...    Scheduled  fl8zf5  \n",
       "6     afaik still ban entry indian citizen issue che...    Scheduled  fhgyhu  \n",
       "7     fund sanskrit university public money public w...    Scheduled  fg8v3u  \n",
       "8                      someone give eli drug use delete    Scheduled  fpr0on  \n",
       "9     bc student immune virus fuck dickhead indian f...    Scheduled  fii4k1  \n",
       "10    yes think legally eligible claim pensation ted...    Scheduled  egtg1j  \n",
       "11                                                  NaN    Scheduled  evio1q  \n",
       "12    hey man sleep already maintain sleep hygiene m...    Scheduled  f3wido  \n",
       "13    unless dire need job skip interview skype reim...    Scheduled  e9z0dj  \n",
       "14    society go back rotten era caste system inter ...    Scheduled  dev3md  \n",
       "15    bangladesh literally friendly neighbor god for...    Scheduled  e9lfy6  \n",
       "16    single big minus point indian society non exis...    Scheduled  drbswn  \n",
       "17    happen get suspicious try search google indeed...    Scheduled  esd9js  \n",
       "18    woman porn clip appear porn actress woman sex ...    Scheduled  fk0d9w  \n",
       "19    state manipur might perrenial conflict proud p...    Scheduled  eptyqa  \n",
       "20    think would good time go back pre mart era pra...    Scheduled  fx3t1t  \n",
       "21    ladakh kanyakumari assam mumbai part india lea...    Scheduled  eny771  \n",
       "22    successfully replace maid roomba job well get ...    Scheduled  g0dgtk  \n",
       "23                                                  NaN    Scheduled  f7shzg  \n",
       "24    punctual dress formal make sure clothes iron s...    Scheduled  dir745  \n",
       "25                                                  NaN    Scheduled  e8be4n  \n",
       "26    parameter include limited type job munity aver...    Scheduled  dfccw2  \n",
       "27    much hate current government admit do great jo...    Scheduled  em5f8r  \n",
       "28    great initiative many people focus nearest con...    Scheduled  fsxcdg  \n",
       "29    fuck bhenchod reddit theek se randi rona karne...    Scheduled  ev75xn  \n",
       "...                                                 ...          ...     ...  \n",
       "2195  india need caa npr nrc gita maam please unders...  CAA-NRC-NPR  errbt1  \n",
       "2196  say hope country realistic method imo focus ec...  CAA-NRC-NPR  faaj1d  \n",
       "2197  include boy detain chennai police stag kolam r...  CAA-NRC-NPR  eh2lbm  \n",
       "2198  official website mha write npr first step towa...  CAA-NRC-NPR  ef2ys3  \n",
       "2199  government backfoot nrc relieve security force...  CAA-NRC-NPR  ef3vg3  \n",
       "2200  reason woman protest participation woman anti ...  CAA-NRC-NPR  eg7uiw  \n",
       "2201                                                NaN  CAA-NRC-NPR  fb8hjz  \n",
       "2202  people cause dissent step towards ing nazi ger...  CAA-NRC-NPR  fz4gjd  \n",
       "2203  make sense congress need major change need act...  CAA-NRC-NPR  fl5toc  \n",
       "2204  hindu rashtra lie inch chest nice would add re...  CAA-NRC-NPR  enc8sj  \n",
       "2205  solid proposal already solid proposal century ...  CAA-NRC-NPR  f96yyo  \n",
       "2206  country rely state deliver food trust state ru...  CAA-NRC-NPR  etapvq  \n",
       "2207  p find youtube watch hcuezm lar good old dd pl...  CAA-NRC-NPR  fyaufk  \n",
       "2208  brave guy sure constipation face uncle felt sm...  CAA-NRC-NPR  ev31y0  \n",
       "2209  kejriwal one nrc disproportionately affect poo...  CAA-NRC-NPR  eis5lf  \n",
       "2210  troll post islamic golden age post ridiculousl...  CAA-NRC-NPR  fd5vdd  \n",
       "2211  get careful cell pass pm hm run idea would pro...  CAA-NRC-NPR  eiw191  \n",
       "2212  bhakts muslim majority pakistan persecute also...  CAA-NRC-NPR  ehnbq5  \n",
       "2213  source censusindia gov act rule notification c...  CAA-NRC-NPR  eekdl1  \n",
       "2214  ah yes half assed centrist fascist enablers no...  CAA-NRC-NPR  eox8vh  \n",
       "2215  bigot hypocrite boot licker resolution demand ...  CAA-NRC-NPR  esfbrh  \n",
       "2216  know final number nationwide nrc happen hopefu...  CAA-NRC-NPR  epes4q  \n",
       "2217  sorry dont even buy bullshit persecuted minori...  CAA-NRC-NPR  ecxyeg  \n",
       "2218  nice answer read question person nri nrc imple...  CAA-NRC-NPR  ef74tb  \n",
       "2219   uhh kya ham kaagaz dikhayenge thanks explanation  CAA-NRC-NPR  eez610  \n",
       "2220  constitutional way election mobilize house tow...  CAA-NRC-NPR  efrzjb  \n",
       "2221  lot blame state affair must take opposition pa...  CAA-NRC-NPR  evi93u  \n",
       "2222  protest symbol among others fight discriminati...  CAA-NRC-NPR  el6n9o  \n",
       "2223                                                NaN  CAA-NRC-NPR  ef0n1x  \n",
       "2224  thank make post true nrc propose since long ti...  CAA-NRC-NPR  ec4rbh  \n",
       "\n",
       "[2225 rows x 8 columns]"
      ]
     },
     "execution_count": 3,
     "metadata": {},
     "output_type": "execute_result"
    }
   ],
   "source": [
    "data"
   ]
  },
  {
   "cell_type": "markdown",
   "metadata": {},
   "source": [
    "# 1. Bag of words Model on conventional ML algorithms\n",
    "\n",
    "We cannot input text directly to machine learning models. We need to convert the text to a vector of numbers, this step is called Feature extraction\n",
    "\n",
    "For this we are going to use B.O.W (Bag of words) model, It focuses only on the occurence of words. The sentence structure, context, order of words is lost in B.O.W model.\n",
    "\n",
    "First we will convert each document in corpus to TF-IDF vector\n",
    "\n",
    "We will input these vectors to Machine Learning models like Naive-Bayes, Support-Vector-Machine, Logistic-Regression, Random-Forest"
   ]
  },
  {
   "cell_type": "markdown",
   "metadata": {},
   "source": [
    "# Preparing data for model\n",
    "\n",
    "It is possible that some features from the dataset may perform better than others. For instance, Only using Title for our model may give better accuracy than using only url, or maybe a combination of such features might result in a better accuracy.\n",
    "\n",
    "This is hard to guess at the moment, so I plan to try out different combinations of inputs from the dataset to get the best accuracy:- Title, url, comments, (Title + url + comments), (Title + url) , etc.\n",
    "\n",
    "Lets see which performs the best, we will use those features in our final model."
   ]
  },
  {
   "cell_type": "code",
   "execution_count": 8,
   "metadata": {},
   "outputs": [],
   "source": [
    "def prepare_data(columns):\n",
    "    # Prepares Train and test sets for models\n",
    "        \n",
    "    if len(columns) > 2:\n",
    "        df = data[columns].fillna(\"\")\n",
    "        columns.remove('flair')\n",
    "        X = df[columns].apply(lambda x : ' '.join(x),axis = 1)                     \n",
    "       \n",
    "    else :\n",
    "        df = data[columns].dropna()\n",
    "        X = df[columns[0]]\n",
    "        \n",
    "    X = X.values          # X - input\n",
    "    \n",
    "    le = LabelEncoder()\n",
    "    Y = le.fit_transform(df['flair'])    # Y - target_labels\n",
    "    \n",
    "    X_train, X_test, y_train, y_test = train_test_split(X, Y, test_size=0.15, random_state=42)   # ( 85 : 15 )\n",
    "    return (X_train, X_test, y_train, y_test)"
   ]
  },
  {
   "cell_type": "code",
   "execution_count": 9,
   "metadata": {},
   "outputs": [
    {
     "name": "stdout",
     "output_type": "stream",
     "text": [
      "X_train shape  =  (1891,)\n",
      "y_train shape  =  (1891,)\n",
      "X_test shape  =  (334,)\n",
      "y_test shape  =  (334,)\n"
     ]
    }
   ],
   "source": [
    "# Extracting 'Title' from dataset\n",
    "(X_train, X_test, y_train, y_test) = prepare_data(['title','flair'])\n",
    "print(\"X_train shape  = \",X_train.shape)\n",
    "print(\"y_train shape  = \",y_train.shape)\n",
    "print(\"X_test shape  = \",X_test.shape)\n",
    "print(\"y_test shape  = \",y_test.shape)"
   ]
  },
  {
   "cell_type": "markdown",
   "metadata": {},
   "source": [
    "# Data is ready now we'll apply it to different classifiers"
   ]
  },
  {
   "cell_type": "markdown",
   "metadata": {},
   "source": [
    "Linear SVC\n",
    "\n",
    "Naive - Bayes\n",
    "\n",
    "Logistic Regression\n",
    "\n",
    "Random Forest classifier"
   ]
  },
  {
   "cell_type": "code",
   "execution_count": 6,
   "metadata": {},
   "outputs": [
    {
     "name": "stdout",
     "output_type": "stream",
     "text": [
      "LinearSVC   ----->   0.6586826347305389\n",
      "\n",
      "Naive - Bayes   ----->   0.6167664670658682\n",
      "\n"
     ]
    },
    {
     "name": "stderr",
     "output_type": "stream",
     "text": [
      "/Library/Frameworks/Python.framework/Versions/3.7/lib/python3.7/site-packages/sklearn/linear_model/logistic.py:432: FutureWarning: Default solver will be changed to 'lbfgs' in 0.22. Specify a solver to silence this warning.\n",
      "  FutureWarning)\n",
      "/Library/Frameworks/Python.framework/Versions/3.7/lib/python3.7/site-packages/sklearn/linear_model/logistic.py:469: FutureWarning: Default multi_class will be changed to 'auto' in 0.22. Specify the multi_class option to silence this warning.\n",
      "  \"this warning.\", FutureWarning)\n"
     ]
    },
    {
     "name": "stdout",
     "output_type": "stream",
     "text": [
      "LogisticRegression   ----->   0.6616766467065869\n",
      "\n",
      "Random Forest Classifier   ----->   0.6377245508982036\n",
      "\n"
     ]
    }
   ],
   "source": [
    "classifiers = [ ('LinearSVC',LinearSVC(loss='hinge',C=0.2)) , ('Naive - Bayes',MultinomialNB() ),('LogisticRegression' ,LogisticRegression(C = 0.9)) ,('Random Forest Classifier' ,RandomForestClassifier(n_estimators=100,max_depth=100)) ]\n",
    "for clf in classifiers:\n",
    "    \n",
    "    text_clf = Pipeline([('tfidf',TfidfVectorizer(ngram_range=(1,2))),        # tf-idf vectorisation\n",
    "                    (clf[0],clf[1])                                            # estimator\n",
    "                   ])\n",
    "    \n",
    "    text_clf.fit(X_train,y_train)\n",
    "    predicted =  text_clf.predict(X_test)\n",
    "    accuracy = np.sum(predicted == y_test)/len(y_test)\n",
    "    print(clf[0],'  ----->  ',accuracy,end = '\\n\\n')\n"
   ]
  },
  {
   "cell_type": "code",
   "execution_count": 7,
   "metadata": {},
   "outputs": [
    {
     "name": "stdout",
     "output_type": "stream",
     "text": [
      "[ 7  7  9  7 10  4  9 10  5  0  7  5  4  7  5  7  2  5  7  5  8  9  7  5\n",
      "  8 10  5  9  6  9  4  0  1  5  8  7  7  9  1  4  3 10  7  4  2  2  2  7\n",
      "  7  2  5  7  0  8  5  0  0  0  8  7  8  5  5  7  4  6  7  8  0  9  0  0\n",
      "  3  4  7  9  4  6  8  8  9  9  8  5  6  9  9 10  5  4  4  7  0  8  4  7\n",
      "  6  6  8  0  7 10  3  8 10 10  4  3  5 10  7  2  5  8 10 10  5  6  5 10\n",
      "  5  0  8  0  2  1  2  5  7  5  4  5  6 10  4  0  7  8  6  1  2  7 10  8\n",
      "  2  6  2  7  7  0  4  6  7  1  1  9  4  6  8  5  3  5  7  0  2  5  8  2\n",
      "  3  5  0  9  2  5  9  3  0 10  7  4 10  4  8  0  2  4  5  4  2  8  8 10\n",
      "  6  1  1  5 10  0  4  2 10  5  8  2  7 10 10  0 10  9  4  0  1  6  4  0\n",
      "  2  1  7  2  8  7  7  6  0  0  0  0  8  6  9  4  6  0  1  9  5  8  2  7\n",
      "  9  5  0  4  8  7  8  7  9  8 10  4  2  7  5  9  5  4  4  9  0  2  8  5\n",
      "  4  5  0  4  7  5  5  7  8  6  7  4  5 10  2  7  8  1  7  7  5  1  0  9\n",
      "  7  1  8  2  8  6  0  7  8  1  7  2  4  0  1  0  9  5  8  6  2  7  4  8\n",
      "  4  1  1  1  4  7  4  4  0  1  3  8  5  7  7  2  4 10  0  8 10  7]\n",
      "[ 4  7 10 10  9  4  7  0  5  6  7  5  4  2  5  1  2  5  1  5  8  6  6  5\n",
      "  8 10 10  6  9  9  4  6  1 10  6  6  6  6  2  4  9 10  6  4  2  2  2  9\n",
      " 10  2  5  8  0  8  9  0  0  6  2  7  8  5  5  7  4  6  7  8  0  9  6  0\n",
      "  3  4  9  6  4  7  8  8  9  9  8  3  6 10  9  5  5  4  4  7  6  6  4  7\n",
      "  6  6  8  0  7 10  6  8  7 10  4  0  5 10  6  2  9  8  2 10  0  6  5  6\n",
      "  5  2  7  0  2  1  2  5  7  6  4  9  4 10  4  0  7  7  6  7  2  7 10  0\n",
      "  2  6  2  7  7  0  4  6  6  1  1  6  4  6  9  5  6  5  7  0  9  9 10  2\n",
      "  3  5  0  6  7  5 10 10 10  2  6  4 10  4  5  6  2  4  5  4  2  8 10  8\n",
      "  6  1  1  7 10  8  4  2 10  5  8  2  2  9  0  9 10  0  4  0  1  9  4  0\n",
      "  2  1  2  2  8  6  7  9  6  0  0  0  8  0  9  4  6  0  1  6  8  1  2  6\n",
      "  9  5  6  4  6  7  9  4  0  5 10  4  2  7  5  6  5  4  4  6  0  2  5  5\n",
      "  4  5  0  4  6  5  5  7  8  7  7  4 10 10  6  7  4  1  6  7  8  1  0  9\n",
      "  7  9  9  2  8  6  0  7  8  1 10  2  4  0  1  8  6  5  6  3  9  7  4  8\n",
      "  4  1  1  6  4  6  4  4  0  1  6  6  5  7  6  2  4  6  2  8 10  7]\n"
     ]
    }
   ],
   "source": [
    "print(y_test)\n",
    "print(predicted)"
   ]
  },
  {
   "cell_type": "markdown",
   "metadata": {},
   "source": [
    "# URL"
   ]
  },
  {
   "cell_type": "code",
   "execution_count": 8,
   "metadata": {},
   "outputs": [
    {
     "name": "stdout",
     "output_type": "stream",
     "text": [
      "X_train shape  =  (1889,)\n",
      "y_train shape  =  (1889,)\n",
      "X_test shape  =  (334,)\n",
      "y_test shape  =  (334,)\n"
     ]
    }
   ],
   "source": [
    "# Extracting url column from dataset\n",
    "(X_train, X_test, y_train, y_test) = prepare_data(['url','flair'])\n",
    "print(\"X_train shape  = \",X_train.shape)\n",
    "print(\"y_train shape  = \",y_train.shape)\n",
    "print(\"X_test shape  = \",X_test.shape)\n",
    "print(\"y_test shape  = \",y_test.shape)"
   ]
  },
  {
   "cell_type": "code",
   "execution_count": 9,
   "metadata": {},
   "outputs": [
    {
     "name": "stdout",
     "output_type": "stream",
     "text": [
      "LinearSVC   ----->   0.4940119760479042\n",
      "\n",
      "Naive - Bayes   ----->   0.4281437125748503\n",
      "\n"
     ]
    },
    {
     "name": "stderr",
     "output_type": "stream",
     "text": [
      "/Library/Frameworks/Python.framework/Versions/3.7/lib/python3.7/site-packages/sklearn/linear_model/sag.py:337: ConvergenceWarning: The max_iter was reached which means the coef_ did not converge\n",
      "  \"the coef_ did not converge\", ConvergenceWarning)\n"
     ]
    },
    {
     "name": "stdout",
     "output_type": "stream",
     "text": [
      "LogisticRegression   ----->   0.49700598802395207\n",
      "\n",
      "Random Forest Classifier   ----->   0.47305389221556887\n",
      "\n"
     ]
    }
   ],
   "source": [
    "classifiers = [ ('LinearSVC',LinearSVC(loss='hinge',C=0.7)) , ('Naive - Bayes',MultinomialNB() ),('LogisticRegression' ,LogisticRegression(C = 25,solver='saga',penalty='l1',multi_class='multinomial')) ,('Random Forest Classifier' ,RandomForestClassifier(n_estimators=100,max_depth=100)) ]\n",
    "for clf in classifiers:\n",
    "    \n",
    "    text_clf = Pipeline([('tfidf',TfidfVectorizer(ngram_range=(1,2))),        \n",
    "                    (clf[0],clf[1])                                            \n",
    "                   ])\n",
    "    \n",
    "    text_clf.fit(X_train,y_train)\n",
    "    predicted =  text_clf.predict(X_test)\n",
    "    accuracy = np.sum(predicted == y_test)/len(y_test)\n",
    "    print(clf[0],'  ----->  ',accuracy,end = '\\n\\n')"
   ]
  },
  {
   "cell_type": "markdown",
   "metadata": {},
   "source": [
    "# Comments"
   ]
  },
  {
   "cell_type": "code",
   "execution_count": 10,
   "metadata": {},
   "outputs": [
    {
     "name": "stdout",
     "output_type": "stream",
     "text": [
      "X_train shape  =  (1677,)\n",
      "y_train shape  =  (1677,)\n",
      "X_test shape  =  (297,)\n",
      "y_test shape  =  (297,)\n"
     ]
    }
   ],
   "source": [
    "(X_train, X_test, y_train, y_test) = prepare_data(['comments','flair'])\n",
    "print(\"X_train shape  = \",X_train.shape)\n",
    "print(\"y_train shape  = \",y_train.shape)\n",
    "print(\"X_test shape  = \",X_test.shape)\n",
    "print(\"y_test shape  = \",y_test.shape)"
   ]
  },
  {
   "cell_type": "code",
   "execution_count": null,
   "metadata": {},
   "outputs": [
    {
     "name": "stdout",
     "output_type": "stream",
     "text": [
      "LinearSVC   ----->   0.47474747474747475\n",
      "\n",
      "Naive - Bayes   ----->   0.3872053872053872\n",
      "\n"
     ]
    },
    {
     "name": "stderr",
     "output_type": "stream",
     "text": [
      "/Library/Frameworks/Python.framework/Versions/3.7/lib/python3.7/site-packages/sklearn/linear_model/logistic.py:432: FutureWarning: Default solver will be changed to 'lbfgs' in 0.22. Specify a solver to silence this warning.\n",
      "  FutureWarning)\n",
      "/Library/Frameworks/Python.framework/Versions/3.7/lib/python3.7/site-packages/sklearn/linear_model/logistic.py:469: FutureWarning: Default multi_class will be changed to 'auto' in 0.22. Specify the multi_class option to silence this warning.\n",
      "  \"this warning.\", FutureWarning)\n"
     ]
    },
    {
     "name": "stdout",
     "output_type": "stream",
     "text": [
      "LogisticRegression   ----->   0.47474747474747475\n",
      "\n"
     ]
    }
   ],
   "source": [
    "classifiers = [ ('LinearSVC',LinearSVC(loss='hinge',C=1)) , ('Naive - Bayes',MultinomialNB() ),('LogisticRegression' ,LogisticRegression(C = 10)) ,('Random Forest Classifier' ,RandomForestClassifier(n_estimators=100)) ]\n",
    "for clf in classifiers:\n",
    "    \n",
    "    text_clf = Pipeline([('tfidf',TfidfVectorizer(ngram_range=(1,2))),        \n",
    "                    (clf[0],clf[1])                                            \n",
    "                   ])\n",
    "    \n",
    "    text_clf.fit(X_train,y_train)\n",
    "    predicted =  text_clf.predict(X_test)\n",
    "    accuracy = np.sum(predicted == y_test)/len(y_test)\n",
    "    print(clf[0],'  ----->  ',accuracy,end = '\\n\\n')"
   ]
  },
  {
   "cell_type": "markdown",
   "metadata": {},
   "source": [
    "# Title + url"
   ]
  },
  {
   "cell_type": "code",
   "execution_count": null,
   "metadata": {},
   "outputs": [],
   "source": [
    "(X_train, X_test, y_train, y_test) = prepare_data(['title','url','flair'])\n",
    "print(\"X_train shape  = \",X_train.shape)\n",
    "print(\"y_train shape  = \",y_train.shape)\n",
    "print(\"X_test shape  = \",X_test.shape)\n",
    "print(\"y_test shape  = \",y_test.shape)"
   ]
  },
  {
   "cell_type": "code",
   "execution_count": 22,
   "metadata": {},
   "outputs": [
    {
     "name": "stdout",
     "output_type": "stream",
     "text": [
      "LinearSVC   ----->   0.6616766467065869\n",
      "\n",
      "Naive - Bayes   ----->   0.6167664670658682\n",
      "\n"
     ]
    },
    {
     "name": "stderr",
     "output_type": "stream",
     "text": [
      "/Library/Frameworks/Python.framework/Versions/3.7/lib/python3.7/site-packages/sklearn/linear_model/logistic.py:432: FutureWarning: Default solver will be changed to 'lbfgs' in 0.22. Specify a solver to silence this warning.\n",
      "  FutureWarning)\n",
      "/Library/Frameworks/Python.framework/Versions/3.7/lib/python3.7/site-packages/sklearn/linear_model/logistic.py:469: FutureWarning: Default multi_class will be changed to 'auto' in 0.22. Specify the multi_class option to silence this warning.\n",
      "  \"this warning.\", FutureWarning)\n"
     ]
    },
    {
     "name": "stdout",
     "output_type": "stream",
     "text": [
      "LogisticRegression   ----->   0.6826347305389222\n",
      "\n",
      "Random Forest Classifier   ----->   0.6467065868263473\n",
      "\n"
     ]
    }
   ],
   "source": [
    "classifiers = [ ('LinearSVC',LinearSVC(loss='hinge',C=0.7)) , ('Naive - Bayes',MultinomialNB() ),('LogisticRegression' ,LogisticRegression(C = 0.9)) ,('Random Forest Classifier' ,RandomForestClassifier(n_estimators=100)) ]\n",
    "for clf in classifiers:\n",
    "    \n",
    "    text_clf = Pipeline([('tfidf',TfidfVectorizer(ngram_range=(1,2))),        \n",
    "                    (clf[0],clf[1])                                            \n",
    "                   ])\n",
    "    \n",
    "    text_clf.fit(X_train,y_train)\n",
    "    predicted =  text_clf.predict(X_test)\n",
    "    accuracy = np.sum(predicted == y_test)/len(y_test)\n",
    "    print(clf[0],'  ----->  ',accuracy,end = '\\n\\n')"
   ]
  },
  {
   "cell_type": "markdown",
   "metadata": {},
   "source": [
    "# Title + comments"
   ]
  },
  {
   "cell_type": "code",
   "execution_count": 23,
   "metadata": {},
   "outputs": [
    {
     "name": "stdout",
     "output_type": "stream",
     "text": [
      "X_train shape  =  (1891,)\n",
      "y_train shape  =  (1891,)\n",
      "X_test shape  =  (334,)\n",
      "y_test shape  =  (334,)\n"
     ]
    }
   ],
   "source": [
    "(X_train, X_test, y_train, y_test) = prepare_data(['title','comments','flair'])\n",
    "print(\"X_train shape  = \",X_train.shape)\n",
    "print(\"y_train shape  = \",y_train.shape)\n",
    "print(\"X_test shape  = \",X_test.shape)\n",
    "print(\"y_test shape  = \",y_test.shape)"
   ]
  },
  {
   "cell_type": "code",
   "execution_count": 24,
   "metadata": {},
   "outputs": [
    {
     "name": "stdout",
     "output_type": "stream",
     "text": [
      "LinearSVC   ----->   0.7125748502994012\n",
      "\n",
      "Naive - Bayes   ----->   0.5239520958083832\n",
      "\n"
     ]
    },
    {
     "name": "stderr",
     "output_type": "stream",
     "text": [
      "/Library/Frameworks/Python.framework/Versions/3.7/lib/python3.7/site-packages/sklearn/linear_model/logistic.py:432: FutureWarning: Default solver will be changed to 'lbfgs' in 0.22. Specify a solver to silence this warning.\n",
      "  FutureWarning)\n",
      "/Library/Frameworks/Python.framework/Versions/3.7/lib/python3.7/site-packages/sklearn/linear_model/logistic.py:469: FutureWarning: Default multi_class will be changed to 'auto' in 0.22. Specify the multi_class option to silence this warning.\n",
      "  \"this warning.\", FutureWarning)\n"
     ]
    },
    {
     "name": "stdout",
     "output_type": "stream",
     "text": [
      "LogisticRegression   ----->   0.6976047904191617\n",
      "\n",
      "Random Forest Classifier   ----->   0.6796407185628742\n",
      "\n"
     ]
    }
   ],
   "source": [
    "classifiers = [ ('LinearSVC',LinearSVC(loss='hinge',C=0.6)) , ('Naive - Bayes',MultinomialNB() ),('LogisticRegression' ,LogisticRegression(C = 9,max_iter = 150)) ,('Random Forest Classifier' ,RandomForestClassifier(n_estimators=100)) ]\n",
    "for clf in classifiers:\n",
    "    \n",
    "    text_clf = Pipeline([('tfidf',TfidfVectorizer(ngram_range=(1,2))),        \n",
    "                    (clf[0],clf[1])                                            \n",
    "                   ])\n",
    "    \n",
    "    text_clf.fit(X_train,y_train)\n",
    "    predicted =  text_clf.predict(X_test)\n",
    "    accuracy = np.sum(predicted == y_test)/len(y_test)\n",
    "    print(clf[0],'  ----->  ',accuracy,end = '\\n\\n')"
   ]
  },
  {
   "cell_type": "markdown",
   "metadata": {},
   "source": [
    "# Title + body"
   ]
  },
  {
   "cell_type": "code",
   "execution_count": 25,
   "metadata": {},
   "outputs": [
    {
     "name": "stdout",
     "output_type": "stream",
     "text": [
      "X_train shape  =  (1891,)\n",
      "y_train shape  =  (1891,)\n",
      "X_test shape  =  (334,)\n",
      "y_test shape  =  (334,)\n"
     ]
    }
   ],
   "source": [
    "(X_train, X_test, y_train, y_test) = prepare_data(['title','body','flair'])\n",
    "print(\"X_train shape  = \",X_train.shape)\n",
    "print(\"y_train shape  = \",y_train.shape)\n",
    "print(\"X_test shape  = \",X_test.shape)\n",
    "print(\"y_test shape  = \",y_test.shape)"
   ]
  },
  {
   "cell_type": "code",
   "execution_count": 26,
   "metadata": {},
   "outputs": [
    {
     "name": "stdout",
     "output_type": "stream",
     "text": [
      "LinearSVC   ----->   0.7275449101796407\n",
      "\n",
      "Naive - Bayes   ----->   0.5299401197604791\n",
      "\n"
     ]
    },
    {
     "name": "stderr",
     "output_type": "stream",
     "text": [
      "/Library/Frameworks/Python.framework/Versions/3.7/lib/python3.7/site-packages/sklearn/linear_model/logistic.py:432: FutureWarning: Default solver will be changed to 'lbfgs' in 0.22. Specify a solver to silence this warning.\n",
      "  FutureWarning)\n",
      "/Library/Frameworks/Python.framework/Versions/3.7/lib/python3.7/site-packages/sklearn/linear_model/logistic.py:469: FutureWarning: Default multi_class will be changed to 'auto' in 0.22. Specify the multi_class option to silence this warning.\n",
      "  \"this warning.\", FutureWarning)\n"
     ]
    },
    {
     "name": "stdout",
     "output_type": "stream",
     "text": [
      "LogisticRegression   ----->   0.7005988023952096\n",
      "\n",
      "Random Forest Classifier   ----->   0.6047904191616766\n",
      "\n"
     ]
    }
   ],
   "source": [
    "classifiers = [ ('LinearSVC',LinearSVC(loss='hinge',C=0.7)) , ('Naive - Bayes',MultinomialNB() ),('LogisticRegression' ,LogisticRegression(C = 9,max_iter = 200)) ,('Random Forest Classifier' ,RandomForestClassifier(n_estimators=100)) ]\n",
    "for clf in classifiers:\n",
    "    \n",
    "    text_clf = Pipeline([('tfidf',TfidfVectorizer(ngram_range=(1,2))),        \n",
    "                    (clf[0],clf[1])                                            \n",
    "                   ])\n",
    "    \n",
    "    text_clf.fit(X_train,y_train)\n",
    "    predicted =  text_clf.predict(X_test)\n",
    "    accuracy = np.sum(predicted == y_test)/len(y_test)\n",
    "    print(clf[0],'  ----->  ',accuracy,end = '\\n\\n')"
   ]
  },
  {
   "cell_type": "markdown",
   "metadata": {},
   "source": [
    "# Title + comments + url"
   ]
  },
  {
   "cell_type": "code",
   "execution_count": 27,
   "metadata": {},
   "outputs": [
    {
     "name": "stdout",
     "output_type": "stream",
     "text": [
      "X_train shape  =  (1891,)\n",
      "y_train shape  =  (1891,)\n",
      "X_test shape  =  (334,)\n",
      "y_test shape  =  (334,)\n"
     ]
    }
   ],
   "source": [
    "(X_train, X_test, y_train, y_test) = prepare_data(['title','url','comments','flair'])\n",
    "print(\"X_train shape  = \",X_train.shape)\n",
    "print(\"y_train shape  = \",y_train.shape)\n",
    "print(\"X_test shape  = \",X_test.shape)\n",
    "print(\"y_test shape  = \",y_test.shape)"
   ]
  },
  {
   "cell_type": "code",
   "execution_count": 31,
   "metadata": {},
   "outputs": [
    {
     "name": "stdout",
     "output_type": "stream",
     "text": [
      "LinearSVC   ----->   0.7395209580838323\n",
      "\n",
      "Naive - Bayes   ----->   0.5538922155688623\n",
      "\n"
     ]
    },
    {
     "name": "stderr",
     "output_type": "stream",
     "text": [
      "/Library/Frameworks/Python.framework/Versions/3.7/lib/python3.7/site-packages/sklearn/linear_model/logistic.py:432: FutureWarning: Default solver will be changed to 'lbfgs' in 0.22. Specify a solver to silence this warning.\n",
      "  FutureWarning)\n",
      "/Library/Frameworks/Python.framework/Versions/3.7/lib/python3.7/site-packages/sklearn/linear_model/logistic.py:469: FutureWarning: Default multi_class will be changed to 'auto' in 0.22. Specify the multi_class option to silence this warning.\n",
      "  \"this warning.\", FutureWarning)\n"
     ]
    },
    {
     "name": "stdout",
     "output_type": "stream",
     "text": [
      "LogisticRegression   ----->   0.718562874251497\n",
      "\n",
      "Random Forest Classifier   ----->   0.6047904191616766\n",
      "\n"
     ]
    }
   ],
   "source": [
    "classifiers = [ ('LinearSVC',LinearSVC(loss='hinge',C=3)) , ('Naive - Bayes',MultinomialNB() ),('LogisticRegression' ,LogisticRegression(C = 9,max_iter = 150)) ,('Random Forest Classifier' ,RandomForestClassifier(n_estimators=100)) ]\n",
    "for clf in classifiers:\n",
    "    \n",
    "    text_clf = Pipeline([('tfidf',TfidfVectorizer(ngram_range=(1,2))),        \n",
    "                    (clf[0],clf[1])                                            \n",
    "                   ])\n",
    "    \n",
    "    text_clf.fit(X_train,y_train)\n",
    "    predicted =  text_clf.predict(X_test)\n",
    "    accuracy = np.sum(predicted == y_test)/len(y_test)\n",
    "    print(clf[0],'  ----->  ',accuracy,end = '\\n\\n')"
   ]
  },
  {
   "cell_type": "markdown",
   "metadata": {},
   "source": [
    "# Title + body + url"
   ]
  },
  {
   "cell_type": "code",
   "execution_count": 32,
   "metadata": {},
   "outputs": [
    {
     "name": "stdout",
     "output_type": "stream",
     "text": [
      "X_train shape  =  (1891,)\n",
      "y_train shape  =  (1891,)\n",
      "X_test shape  =  (334,)\n",
      "y_test shape  =  (334,)\n"
     ]
    }
   ],
   "source": [
    "(X_train, X_test, y_train, y_test) = prepare_data(['title','body','url','flair'])\n",
    "print(\"X_train shape  = \",X_train.shape)\n",
    "print(\"y_train shape  = \",y_train.shape)\n",
    "print(\"X_test shape  = \",X_test.shape)\n",
    "print(\"y_test shape  = \",y_test.shape)"
   ]
  },
  {
   "cell_type": "code",
   "execution_count": 33,
   "metadata": {},
   "outputs": [
    {
     "name": "stdout",
     "output_type": "stream",
     "text": [
      "LinearSVC   ----->   0.7455089820359282\n",
      "\n",
      "Naive - Bayes   ----->   0.5538922155688623\n",
      "\n"
     ]
    },
    {
     "name": "stderr",
     "output_type": "stream",
     "text": [
      "/Library/Frameworks/Python.framework/Versions/3.7/lib/python3.7/site-packages/sklearn/linear_model/logistic.py:432: FutureWarning: Default solver will be changed to 'lbfgs' in 0.22. Specify a solver to silence this warning.\n",
      "  FutureWarning)\n",
      "/Library/Frameworks/Python.framework/Versions/3.7/lib/python3.7/site-packages/sklearn/linear_model/logistic.py:469: FutureWarning: Default multi_class will be changed to 'auto' in 0.22. Specify the multi_class option to silence this warning.\n",
      "  \"this warning.\", FutureWarning)\n"
     ]
    },
    {
     "name": "stdout",
     "output_type": "stream",
     "text": [
      "LogisticRegression   ----->   0.718562874251497\n",
      "\n",
      "Random Forest Classifier   ----->   0.5748502994011976\n",
      "\n"
     ]
    }
   ],
   "source": [
    "classifiers = [ ('LinearSVC',LinearSVC(loss='hinge',C=0.7)) , ('Naive - Bayes',MultinomialNB() ),('LogisticRegression' ,LogisticRegression(C = 9,max_iter = 200)) ,('Random Forest Classifier' ,RandomForestClassifier(n_estimators=100)) ]\n",
    "for clf in classifiers:\n",
    "    \n",
    "    text_clf = Pipeline([('tfidf',TfidfVectorizer(ngram_range=(1,2))),        \n",
    "                    (clf[0],clf[1])                                            \n",
    "                   ])\n",
    "    \n",
    "    text_clf.fit(X_train,y_train)\n",
    "    predicted =  text_clf.predict(X_test) \n",
    "    accuracy = np.sum(predicted == y_test)/len(y_test) # t = b = u\n",
    "    print(clf[0],'  ----->  ',accuracy,end = '\\n\\n')"
   ]
  },
  {
   "cell_type": "markdown",
   "metadata": {},
   "source": [
    "# Deep Learning Models"
   ]
  },
  {
   "cell_type": "markdown",
   "metadata": {},
   "source": [
    "We will be considering the following deep learning methods for text classification\n",
    "\n",
    "CNN + Word Embeddings\n",
    "\n",
    "LSTMs\n",
    "\n",
    "Stacked LSTMS\n",
    "\n",
    "Bidirectional LSTMs\n",
    "\n",
    "Hybrid Model --> (CNN + LSTM)"
   ]
  },
  {
   "cell_type": "code",
   "execution_count": 4,
   "metadata": {},
   "outputs": [],
   "source": [
    "# Creating embeddings dictionary\n",
    "embeddings_dict = {}\n",
    "with open('/Users/apple/Desktop/reddit_flair/glove.6B.50d.txt') as f: \n",
    "    for line in f:\n",
    "        word = line.split()[0]\n",
    "        embeddings_dict[word] = np.array(line.split()[1:],dtype = 'float')"
   ]
  },
  {
   "cell_type": "code",
   "execution_count": 5,
   "metadata": {},
   "outputs": [],
   "source": [
    "def create_data_for_model(max_len , vocab_size = 'None'):\n",
    "      (X_train, X_test, y_train, y_test) = prepare_data(['title','body','url','flair'])\n",
    "      tk = Tokenizer()\n",
    "      tk.fit_on_texts(X_train)\n",
    "      if vocab_size != 'None':\n",
    "        tk.word_index = {w:i for w,i in tk.word_index.items() if i <= vocab_size}\n",
    "      else:\n",
    "        vocab_size = len(tk.word_index)\n",
    "\n",
    "      # Train Data - X\n",
    "      encoded_train = tk.texts_to_sequences(X_train)\n",
    "      padded_train = pad_sequences(encoded_train,maxlen = max_len, padding = 'post' , truncating = 'post')\n",
    "\n",
    "      # Test Data  - X\n",
    "      encoded_test = tk.texts_to_sequences(X_test)\n",
    "      padded_test = pad_sequences(encoded_test,maxlen = max_len,padding = 'post', truncating = 'post')\n",
    "\n",
    "      # Train Data - Y\n",
    "      one_hot = OneHotEncoder()\n",
    "      y_train = y_train.reshape((-1,1))\n",
    "      y_train = one_hot.fit_transform(y_train).toarray()\n",
    "\n",
    "      # Create embeddings matrix\n",
    "      embeddings_matrix = np.zeros((vocab_size+1,50)) \n",
    "      for word,index in tk.word_index.items():\n",
    "        if embeddings_dict.get(word) is not None:\n",
    "          embeddings_matrix[index] = embeddings_dict[word]\n",
    "     \n",
    "      return (padded_train, y_train, padded_test, y_test, embeddings_matrix, vocab_size)\n",
    "\n",
    "def give_accuracy(model,x_test,y_test,name):\n",
    "    predicted = model.predict(padded_test)\n",
    "    predicted_labels = np.argmax(predicted,axis = 1)\n",
    "    accuracy = np.sum(predicted_labels == y_test)/len(y_test)\n",
    "    print(\"Accuracy of \" + str(name) + \" model ---> \", accuracy)"
   ]
  },
  {
   "cell_type": "code",
   "execution_count": null,
   "metadata": {},
   "outputs": [],
   "source": []
  },
  {
   "cell_type": "markdown",
   "metadata": {},
   "source": [
    "# CNN + Word Embeddings\n"
   ]
  },
  {
   "cell_type": "markdown",
   "metadata": {},
   "source": [
    "(Yoav Goldberg, in his primer on deep learning for nlp, 2015) , comments that CNNs are effective at Text Classification because of their capability to extract important features (like tokens or sequence of tokens) regardless of their position in text.\n",
    "\n",
    "He also comments, in text classification, the main idea is to learn words or a group of words that are good indicators of a topic, we do not necessarily care where they might appear in a document. Convolutions and pooling layers allow model to learn such local indicators invariant to their position."
   ]
  },
  {
   "cell_type": "markdown",
   "metadata": {},
   "source": [
    "For each training example, we will extract word embedding vectors (Glove vectors).\n",
    "\n",
    "We will feed this as input to CNN model, Our hope is that CNN model will learn some useful filters. A useful filter might be one , that has a similar embedding vector to the vector of a distinguishing word."
   ]
  },
  {
   "cell_type": "code",
   "execution_count": 8,
   "metadata": {},
   "outputs": [
    {
     "data": {
      "image/png": "[encoded data removed]",
      "text/plain": [
       "<IPython.core.display.Image object>"
      ]
     },
     "execution_count": 8,
     "metadata": {},
     "output_type": "execute_result"
    }
   ],
   "source": [
    "from IPython.display import Image\n",
    "Image(filename=\"/Users/apple/Desktop/ml projects/CNN.png\")"
   ]
  },
  {
   "cell_type": "markdown",
   "metadata": {},
   "source": [
    "In the image above, the filter has very similar weights to the bigram --> cat sitting. Therefore it gives a high activation.\n",
    "\n",
    "In the next sentence it also give a high activation because the cosine distance between the vectors cat-dog and sitting-resting is very small. This is the reason to use word embeddings, they provide us with similar representations for similar words.\n",
    "\n",
    "So, the result is that we have learnt a filter that will give high activation whenever it comes across a bigram that means \"animal resting\". Such filters help in extracting general meanings from text\n",
    "\n",
    "They can be used by the model to understand what our text conveys, and consequently give correct output"
   ]
  },
  {
   "cell_type": "code",
   "execution_count": 10,
   "metadata": {},
   "outputs": [
    {
     "name": "stderr",
     "output_type": "stream",
     "text": [
      "/Library/Frameworks/Python.framework/Versions/3.7/lib/python3.7/site-packages/sklearn/preprocessing/_encoders.py:415: FutureWarning: The handling of integer data will change in version 0.22. Currently, the categories are determined based on the range [0, max(values)], while in the future they will be determined based on the unique values.\n",
      "If you want the future behaviour and silence this warning, you can specify \"categories='auto'\".\n",
      "In case you used a LabelEncoder before this OneHotEncoder to convert the categories to integers, then you can now use the OneHotEncoder directly.\n",
      "  warnings.warn(msg, FutureWarning)\n"
     ]
    }
   ],
   "source": [
    "(padded_train, y_train, padded_test, y_test, embeddings_matrix, vocab_len) = create_data_for_model(max_len = 300)\n",
    "def create_cnn_model(max_len, vocab_size):  \n",
    "  pooling_layers = []\n",
    "  inp = Input((max_len,))\n",
    "  embedding_layer = Embedding(input_dim= vocab_size + 1,output_dim=50,weights = [embeddings_matrix],trainable = True)(inp)\n",
    "  dp = Dropout(0.3)(embedding_layer)\n",
    "\n",
    "  x1 = Conv1D(filters=36,kernel_size=1,activation = 'relu')(dp)\n",
    "  pooling_layers.append(MaxPool1D(pool_size=max_len ,stride = 1)(x1))\n",
    "\n",
    "  x2 = Conv1D(filters=36,kernel_size=2,activation = 'relu')(dp)\n",
    "  pooling_layers.append(MaxPool1D(pool_size=max_len - 1,stride = 1)(x2))\n",
    "\n",
    "  x3 = Conv1D(filters=36,kernel_size=3,activation = 'relu')(dp)\n",
    "  pooling_layers.append(MaxPool1D(pool_size=max_len - 2,stride = 1)(x3))\n",
    "\n",
    "  x4 = Conv1D(filters=36,kernel_size=4,activation = 'relu')(dp)\n",
    "  pooling_layers.append(MaxPool1D(pool_size=max_len - 3,stride = 1)(x4))\n",
    "\n",
    "  x5 = Conv1D(filters=36,kernel_size=5,activation = 'relu')(dp)\n",
    "  pooling_layers.append(MaxPool1D(pool_size=max_len - 4,stride = 1)(x5))\n",
    "\n",
    "  z = Concatenate(axis = 1)(pooling_layers)\n",
    "  z = Flatten()(z)\n",
    "  z = Dropout(0.2)(z)\n",
    "\n",
    "  \n",
    "  #y = Dense(16,activation = 'relu')(z)\n",
    "\n",
    "  out = Dense(11,activation = 'softmax')(z)\n",
    "\n",
    "\n",
    "  model = Model(inputs = inp,outputs = out)\n",
    "  model.compile(loss='categorical_crossentropy', optimizer='adam', metrics=['accuracy'])\n",
    "  model.summary()\n",
    "  return model"
   ]
  },
  {
   "cell_type": "code",
   "execution_count": 11,
   "metadata": {},
   "outputs": [
    {
     "name": "stdout",
     "output_type": "stream",
     "text": [
      "Model: \"model_1\"\n",
      "__________________________________________________________________________________________________\n",
      "Layer (type)                    Output Shape         Param #     Connected to                     \n",
      "==================================================================================================\n",
      "input_1 (InputLayer)            (None, 300)          0                                            \n",
      "__________________________________________________________________________________________________\n",
      "embedding_1 (Embedding)         (None, 300, 50)      1418600     input_1[0][0]                    \n",
      "__________________________________________________________________________________________________\n",
      "dropout_1 (Dropout)             (None, 300, 50)      0           embedding_1[0][0]                \n",
      "__________________________________________________________________________________________________\n",
      "conv1d_1 (Conv1D)               (None, 300, 36)      1836        dropout_1[0][0]                  \n",
      "__________________________________________________________________________________________________\n",
      "conv1d_2 (Conv1D)               (None, 299, 36)      3636        dropout_1[0][0]                  \n",
      "__________________________________________________________________________________________________\n",
      "conv1d_3 (Conv1D)               (None, 298, 36)      5436        dropout_1[0][0]                  \n",
      "__________________________________________________________________________________________________\n",
      "conv1d_4 (Conv1D)               (None, 297, 36)      7236        dropout_1[0][0]                  \n",
      "__________________________________________________________________________________________________\n",
      "conv1d_5 (Conv1D)               (None, 296, 36)      9036        dropout_1[0][0]                  \n",
      "__________________________________________________________________________________________________\n",
      "max_pooling1d_1 (MaxPooling1D)  (None, 1, 36)        0           conv1d_1[0][0]                   \n",
      "__________________________________________________________________________________________________\n",
      "max_pooling1d_2 (MaxPooling1D)  (None, 1, 36)        0           conv1d_2[0][0]                   \n",
      "__________________________________________________________________________________________________\n",
      "max_pooling1d_3 (MaxPooling1D)  (None, 1, 36)        0           conv1d_3[0][0]                   \n",
      "__________________________________________________________________________________________________\n",
      "max_pooling1d_4 (MaxPooling1D)  (None, 1, 36)        0           conv1d_4[0][0]                   \n",
      "__________________________________________________________________________________________________\n",
      "max_pooling1d_5 (MaxPooling1D)  (None, 1, 36)        0           conv1d_5[0][0]                   \n",
      "__________________________________________________________________________________________________\n",
      "concatenate_1 (Concatenate)     (None, 5, 36)        0           max_pooling1d_1[0][0]            \n",
      "                                                                 max_pooling1d_2[0][0]            \n",
      "                                                                 max_pooling1d_3[0][0]            \n",
      "                                                                 max_pooling1d_4[0][0]            \n",
      "                                                                 max_pooling1d_5[0][0]            \n",
      "__________________________________________________________________________________________________\n",
      "flatten_1 (Flatten)             (None, 180)          0           concatenate_1[0][0]              \n",
      "__________________________________________________________________________________________________\n",
      "dropout_2 (Dropout)             (None, 180)          0           flatten_1[0][0]                  \n",
      "__________________________________________________________________________________________________\n",
      "dense_1 (Dense)                 (None, 11)           1991        dropout_2[0][0]                  \n",
      "==================================================================================================\n",
      "Total params: 1,447,771\n",
      "Trainable params: 1,447,771\n",
      "Non-trainable params: 0\n",
      "__________________________________________________________________________________________________\n"
     ]
    },
    {
     "name": "stderr",
     "output_type": "stream",
     "text": [
      "/Library/Frameworks/Python.framework/Versions/3.7/lib/python3.7/site-packages/ipykernel_launcher.py:9: UserWarning: Update your `MaxPooling1D` call to the Keras 2 API: `MaxPooling1D(pool_size=300, strides=1)`\n",
      "  if __name__ == '__main__':\n",
      "/Library/Frameworks/Python.framework/Versions/3.7/lib/python3.7/site-packages/ipykernel_launcher.py:12: UserWarning: Update your `MaxPooling1D` call to the Keras 2 API: `MaxPooling1D(pool_size=299, strides=1)`\n",
      "  if sys.path[0] == '':\n",
      "/Library/Frameworks/Python.framework/Versions/3.7/lib/python3.7/site-packages/ipykernel_launcher.py:15: UserWarning: Update your `MaxPooling1D` call to the Keras 2 API: `MaxPooling1D(pool_size=298, strides=1)`\n",
      "  from ipykernel import kernelapp as app\n",
      "/Library/Frameworks/Python.framework/Versions/3.7/lib/python3.7/site-packages/ipykernel_launcher.py:18: UserWarning: Update your `MaxPooling1D` call to the Keras 2 API: `MaxPooling1D(pool_size=297, strides=1)`\n",
      "/Library/Frameworks/Python.framework/Versions/3.7/lib/python3.7/site-packages/ipykernel_launcher.py:21: UserWarning: Update your `MaxPooling1D` call to the Keras 2 API: `MaxPooling1D(pool_size=296, strides=1)`\n"
     ]
    }
   ],
   "source": [
    "cnn_model = create_cnn_model(max_len = 300,vocab_size = vocab_len)"
   ]
  },
  {
   "cell_type": "code",
   "execution_count": 11,
   "metadata": {},
   "outputs": [
    {
     "name": "stderr",
     "output_type": "stream",
     "text": [
      "/Library/Frameworks/Python.framework/Versions/3.7/lib/python3.7/site-packages/tensorflow_core/python/framework/indexed_slices.py:424: UserWarning: Converting sparse IndexedSlices to a dense Tensor of unknown shape. This may consume a large amount of memory.\n",
      "  \"Converting sparse IndexedSlices to a dense Tensor of unknown shape. \"\n"
     ]
    },
    {
     "name": "stdout",
     "output_type": "stream",
     "text": [
      "Train on 1607 samples, validate on 284 samples\n",
      "Epoch 1/65\n",
      "1607/1607 [==============================] - 6s 4ms/step - loss: 3.0914 - accuracy: 0.1350 - val_loss: 1.9487 - val_accuracy: 0.3310\n",
      "Epoch 2/65\n",
      "1607/1607 [==============================] - 5s 3ms/step - loss: 2.3384 - accuracy: 0.2645 - val_loss: 1.5933 - val_accuracy: 0.4965\n",
      "Epoch 3/65\n",
      "1607/1607 [==============================] - 6s 4ms/step - loss: 1.9206 - accuracy: 0.3927 - val_loss: 1.3383 - val_accuracy: 0.6268\n",
      "Epoch 4/65\n",
      "1607/1607 [==============================] - 5s 3ms/step - loss: 1.6359 - accuracy: 0.4711 - val_loss: 1.1566 - val_accuracy: 0.6972\n",
      "Epoch 5/65\n",
      "1607/1607 [==============================] - 5s 3ms/step - loss: 1.3633 - accuracy: 0.5600 - val_loss: 0.9990 - val_accuracy: 0.7430\n",
      "Epoch 6/65\n",
      "1607/1607 [==============================] - 5s 3ms/step - loss: 1.1612 - accuracy: 0.6297 - val_loss: 0.8815 - val_accuracy: 0.7606\n",
      "Epoch 7/65\n",
      "1607/1607 [==============================] - 5s 3ms/step - loss: 1.0303 - accuracy: 0.6721 - val_loss: 0.8116 - val_accuracy: 0.7817\n",
      "Epoch 8/65\n",
      "1607/1607 [==============================] - 5s 3ms/step - loss: 0.9181 - accuracy: 0.7119 - val_loss: 0.7493 - val_accuracy: 0.8028\n",
      "Epoch 9/65\n",
      "1607/1607 [==============================] - 5s 3ms/step - loss: 0.8816 - accuracy: 0.7150 - val_loss: 0.7194 - val_accuracy: 0.7958\n",
      "Epoch 10/65\n",
      "1607/1607 [==============================] - 5s 3ms/step - loss: 0.7919 - accuracy: 0.7530 - val_loss: 0.6677 - val_accuracy: 0.8063\n",
      "Epoch 11/65\n",
      "1607/1607 [==============================] - 5s 3ms/step - loss: 0.7026 - accuracy: 0.7741 - val_loss: 0.6446 - val_accuracy: 0.8239\n",
      "Epoch 12/65\n",
      "1607/1607 [==============================] - 5s 3ms/step - loss: 0.6536 - accuracy: 0.8015 - val_loss: 0.6441 - val_accuracy: 0.8134\n",
      "Epoch 13/65\n",
      "1607/1607 [==============================] - 5s 3ms/step - loss: 0.5939 - accuracy: 0.8177 - val_loss: 0.6232 - val_accuracy: 0.8239\n",
      "Epoch 14/65\n",
      "1607/1607 [==============================] - 5s 3ms/step - loss: 0.5658 - accuracy: 0.8289 - val_loss: 0.6190 - val_accuracy: 0.8063\n",
      "Epoch 15/65\n",
      "1607/1607 [==============================] - 5s 3ms/step - loss: 0.5450 - accuracy: 0.8307 - val_loss: 0.6071 - val_accuracy: 0.8345\n",
      "Epoch 16/65\n",
      "1607/1607 [==============================] - 5s 3ms/step - loss: 0.4828 - accuracy: 0.8444 - val_loss: 0.6082 - val_accuracy: 0.8134\n",
      "Epoch 17/65\n",
      "1607/1607 [==============================] - 5s 3ms/step - loss: 0.4652 - accuracy: 0.8388 - val_loss: 0.5871 - val_accuracy: 0.8345\n",
      "Epoch 18/65\n",
      "1607/1607 [==============================] - 5s 3ms/step - loss: 0.4337 - accuracy: 0.8712 - val_loss: 0.6001 - val_accuracy: 0.8310\n",
      "Epoch 19/65\n",
      "1607/1607 [==============================] - 5s 3ms/step - loss: 0.4161 - accuracy: 0.8600 - val_loss: 0.5992 - val_accuracy: 0.8169\n",
      "Epoch 20/65\n",
      "1607/1607 [==============================] - 5s 3ms/step - loss: 0.3899 - accuracy: 0.8793 - val_loss: 0.5955 - val_accuracy: 0.8345\n",
      "Epoch 21/65\n",
      "1607/1607 [==============================] - 5s 3ms/step - loss: 0.3977 - accuracy: 0.8774 - val_loss: 0.6009 - val_accuracy: 0.8310\n",
      "Epoch 22/65\n",
      "1607/1607 [==============================] - 5s 3ms/step - loss: 0.3543 - accuracy: 0.9011 - val_loss: 0.5970 - val_accuracy: 0.8345\n",
      "Epoch 23/65\n",
      "1607/1607 [==============================] - 5s 3ms/step - loss: 0.3210 - accuracy: 0.9085 - val_loss: 0.6051 - val_accuracy: 0.8099\n",
      "Epoch 24/65\n",
      "1607/1607 [==============================] - 5s 3ms/step - loss: 0.3189 - accuracy: 0.9079 - val_loss: 0.6038 - val_accuracy: 0.8310\n",
      "Epoch 25/65\n",
      "1607/1607 [==============================] - 5s 3ms/step - loss: 0.2873 - accuracy: 0.9135 - val_loss: 0.6039 - val_accuracy: 0.8380\n",
      "Epoch 26/65\n",
      "1607/1607 [==============================] - 5s 3ms/step - loss: 0.2603 - accuracy: 0.9228 - val_loss: 0.6106 - val_accuracy: 0.8169\n",
      "Epoch 27/65\n",
      "1607/1607 [==============================] - 5s 3ms/step - loss: 0.2770 - accuracy: 0.9216 - val_loss: 0.6112 - val_accuracy: 0.8275\n",
      "Epoch 28/65\n",
      "1607/1607 [==============================] - 5s 3ms/step - loss: 0.2578 - accuracy: 0.9297 - val_loss: 0.6278 - val_accuracy: 0.8239\n",
      "Epoch 29/65\n",
      "1607/1607 [==============================] - 6s 4ms/step - loss: 0.2396 - accuracy: 0.9315 - val_loss: 0.6246 - val_accuracy: 0.8169\n",
      "Epoch 30/65\n",
      "1607/1607 [==============================] - 6s 4ms/step - loss: 0.2271 - accuracy: 0.9315 - val_loss: 0.6278 - val_accuracy: 0.8275\n",
      "Epoch 31/65\n",
      "1607/1607 [==============================] - 6s 3ms/step - loss: 0.2157 - accuracy: 0.9322 - val_loss: 0.6379 - val_accuracy: 0.8310\n",
      "Epoch 32/65\n",
      "1607/1607 [==============================] - 5s 3ms/step - loss: 0.1924 - accuracy: 0.9515 - val_loss: 0.6385 - val_accuracy: 0.8380\n",
      "Epoch 33/65\n",
      "1607/1607 [==============================] - 5s 3ms/step - loss: 0.1963 - accuracy: 0.9365 - val_loss: 0.6290 - val_accuracy: 0.8275\n",
      "Epoch 34/65\n",
      "1607/1607 [==============================] - 5s 3ms/step - loss: 0.1725 - accuracy: 0.9533 - val_loss: 0.6364 - val_accuracy: 0.8310\n",
      "Epoch 35/65\n",
      "1607/1607 [==============================] - 5s 3ms/step - loss: 0.1894 - accuracy: 0.9477 - val_loss: 0.6370 - val_accuracy: 0.8310\n",
      "Epoch 36/65\n",
      "1607/1607 [==============================] - 5s 3ms/step - loss: 0.1729 - accuracy: 0.9508 - val_loss: 0.6410 - val_accuracy: 0.8239\n",
      "Epoch 37/65\n",
      "1607/1607 [==============================] - 5s 3ms/step - loss: 0.1663 - accuracy: 0.9540 - val_loss: 0.6528 - val_accuracy: 0.8239\n",
      "Epoch 38/65\n",
      "1607/1607 [==============================] - 5s 3ms/step - loss: 0.1592 - accuracy: 0.9527 - val_loss: 0.6673 - val_accuracy: 0.8239\n",
      "Epoch 39/65\n",
      "1607/1607 [==============================] - 5s 3ms/step - loss: 0.1454 - accuracy: 0.9583 - val_loss: 0.6556 - val_accuracy: 0.8310\n",
      "Epoch 40/65\n",
      "1607/1607 [==============================] - 5s 3ms/step - loss: 0.1486 - accuracy: 0.9552 - val_loss: 0.6816 - val_accuracy: 0.8204\n",
      "Epoch 41/65\n",
      "1607/1607 [==============================] - 5s 3ms/step - loss: 0.1171 - accuracy: 0.9670 - val_loss: 0.6702 - val_accuracy: 0.8275\n",
      "Epoch 42/65\n",
      "1607/1607 [==============================] - 5s 3ms/step - loss: 0.1283 - accuracy: 0.9689 - val_loss: 0.6745 - val_accuracy: 0.8275\n",
      "Epoch 43/65\n",
      "1607/1607 [==============================] - 5s 3ms/step - loss: 0.1226 - accuracy: 0.9689 - val_loss: 0.6983 - val_accuracy: 0.8275\n",
      "Epoch 44/65\n",
      "1607/1607 [==============================] - 5s 3ms/step - loss: 0.1284 - accuracy: 0.9627 - val_loss: 0.6903 - val_accuracy: 0.8310\n",
      "Epoch 45/65\n",
      "1607/1607 [==============================] - 5s 3ms/step - loss: 0.1445 - accuracy: 0.9633 - val_loss: 0.7079 - val_accuracy: 0.8239\n",
      "Epoch 46/65\n",
      "1607/1607 [==============================] - 5s 3ms/step - loss: 0.1376 - accuracy: 0.9633 - val_loss: 0.6980 - val_accuracy: 0.8239\n",
      "Epoch 47/65\n",
      "1607/1607 [==============================] - 5s 3ms/step - loss: 0.1061 - accuracy: 0.9732 - val_loss: 0.7079 - val_accuracy: 0.8345\n",
      "Epoch 48/65\n",
      "1607/1607 [==============================] - 5s 3ms/step - loss: 0.1007 - accuracy: 0.9701 - val_loss: 0.7431 - val_accuracy: 0.8239\n",
      "Epoch 49/65\n",
      "1607/1607 [==============================] - 6s 4ms/step - loss: 0.0998 - accuracy: 0.9739 - val_loss: 0.7341 - val_accuracy: 0.8310\n",
      "Epoch 50/65\n",
      "1607/1607 [==============================] - 6s 4ms/step - loss: 0.0964 - accuracy: 0.9739 - val_loss: 0.7320 - val_accuracy: 0.8345\n",
      "Epoch 51/65\n",
      "1607/1607 [==============================] - 5s 3ms/step - loss: 0.1111 - accuracy: 0.9732 - val_loss: 0.7342 - val_accuracy: 0.8345\n",
      "Epoch 52/65\n",
      "1607/1607 [==============================] - 6s 4ms/step - loss: 0.1002 - accuracy: 0.9745 - val_loss: 0.7332 - val_accuracy: 0.8345\n",
      "Epoch 53/65\n",
      "1607/1607 [==============================] - 5s 3ms/step - loss: 0.0889 - accuracy: 0.9788 - val_loss: 0.7396 - val_accuracy: 0.8310\n",
      "Epoch 54/65\n",
      "1607/1607 [==============================] - 5s 3ms/step - loss: 0.0854 - accuracy: 0.9788 - val_loss: 0.7557 - val_accuracy: 0.8275\n",
      "Epoch 55/65\n",
      "1607/1607 [==============================] - 7s 4ms/step - loss: 0.0973 - accuracy: 0.9757 - val_loss: 0.7633 - val_accuracy: 0.8380\n",
      "Epoch 56/65\n",
      "1607/1607 [==============================] - 5s 3ms/step - loss: 0.1064 - accuracy: 0.9670 - val_loss: 0.7471 - val_accuracy: 0.8451\n",
      "Epoch 57/65\n",
      "1607/1607 [==============================] - 6s 4ms/step - loss: 0.0860 - accuracy: 0.9782 - val_loss: 0.7587 - val_accuracy: 0.8310\n",
      "Epoch 58/65\n",
      "1607/1607 [==============================] - 5s 3ms/step - loss: 0.0746 - accuracy: 0.9764 - val_loss: 0.7575 - val_accuracy: 0.8380\n",
      "Epoch 59/65\n",
      "1607/1607 [==============================] - 6s 3ms/step - loss: 0.0648 - accuracy: 0.9826 - val_loss: 0.7813 - val_accuracy: 0.8345\n",
      "Epoch 60/65\n",
      "1607/1607 [==============================] - 6s 3ms/step - loss: 0.0819 - accuracy: 0.9764 - val_loss: 0.7613 - val_accuracy: 0.8415\n",
      "Epoch 61/65\n",
      "1607/1607 [==============================] - 5s 3ms/step - loss: 0.0737 - accuracy: 0.9807 - val_loss: 0.7777 - val_accuracy: 0.8380\n",
      "Epoch 62/65\n",
      "1607/1607 [==============================] - 5s 3ms/step - loss: 0.1034 - accuracy: 0.9689 - val_loss: 0.7706 - val_accuracy: 0.8275\n",
      "Epoch 63/65\n",
      "1607/1607 [==============================] - 6s 4ms/step - loss: 0.0847 - accuracy: 0.9807 - val_loss: 0.7740 - val_accuracy: 0.8275\n",
      "Epoch 64/65\n",
      "1607/1607 [==============================] - 6s 4ms/step - loss: 0.0697 - accuracy: 0.9801 - val_loss: 0.7861 - val_accuracy: 0.8275\n",
      "Epoch 65/65\n",
      "1607/1607 [==============================] - 5s 3ms/step - loss: 0.0863 - accuracy: 0.9739 - val_loss: 0.7747 - val_accuracy: 0.8380\n"
     ]
    }
   ],
   "source": [
    "history = cnn_model.fit(padded_train,y_train, epochs = 65, batch_size = 32, validation_split = 0.15)"
   ]
  },
  {
   "cell_type": "code",
   "execution_count": 12,
   "metadata": {},
   "outputs": [
    {
     "name": "stdout",
     "output_type": "stream",
     "text": [
      "Accuracy of CNN model --->  0.7874251497005988\n"
     ]
    }
   ],
   "source": [
    "give_accuracy(cnn_model,padded_test, y_test, \"CNN\")"
   ]
  },
  {
   "cell_type": "code",
   "execution_count": 13,
   "metadata": {},
   "outputs": [
    {
     "name": "stderr",
     "output_type": "stream",
     "text": [
      "/Library/Frameworks/Python.framework/Versions/3.7/lib/python3.7/site-packages/sklearn/externals/joblib/__init__.py:15: DeprecationWarning: sklearn.externals.joblib is deprecated in 0.21 and will be removed in 0.23. Please import this functionality directly from joblib, which can be installed with: pip install joblib. If this warning is raised when loading pickled models, you may need to re-serialize those models with scikit-learn 0.21+.\n",
      "  warnings.warn(msg, category=DeprecationWarning)\n"
     ]
    }
   ],
   "source": [
    "from sklearn.externals import joblib"
   ]
  },
  {
   "cell_type": "code",
   "execution_count": 14,
   "metadata": {},
   "outputs": [
    {
     "data": {
      "text/plain": [
       "['model.pkl']"
      ]
     },
     "execution_count": 14,
     "metadata": {},
     "output_type": "execute_result"
    }
   ],
   "source": [
    "joblib.dump(cnn_model,\"model.pkl\")"
   ]
  },
  {
   "cell_type": "code",
   "execution_count": 15,
   "metadata": {},
   "outputs": [
    {
     "name": "stderr",
     "output_type": "stream",
     "text": [
      "/Library/Frameworks/Python.framework/Versions/3.7/lib/python3.7/site-packages/tensorflow_core/python/framework/indexed_slices.py:424: UserWarning: Converting sparse IndexedSlices to a dense Tensor of unknown shape. This may consume a large amount of memory.\n",
      "  \"Converting sparse IndexedSlices to a dense Tensor of unknown shape. \"\n"
     ]
    }
   ],
   "source": [
    "m = joblib.load(\"model.pkl\")"
   ]
  },
  {
   "cell_type": "code",
   "execution_count": 14,
   "metadata": {},
   "outputs": [],
   "source": [
    "cnn_model.save(\"model_CNN.h5\")"
   ]
  },
  {
   "cell_type": "code",
   "execution_count": null,
   "metadata": {},
   "outputs": [],
   "source": [
    "cnn_model.save_weights('/Users/apple/Desktop/ml projects/model_weights/model_CNN.h5')"
   ]
  },
  {
   "cell_type": "code",
   "execution_count": 46,
   "metadata": {},
   "outputs": [
    {
     "data": {
      "image/png": "[encoded data removed]",
      "text/plain": [
       "<Figure size 432x288 with 1 Axes>"
      ]
     },
     "metadata": {
      "needs_background": "light"
     },
     "output_type": "display_data"
    }
   ],
   "source": [
    "plt.plot(history.history['accuracy'],label = 'train_accuracy')\n",
    "plt.plot(history.history['val_accuracy'], label = 'validation_accuracy')\n",
    "plt.legend()\n",
    "plt.show()"
   ]
  },
  {
   "cell_type": "markdown",
   "metadata": {},
   "source": [
    "# LSTM\n",
    "\n",
    "The idea behind using LSTMs is to capture context and the order of text.\n",
    "\n",
    "LSTMs can remember past information using hidden states and apply it to current task\n",
    "\n",
    "Consider a sentence --> The movie was not good, even though everyone was claiming it to be awesome, brilliant, extraordinary!\n",
    "\n",
    "To detect sentiment of this text, if we apply a CNN or linear classifier, it may predict that text is positive base on the words - good, awesome, brilliant, extraordinary\n",
    "\n",
    "But a LSTM might be able to recognize that due to the presence of 'not good' , 'even though' our sentence is actually negative\n",
    "\n",
    "LSTMs are slow to train so I will set max_len = median length of texts"
   ]
  },
  {
   "cell_type": "code",
   "execution_count": 47,
   "metadata": {},
   "outputs": [
    {
     "name": "stderr",
     "output_type": "stream",
     "text": [
      "/Library/Frameworks/Python.framework/Versions/3.7/lib/python3.7/site-packages/sklearn/preprocessing/_encoders.py:415: FutureWarning: The handling of integer data will change in version 0.22. Currently, the categories are determined based on the range [0, max(values)], while in the future they will be determined based on the unique values.\n",
      "If you want the future behaviour and silence this warning, you can specify \"categories='auto'\".\n",
      "In case you used a LabelEncoder before this OneHotEncoder to convert the categories to integers, then you can now use the OneHotEncoder directly.\n",
      "  warnings.warn(msg, FutureWarning)\n"
     ]
    }
   ],
   "source": [
    "(padded_train, y_train, padded_test, y_test, embeddings_matrix, vocab_len) = create_data_for_model(max_len = 35) # taking max_len = median"
   ]
  },
  {
   "cell_type": "code",
   "execution_count": 48,
   "metadata": {},
   "outputs": [],
   "source": [
    "# Model\n",
    "def model_lstm(max_len,vocab_size):\n",
    "  inp1 = Input((max_len,))\n",
    "  embedding_layer = Embedding(input_dim=vocab_size + 1,output_dim= 50,mask_zero=True,weights = [embeddings_matrix],trainable = False)(inp1)\n",
    "  drop_out1 = Dropout(0.3)(embedding_layer)\n",
    "  lstm_layer1 = LSTM(100,return_sequences = False)(drop_out1)\n",
    "\n",
    "\n",
    "  #drop_out = Dropout(0.3)(lstm_layer1)\n",
    "  out1 = Dense(11,activation='softmax')(lstm_layer1)\n",
    "\n",
    "  model_lstm = Model(inputs = inp1,outputs = out1)\n",
    "  model_lstm.compile(loss = 'categorical_crossentropy',optimizer='adam',metrics=['accuracy'])\n",
    "  model_lstm.summary()\n",
    "  return model_lstm"
   ]
  },
  {
   "cell_type": "code",
   "execution_count": 49,
   "metadata": {},
   "outputs": [
    {
     "name": "stdout",
     "output_type": "stream",
     "text": [
      "Model: \"model_2\"\n",
      "_________________________________________________________________\n",
      "Layer (type)                 Output Shape              Param #   \n",
      "=================================================================\n",
      "input_2 (InputLayer)         (None, 35)                0         \n",
      "_________________________________________________________________\n",
      "embedding_2 (Embedding)      (None, 35, 50)            1418600   \n",
      "_________________________________________________________________\n",
      "dropout_3 (Dropout)          (None, 35, 50)            0         \n",
      "_________________________________________________________________\n",
      "lstm_1 (LSTM)                (None, 100)               60400     \n",
      "_________________________________________________________________\n",
      "dense_2 (Dense)              (None, 11)                1111      \n",
      "=================================================================\n",
      "Total params: 1,480,111\n",
      "Trainable params: 61,511\n",
      "Non-trainable params: 1,418,600\n",
      "_________________________________________________________________\n"
     ]
    }
   ],
   "source": [
    "lstm_model = model_lstm(max_len = 35,vocab_size=vocab_len)"
   ]
  },
  {
   "cell_type": "code",
   "execution_count": 50,
   "metadata": {},
   "outputs": [
    {
     "name": "stdout",
     "output_type": "stream",
     "text": [
      "Train on 1607 samples, validate on 284 samples\n",
      "Epoch 1/40\n",
      "1607/1607 [==============================] - 8s 5ms/step - loss: 2.0075 - accuracy: 0.3261 - val_loss: 1.7460 - val_accuracy: 0.3944\n",
      "Epoch 2/40\n",
      "1607/1607 [==============================] - 9s 6ms/step - loss: 1.5326 - accuracy: 0.4966 - val_loss: 1.4992 - val_accuracy: 0.5387\n",
      "Epoch 3/40\n",
      "1607/1607 [==============================] - 8s 5ms/step - loss: 1.3886 - accuracy: 0.5414 - val_loss: 1.4938 - val_accuracy: 0.5563\n",
      "Epoch 4/40\n",
      "1607/1607 [==============================] - 6s 4ms/step - loss: 1.2716 - accuracy: 0.5924 - val_loss: 1.3291 - val_accuracy: 0.5951\n",
      "Epoch 5/40\n",
      "1607/1607 [==============================] - 6s 4ms/step - loss: 1.1487 - accuracy: 0.6254 - val_loss: 1.3678 - val_accuracy: 0.5669\n",
      "Epoch 6/40\n",
      "1607/1607 [==============================] - 6s 4ms/step - loss: 1.0779 - accuracy: 0.6559 - val_loss: 1.2370 - val_accuracy: 0.6268\n",
      "Epoch 7/40\n",
      "1607/1607 [==============================] - 6s 4ms/step - loss: 0.9690 - accuracy: 0.6920 - val_loss: 1.2485 - val_accuracy: 0.6127\n",
      "Epoch 8/40\n",
      "1607/1607 [==============================] - 6s 4ms/step - loss: 0.9457 - accuracy: 0.6895 - val_loss: 1.2149 - val_accuracy: 0.6373\n",
      "Epoch 9/40\n",
      "1607/1607 [==============================] - 6s 4ms/step - loss: 0.8531 - accuracy: 0.7225 - val_loss: 1.1517 - val_accuracy: 0.6725\n",
      "Epoch 10/40\n",
      "1607/1607 [==============================] - 6s 4ms/step - loss: 0.8027 - accuracy: 0.7461 - val_loss: 1.1971 - val_accuracy: 0.6303\n",
      "Epoch 11/40\n",
      "1607/1607 [==============================] - 6s 4ms/step - loss: 0.7788 - accuracy: 0.7480 - val_loss: 1.1796 - val_accuracy: 0.6761\n",
      "Epoch 12/40\n",
      "1607/1607 [==============================] - 7s 4ms/step - loss: 0.7436 - accuracy: 0.7586 - val_loss: 1.1193 - val_accuracy: 0.6725\n",
      "Epoch 13/40\n",
      "1607/1607 [==============================] - 6s 4ms/step - loss: 0.6953 - accuracy: 0.7685 - val_loss: 1.2077 - val_accuracy: 0.6479\n",
      "Epoch 14/40\n",
      "1607/1607 [==============================] - 6s 4ms/step - loss: 0.6543 - accuracy: 0.7859 - val_loss: 1.0751 - val_accuracy: 0.6866\n",
      "Epoch 15/40\n",
      "1607/1607 [==============================] - 6s 4ms/step - loss: 0.6151 - accuracy: 0.7990 - val_loss: 1.0902 - val_accuracy: 0.6972\n",
      "Epoch 16/40\n",
      "1607/1607 [==============================] - 6s 4ms/step - loss: 0.5948 - accuracy: 0.8015 - val_loss: 1.1233 - val_accuracy: 0.6937\n",
      "Epoch 17/40\n",
      "1607/1607 [==============================] - 6s 4ms/step - loss: 0.5533 - accuracy: 0.8164 - val_loss: 1.1760 - val_accuracy: 0.6761\n",
      "Epoch 18/40\n",
      "1607/1607 [==============================] - 6s 4ms/step - loss: 0.5421 - accuracy: 0.8251 - val_loss: 1.1480 - val_accuracy: 0.6831\n",
      "Epoch 19/40\n",
      "1607/1607 [==============================] - 6s 4ms/step - loss: 0.5194 - accuracy: 0.8239 - val_loss: 1.1426 - val_accuracy: 0.7077\n",
      "Epoch 20/40\n",
      "1607/1607 [==============================] - 6s 4ms/step - loss: 0.4922 - accuracy: 0.8345 - val_loss: 1.0670 - val_accuracy: 0.7218\n",
      "Epoch 21/40\n",
      "1607/1607 [==============================] - 6s 4ms/step - loss: 0.4658 - accuracy: 0.8426 - val_loss: 1.1745 - val_accuracy: 0.6866\n",
      "Epoch 22/40\n",
      "1607/1607 [==============================] - 6s 4ms/step - loss: 0.4366 - accuracy: 0.8575 - val_loss: 1.1062 - val_accuracy: 0.7218\n",
      "Epoch 23/40\n",
      "1607/1607 [==============================] - 6s 4ms/step - loss: 0.4164 - accuracy: 0.8606 - val_loss: 1.1837 - val_accuracy: 0.7113\n",
      "Epoch 24/40\n",
      "1607/1607 [==============================] - 6s 4ms/step - loss: 0.4013 - accuracy: 0.8625 - val_loss: 1.1656 - val_accuracy: 0.6866\n",
      "Epoch 25/40\n",
      "1607/1607 [==============================] - 6s 4ms/step - loss: 0.3551 - accuracy: 0.8830 - val_loss: 1.1860 - val_accuracy: 0.6937\n",
      "Epoch 26/40\n",
      "1607/1607 [==============================] - 6s 4ms/step - loss: 0.3298 - accuracy: 0.8892 - val_loss: 1.2767 - val_accuracy: 0.7042\n",
      "Epoch 27/40\n",
      "1607/1607 [==============================] - 6s 4ms/step - loss: 0.3330 - accuracy: 0.8874 - val_loss: 1.2374 - val_accuracy: 0.6972\n",
      "Epoch 28/40\n",
      "1607/1607 [==============================] - 6s 4ms/step - loss: 0.3256 - accuracy: 0.8942 - val_loss: 1.2898 - val_accuracy: 0.6796\n",
      "Epoch 29/40\n",
      "1607/1607 [==============================] - 6s 4ms/step - loss: 0.3274 - accuracy: 0.8892 - val_loss: 1.2467 - val_accuracy: 0.7113\n",
      "Epoch 30/40\n",
      "1607/1607 [==============================] - 6s 4ms/step - loss: 0.2985 - accuracy: 0.9017 - val_loss: 1.2637 - val_accuracy: 0.7077\n",
      "Epoch 31/40\n",
      "1607/1607 [==============================] - 6s 4ms/step - loss: 0.2749 - accuracy: 0.9179 - val_loss: 1.2739 - val_accuracy: 0.6972\n",
      "Epoch 32/40\n",
      "1607/1607 [==============================] - 6s 4ms/step - loss: 0.2589 - accuracy: 0.9154 - val_loss: 1.2638 - val_accuracy: 0.6901\n",
      "Epoch 33/40\n",
      "1607/1607 [==============================] - 6s 4ms/step - loss: 0.2570 - accuracy: 0.9141 - val_loss: 1.2473 - val_accuracy: 0.7077\n",
      "Epoch 34/40\n",
      "1607/1607 [==============================] - 6s 4ms/step - loss: 0.2544 - accuracy: 0.9079 - val_loss: 1.3749 - val_accuracy: 0.6937\n",
      "Epoch 35/40\n",
      "1607/1607 [==============================] - 6s 4ms/step - loss: 0.2238 - accuracy: 0.9222 - val_loss: 1.2958 - val_accuracy: 0.6901\n",
      "Epoch 36/40\n",
      "1607/1607 [==============================] - 6s 4ms/step - loss: 0.2268 - accuracy: 0.9303 - val_loss: 1.2321 - val_accuracy: 0.7289\n",
      "Epoch 37/40\n",
      "1607/1607 [==============================] - 6s 4ms/step - loss: 0.2070 - accuracy: 0.9365 - val_loss: 1.3364 - val_accuracy: 0.7007\n",
      "Epoch 38/40\n",
      "1607/1607 [==============================] - 6s 4ms/step - loss: 0.2340 - accuracy: 0.9147 - val_loss: 1.2655 - val_accuracy: 0.7007\n",
      "Epoch 39/40\n",
      "1607/1607 [==============================] - 6s 4ms/step - loss: 0.1811 - accuracy: 0.9421 - val_loss: 1.3838 - val_accuracy: 0.6725\n",
      "Epoch 40/40\n",
      "1607/1607 [==============================] - 6s 4ms/step - loss: 0.1941 - accuracy: 0.9365 - val_loss: 1.3137 - val_accuracy: 0.7007\n"
     ]
    }
   ],
   "source": [
    "hist = lstm_model.fit(padded_train,y_train,epochs = 40, batch_size=8,validation_split = 0.15)"
   ]
  },
  {
   "cell_type": "code",
   "execution_count": 51,
   "metadata": {},
   "outputs": [
    {
     "name": "stdout",
     "output_type": "stream",
     "text": [
      "Accuracy of LSTM model --->  0.6047904191616766\n"
     ]
    }
   ],
   "source": [
    "give_accuracy(lstm_model, padded_test, y_test, \"LSTM\")"
   ]
  },
  {
   "cell_type": "code",
   "execution_count": 52,
   "metadata": {},
   "outputs": [
    {
     "data": {
      "image/png": "[encoded data removed]",
      "text/plain": [
       "<Figure size 432x288 with 1 Axes>"
      ]
     },
     "metadata": {
      "needs_background": "light"
     },
     "output_type": "display_data"
    }
   ],
   "source": [
    "plt.plot(hist.history['accuracy'],label = 'train_accuracy')\n",
    "plt.plot(hist.history['val_accuracy'], label = 'validation_accuracy')\n",
    "plt.legend()\n",
    "plt.show()"
   ]
  },
  {
   "cell_type": "markdown",
   "metadata": {},
   "source": [
    "# Bidirectional LSTM"
   ]
  },
  {
   "cell_type": "markdown",
   "metadata": {},
   "source": [
    "The intuition behind using Bidirectional LSTMs is that they learn contextual information from both directions. This may help model to predict better outputs for text classification"
   ]
  },
  {
   "cell_type": "code",
   "execution_count": 53,
   "metadata": {},
   "outputs": [
    {
     "name": "stderr",
     "output_type": "stream",
     "text": [
      "/Library/Frameworks/Python.framework/Versions/3.7/lib/python3.7/site-packages/sklearn/preprocessing/_encoders.py:415: FutureWarning: The handling of integer data will change in version 0.22. Currently, the categories are determined based on the range [0, max(values)], while in the future they will be determined based on the unique values.\n",
      "If you want the future behaviour and silence this warning, you can specify \"categories='auto'\".\n",
      "In case you used a LabelEncoder before this OneHotEncoder to convert the categories to integers, then you can now use the OneHotEncoder directly.\n",
      "  warnings.warn(msg, FutureWarning)\n"
     ]
    }
   ],
   "source": [
    "(padded_train, y_train, padded_test, y_test, embeddings_matrix, vocab_len) = create_data_for_model(max_len = 35)"
   ]
  },
  {
   "cell_type": "code",
   "execution_count": 54,
   "metadata": {},
   "outputs": [],
   "source": [
    "def create_biLSTM_model(max_len,vocab_size):\n",
    "  inp1 = Input((max_len,))\n",
    "  embedding_layer = Embedding(input_dim=vocab_size + 1,output_dim= 50,mask_zero=True,weights = [embeddings_matrix],trainable = True)(inp1)\n",
    "  drop_out1 = Dropout(0.3)(embedding_layer)\n",
    "  lstm_layer1 = Bidirectional(LSTM(100,return_sequences = False))(drop_out1)\n",
    "\n",
    "\n",
    "  #drop_out = Dropout(0.3)(lstm_layer1)\n",
    "  out1 = Dense(11,activation='softmax')(lstm_layer1)\n",
    "\n",
    "  model_bi_lstm = Model(inputs = inp1,outputs = out1)\n",
    "  model_bi_lstm.compile(loss = 'categorical_crossentropy',optimizer='adam',metrics=['accuracy'])\n",
    "  model_bi_lstm.summary()\n",
    "  return model_bi_lstm"
   ]
  },
  {
   "cell_type": "code",
   "execution_count": 55,
   "metadata": {},
   "outputs": [
    {
     "name": "stdout",
     "output_type": "stream",
     "text": [
      "Model: \"model_3\"\n",
      "_________________________________________________________________\n",
      "Layer (type)                 Output Shape              Param #   \n",
      "=================================================================\n",
      "input_3 (InputLayer)         (None, 35)                0         \n",
      "_________________________________________________________________\n",
      "embedding_3 (Embedding)      (None, 35, 50)            1418600   \n",
      "_________________________________________________________________\n",
      "dropout_4 (Dropout)          (None, 35, 50)            0         \n",
      "_________________________________________________________________\n",
      "bidirectional_1 (Bidirection (None, 200)               120800    \n",
      "_________________________________________________________________\n",
      "dense_3 (Dense)              (None, 11)                2211      \n",
      "=================================================================\n",
      "Total params: 1,541,611\n",
      "Trainable params: 1,541,611\n",
      "Non-trainable params: 0\n",
      "_________________________________________________________________\n"
     ]
    }
   ],
   "source": [
    "model_bi_lstm = create_biLSTM_model(max_len = 35, vocab_size = vocab_len)"
   ]
  },
  {
   "cell_type": "code",
   "execution_count": 56,
   "metadata": {},
   "outputs": [
    {
     "name": "stderr",
     "output_type": "stream",
     "text": [
      "/Library/Frameworks/Python.framework/Versions/3.7/lib/python3.7/site-packages/tensorflow_core/python/framework/indexed_slices.py:424: UserWarning: Converting sparse IndexedSlices to a dense Tensor of unknown shape. This may consume a large amount of memory.\n",
      "  \"Converting sparse IndexedSlices to a dense Tensor of unknown shape. \"\n"
     ]
    },
    {
     "name": "stdout",
     "output_type": "stream",
     "text": [
      "Train on 1607 samples, validate on 284 samples\n",
      "Epoch 1/40\n",
      "1607/1607 [==============================] - 10s 6ms/step - loss: 1.9127 - accuracy: 0.3715 - val_loss: 1.4821 - val_accuracy: 0.5634\n",
      "Epoch 2/40\n",
      "1607/1607 [==============================] - 9s 5ms/step - loss: 1.2683 - accuracy: 0.6061 - val_loss: 1.1836 - val_accuracy: 0.6444\n",
      "Epoch 3/40\n",
      "1607/1607 [==============================] - 7s 5ms/step - loss: 0.9834 - accuracy: 0.6926 - val_loss: 1.1180 - val_accuracy: 0.6655\n",
      "Epoch 4/40\n",
      "1607/1607 [==============================] - 12s 7ms/step - loss: 0.8020 - accuracy: 0.7430 - val_loss: 1.0202 - val_accuracy: 0.6972\n",
      "Epoch 5/40\n",
      "1607/1607 [==============================] - 11s 7ms/step - loss: 0.6634 - accuracy: 0.7853 - val_loss: 1.0246 - val_accuracy: 0.7077\n",
      "Epoch 6/40\n",
      "1607/1607 [==============================] - 11s 7ms/step - loss: 0.5528 - accuracy: 0.8227 - val_loss: 0.9638 - val_accuracy: 0.7113\n",
      "Epoch 7/40\n",
      "1607/1607 [==============================] - 10s 6ms/step - loss: 0.4554 - accuracy: 0.8619 - val_loss: 1.0170 - val_accuracy: 0.7183\n",
      "Epoch 8/40\n",
      "1607/1607 [==============================] - 10s 6ms/step - loss: 0.4013 - accuracy: 0.8749 - val_loss: 1.0582 - val_accuracy: 0.7077\n",
      "Epoch 9/40\n",
      "1607/1607 [==============================] - 12s 8ms/step - loss: 0.3300 - accuracy: 0.8967 - val_loss: 1.0417 - val_accuracy: 0.7042\n",
      "Epoch 10/40\n",
      "1607/1607 [==============================] - 12s 7ms/step - loss: 0.2718 - accuracy: 0.9166 - val_loss: 1.1082 - val_accuracy: 0.7148\n",
      "Epoch 11/40\n",
      "1607/1607 [==============================] - 9s 5ms/step - loss: 0.2396 - accuracy: 0.9291 - val_loss: 1.1310 - val_accuracy: 0.7183\n",
      "Epoch 12/40\n",
      "1607/1607 [==============================] - 9s 5ms/step - loss: 0.1983 - accuracy: 0.9440 - val_loss: 1.1485 - val_accuracy: 0.7324\n",
      "Epoch 13/40\n",
      "1607/1607 [==============================] - 10s 6ms/step - loss: 0.1759 - accuracy: 0.9459 - val_loss: 1.2277 - val_accuracy: 0.7183\n",
      "Epoch 14/40\n",
      "1607/1607 [==============================] - 8s 5ms/step - loss: 0.1508 - accuracy: 0.9540 - val_loss: 1.1569 - val_accuracy: 0.7148\n",
      "Epoch 15/40\n",
      "1607/1607 [==============================] - 9s 6ms/step - loss: 0.1458 - accuracy: 0.9515 - val_loss: 1.2124 - val_accuracy: 0.7254\n",
      "Epoch 16/40\n",
      "1607/1607 [==============================] - 8s 5ms/step - loss: 0.1204 - accuracy: 0.9633 - val_loss: 1.1969 - val_accuracy: 0.7324\n",
      "Epoch 17/40\n",
      "1607/1607 [==============================] - 9s 6ms/step - loss: 0.1147 - accuracy: 0.9664 - val_loss: 1.2254 - val_accuracy: 0.7289\n",
      "Epoch 18/40\n",
      "1607/1607 [==============================] - 9s 6ms/step - loss: 0.0997 - accuracy: 0.9695 - val_loss: 1.2576 - val_accuracy: 0.7148\n",
      "Epoch 19/40\n",
      "1607/1607 [==============================] - 9s 6ms/step - loss: 0.0934 - accuracy: 0.9714 - val_loss: 1.2554 - val_accuracy: 0.7042\n",
      "Epoch 20/40\n",
      "1607/1607 [==============================] - 11s 7ms/step - loss: 0.0773 - accuracy: 0.9739 - val_loss: 1.2715 - val_accuracy: 0.7218\n",
      "Epoch 21/40\n",
      "1607/1607 [==============================] - 9s 6ms/step - loss: 0.0803 - accuracy: 0.9751 - val_loss: 1.2308 - val_accuracy: 0.7394\n",
      "Epoch 22/40\n",
      "1607/1607 [==============================] - 7s 5ms/step - loss: 0.0860 - accuracy: 0.9751 - val_loss: 1.3671 - val_accuracy: 0.7042\n",
      "Epoch 23/40\n",
      "1607/1607 [==============================] - 8s 5ms/step - loss: 0.0842 - accuracy: 0.9720 - val_loss: 1.1954 - val_accuracy: 0.7570\n",
      "Epoch 24/40\n",
      "1607/1607 [==============================] - 8s 5ms/step - loss: 0.0732 - accuracy: 0.9726 - val_loss: 1.2671 - val_accuracy: 0.7183\n",
      "Epoch 25/40\n",
      "1607/1607 [==============================] - 8s 5ms/step - loss: 0.0632 - accuracy: 0.9757 - val_loss: 1.3155 - val_accuracy: 0.7183\n",
      "Epoch 26/40\n",
      "1607/1607 [==============================] - 8s 5ms/step - loss: 0.0699 - accuracy: 0.9770 - val_loss: 1.2693 - val_accuracy: 0.7113\n",
      "Epoch 27/40\n",
      "1607/1607 [==============================] - 7s 5ms/step - loss: 0.0633 - accuracy: 0.9751 - val_loss: 1.2403 - val_accuracy: 0.7430\n",
      "Epoch 28/40\n",
      "1607/1607 [==============================] - 8s 5ms/step - loss: 0.0631 - accuracy: 0.9751 - val_loss: 1.2631 - val_accuracy: 0.7324\n",
      "Epoch 29/40\n",
      "1607/1607 [==============================] - 8s 5ms/step - loss: 0.0687 - accuracy: 0.9782 - val_loss: 1.3439 - val_accuracy: 0.7289\n",
      "Epoch 30/40\n",
      "1607/1607 [==============================] - 8s 5ms/step - loss: 0.0585 - accuracy: 0.9813 - val_loss: 1.2432 - val_accuracy: 0.7289\n",
      "Epoch 31/40\n",
      "1607/1607 [==============================] - 7s 5ms/step - loss: 0.0561 - accuracy: 0.9770 - val_loss: 1.2917 - val_accuracy: 0.7430\n",
      "Epoch 32/40\n",
      "1607/1607 [==============================] - 7s 4ms/step - loss: 0.0554 - accuracy: 0.9807 - val_loss: 1.2332 - val_accuracy: 0.7500\n",
      "Epoch 33/40\n",
      "1607/1607 [==============================] - 7s 4ms/step - loss: 0.0503 - accuracy: 0.9782 - val_loss: 1.2758 - val_accuracy: 0.7500\n",
      "Epoch 34/40\n",
      "1607/1607 [==============================] - 7s 4ms/step - loss: 0.0591 - accuracy: 0.9751 - val_loss: 1.3134 - val_accuracy: 0.7324\n",
      "Epoch 35/40\n",
      "1607/1607 [==============================] - 7s 4ms/step - loss: 0.0554 - accuracy: 0.9757 - val_loss: 1.2745 - val_accuracy: 0.7254\n",
      "Epoch 36/40\n",
      "1607/1607 [==============================] - 7s 5ms/step - loss: 0.0545 - accuracy: 0.9751 - val_loss: 1.3589 - val_accuracy: 0.7394\n",
      "Epoch 37/40\n",
      "1607/1607 [==============================] - 7s 4ms/step - loss: 0.0502 - accuracy: 0.9757 - val_loss: 1.3164 - val_accuracy: 0.7324\n",
      "Epoch 38/40\n",
      "1607/1607 [==============================] - 7s 4ms/step - loss: 0.0439 - accuracy: 0.9820 - val_loss: 1.3476 - val_accuracy: 0.7359\n",
      "Epoch 39/40\n",
      "1607/1607 [==============================] - 7s 4ms/step - loss: 0.0423 - accuracy: 0.9820 - val_loss: 1.3526 - val_accuracy: 0.7430\n",
      "Epoch 40/40\n",
      "1607/1607 [==============================] - 7s 5ms/step - loss: 0.0428 - accuracy: 0.9832 - val_loss: 1.3839 - val_accuracy: 0.7500\n"
     ]
    }
   ],
   "source": [
    "hist = model_bi_lstm.fit(padded_train,y_train,epochs = 40, batch_size=16,validation_split = 0.15)"
   ]
  },
  {
   "cell_type": "code",
   "execution_count": 57,
   "metadata": {},
   "outputs": [
    {
     "name": "stdout",
     "output_type": "stream",
     "text": [
      "Accuracy of Bidirectional_LSTM model --->  0.625748502994012\n"
     ]
    }
   ],
   "source": [
    "give_accuracy(model_bi_lstm, padded_test, y_test, \"Bidirectional_LSTM\")"
   ]
  },
  {
   "cell_type": "code",
   "execution_count": 58,
   "metadata": {},
   "outputs": [
    {
     "data": {
      "image/png": "[encoded data removed]",
      "text/plain": [
       "<Figure size 432x288 with 1 Axes>"
      ]
     },
     "metadata": {
      "needs_background": "light"
     },
     "output_type": "display_data"
    }
   ],
   "source": [
    "plt.plot(hist.history['accuracy'],label = 'train_accuracy')\n",
    "plt.plot(hist.history['val_accuracy'], label = 'validation_accuracy')\n",
    "plt.legend()\n",
    "plt.show()"
   ]
  },
  {
   "cell_type": "markdown",
   "metadata": {},
   "source": [
    "# Hybrid - CNN + LSTM"
   ]
  },
  {
   "cell_type": "code",
   "execution_count": 59,
   "metadata": {},
   "outputs": [
    {
     "name": "stderr",
     "output_type": "stream",
     "text": [
      "/Library/Frameworks/Python.framework/Versions/3.7/lib/python3.7/site-packages/sklearn/preprocessing/_encoders.py:415: FutureWarning: The handling of integer data will change in version 0.22. Currently, the categories are determined based on the range [0, max(values)], while in the future they will be determined based on the unique values.\n",
      "If you want the future behaviour and silence this warning, you can specify \"categories='auto'\".\n",
      "In case you used a LabelEncoder before this OneHotEncoder to convert the categories to integers, then you can now use the OneHotEncoder directly.\n",
      "  warnings.warn(msg, FutureWarning)\n"
     ]
    }
   ],
   "source": [
    "(padded_train, y_train, padded_test, y_test, embeddings_matrix,vocab_len) = create_data_for_model(max_len = 35)"
   ]
  },
  {
   "cell_type": "code",
   "execution_count": 60,
   "metadata": {},
   "outputs": [],
   "source": [
    "def create_hybrid_model(max_len,vocab_size):\n",
    "\n",
    "  pooling_layers = []\n",
    "\n",
    "\n",
    "  inp1 = Input((max_len,))\n",
    "  embedding_layer = Embedding(input_dim=vocab_size + 1,output_dim= 50,mask_zero=False,weights = [embeddings_matrix],trainable = True)(inp1)\n",
    "  dp = Dropout(0.3)(embedding_layer)\n",
    "\n",
    "  x1 = Conv1D(filters=36,kernel_size=1,activation = 'relu')(dp)\n",
    "  pooling_layers.append(MaxPool1D(pool_size=max_len - 19,stride = 1)(x1))\n",
    "\n",
    "  x2 = Conv1D(filters=36,kernel_size=2,activation = 'relu')(dp)\n",
    "  pooling_layers.append(MaxPool1D(pool_size=max_len - 20,stride = 1)(x2))\n",
    "\n",
    "  x3 = Conv1D(filters=36,kernel_size=3,activation = 'relu')(dp)\n",
    "  pooling_layers.append(MaxPool1D(pool_size=max_len - 21,stride = 1)(x3))\n",
    "\n",
    "  z = Concatenate(axis = 2)(pooling_layers)\n",
    "  drop_out = Dropout(0.3)(z)\n",
    "\n",
    "  lstm_layer1 = (LSTM(100,return_sequences = False))(drop_out)\n",
    "\n",
    "\n",
    "  drop_out = Dropout(0.3)(lstm_layer1)\n",
    "  out1 = Dense(11,activation='softmax')(lstm_layer1)\n",
    "\n",
    "  hybrid_model = Model(inputs = inp1,outputs = out1)\n",
    "  hybrid_model.compile(loss = 'categorical_crossentropy',optimizer='adam',metrics=['accuracy'])\n",
    "  hybrid_model.summary()\n",
    "  return hybrid_model"
   ]
  },
  {
   "cell_type": "code",
   "execution_count": 61,
   "metadata": {},
   "outputs": [
    {
     "name": "stderr",
     "output_type": "stream",
     "text": [
      "/Library/Frameworks/Python.framework/Versions/3.7/lib/python3.7/site-packages/ipykernel_launcher.py:11: UserWarning: Update your `MaxPooling1D` call to the Keras 2 API: `MaxPooling1D(pool_size=16, strides=1)`\n",
      "  # This is added back by InteractiveShellApp.init_path()\n",
      "/Library/Frameworks/Python.framework/Versions/3.7/lib/python3.7/site-packages/ipykernel_launcher.py:14: UserWarning: Update your `MaxPooling1D` call to the Keras 2 API: `MaxPooling1D(pool_size=15, strides=1)`\n",
      "  \n",
      "/Library/Frameworks/Python.framework/Versions/3.7/lib/python3.7/site-packages/ipykernel_launcher.py:17: UserWarning: Update your `MaxPooling1D` call to the Keras 2 API: `MaxPooling1D(pool_size=14, strides=1)`\n"
     ]
    },
    {
     "name": "stdout",
     "output_type": "stream",
     "text": [
      "Model: \"model_4\"\n",
      "__________________________________________________________________________________________________\n",
      "Layer (type)                    Output Shape         Param #     Connected to                     \n",
      "==================================================================================================\n",
      "input_4 (InputLayer)            (None, 35)           0                                            \n",
      "__________________________________________________________________________________________________\n",
      "embedding_4 (Embedding)         (None, 35, 50)       1418600     input_4[0][0]                    \n",
      "__________________________________________________________________________________________________\n",
      "dropout_5 (Dropout)             (None, 35, 50)       0           embedding_4[0][0]                \n",
      "__________________________________________________________________________________________________\n",
      "conv1d_6 (Conv1D)               (None, 35, 36)       1836        dropout_5[0][0]                  \n",
      "__________________________________________________________________________________________________\n",
      "conv1d_7 (Conv1D)               (None, 34, 36)       3636        dropout_5[0][0]                  \n",
      "__________________________________________________________________________________________________\n",
      "conv1d_8 (Conv1D)               (None, 33, 36)       5436        dropout_5[0][0]                  \n",
      "__________________________________________________________________________________________________\n",
      "max_pooling1d_6 (MaxPooling1D)  (None, 20, 36)       0           conv1d_6[0][0]                   \n",
      "__________________________________________________________________________________________________\n",
      "max_pooling1d_7 (MaxPooling1D)  (None, 20, 36)       0           conv1d_7[0][0]                   \n",
      "__________________________________________________________________________________________________\n",
      "max_pooling1d_8 (MaxPooling1D)  (None, 20, 36)       0           conv1d_8[0][0]                   \n",
      "__________________________________________________________________________________________________\n",
      "concatenate_2 (Concatenate)     (None, 20, 108)      0           max_pooling1d_6[0][0]            \n",
      "                                                                 max_pooling1d_7[0][0]            \n",
      "                                                                 max_pooling1d_8[0][0]            \n",
      "__________________________________________________________________________________________________\n",
      "dropout_6 (Dropout)             (None, 20, 108)      0           concatenate_2[0][0]              \n",
      "__________________________________________________________________________________________________\n",
      "lstm_3 (LSTM)                   (None, 100)          83600       dropout_6[0][0]                  \n",
      "__________________________________________________________________________________________________\n",
      "dense_4 (Dense)                 (None, 11)           1111        lstm_3[0][0]                     \n",
      "==================================================================================================\n",
      "Total params: 1,514,219\n",
      "Trainable params: 1,514,219\n",
      "Non-trainable params: 0\n",
      "__________________________________________________________________________________________________\n"
     ]
    }
   ],
   "source": [
    "hybrid_model = create_hybrid_model(35,vocab_size=vocab_len)"
   ]
  },
  {
   "cell_type": "code",
   "execution_count": 62,
   "metadata": {},
   "outputs": [
    {
     "name": "stderr",
     "output_type": "stream",
     "text": [
      "/Library/Frameworks/Python.framework/Versions/3.7/lib/python3.7/site-packages/tensorflow_core/python/framework/indexed_slices.py:424: UserWarning: Converting sparse IndexedSlices to a dense Tensor of unknown shape. This may consume a large amount of memory.\n",
      "  \"Converting sparse IndexedSlices to a dense Tensor of unknown shape. \"\n"
     ]
    },
    {
     "name": "stdout",
     "output_type": "stream",
     "text": [
      "Train on 1607 samples, validate on 284 samples\n",
      "Epoch 1/35\n",
      "1607/1607 [==============================] - 10s 6ms/step - loss: 2.2876 - accuracy: 0.1680 - val_loss: 2.1870 - val_accuracy: 0.2113\n",
      "Epoch 2/35\n",
      "1607/1607 [==============================] - 9s 6ms/step - loss: 2.0985 - accuracy: 0.2663 - val_loss: 1.9595 - val_accuracy: 0.3310\n",
      "Epoch 3/35\n",
      "1607/1607 [==============================] - 9s 6ms/step - loss: 1.8298 - accuracy: 0.3815 - val_loss: 1.7481 - val_accuracy: 0.3873\n",
      "Epoch 4/35\n",
      "1607/1607 [==============================] - 9s 6ms/step - loss: 1.5779 - accuracy: 0.4835 - val_loss: 1.4941 - val_accuracy: 0.5141\n",
      "Epoch 5/35\n",
      "1607/1607 [==============================] - 9s 6ms/step - loss: 1.3687 - accuracy: 0.5507 - val_loss: 1.3520 - val_accuracy: 0.5951\n",
      "Epoch 6/35\n",
      "1607/1607 [==============================] - 9s 6ms/step - loss: 1.1818 - accuracy: 0.6192 - val_loss: 1.2178 - val_accuracy: 0.6268\n",
      "Epoch 7/35\n",
      "1607/1607 [==============================] - 9s 6ms/step - loss: 1.0422 - accuracy: 0.6783 - val_loss: 1.1468 - val_accuracy: 0.6479\n",
      "Epoch 8/35\n",
      "1607/1607 [==============================] - 9s 6ms/step - loss: 0.9008 - accuracy: 0.7119 - val_loss: 1.0979 - val_accuracy: 0.6796\n",
      "Epoch 9/35\n",
      "1607/1607 [==============================] - 9s 6ms/step - loss: 0.8114 - accuracy: 0.7386 - val_loss: 1.0813 - val_accuracy: 0.6725\n",
      "Epoch 10/35\n",
      "1607/1607 [==============================] - 9s 6ms/step - loss: 0.7233 - accuracy: 0.7785 - val_loss: 1.1030 - val_accuracy: 0.6901\n",
      "Epoch 11/35\n",
      "1607/1607 [==============================] - 9s 6ms/step - loss: 0.6270 - accuracy: 0.8009 - val_loss: 1.2376 - val_accuracy: 0.6690\n",
      "Epoch 12/35\n",
      "1607/1607 [==============================] - 9s 6ms/step - loss: 0.5693 - accuracy: 0.8177 - val_loss: 1.2164 - val_accuracy: 0.6831\n",
      "Epoch 13/35\n",
      "1607/1607 [==============================] - 9s 6ms/step - loss: 0.5083 - accuracy: 0.8507 - val_loss: 1.1642 - val_accuracy: 0.7254\n",
      "Epoch 14/35\n",
      "1607/1607 [==============================] - 9s 6ms/step - loss: 0.4240 - accuracy: 0.8650 - val_loss: 1.2247 - val_accuracy: 0.7042\n",
      "Epoch 15/35\n",
      "1607/1607 [==============================] - 9s 6ms/step - loss: 0.3992 - accuracy: 0.8793 - val_loss: 1.2727 - val_accuracy: 0.7113\n",
      "Epoch 16/35\n",
      "1607/1607 [==============================] - 9s 6ms/step - loss: 0.3752 - accuracy: 0.8855 - val_loss: 1.2515 - val_accuracy: 0.7148\n",
      "Epoch 17/35\n",
      "1607/1607 [==============================] - 9s 6ms/step - loss: 0.3113 - accuracy: 0.8948 - val_loss: 1.2791 - val_accuracy: 0.7148\n",
      "Epoch 18/35\n",
      "1607/1607 [==============================] - 9s 6ms/step - loss: 0.2632 - accuracy: 0.9091 - val_loss: 1.3492 - val_accuracy: 0.7183\n",
      "Epoch 19/35\n",
      "1607/1607 [==============================] - 9s 6ms/step - loss: 0.2617 - accuracy: 0.9235 - val_loss: 1.2951 - val_accuracy: 0.7077\n",
      "Epoch 20/35\n",
      "1607/1607 [==============================] - 9s 6ms/step - loss: 0.2262 - accuracy: 0.9315 - val_loss: 1.3173 - val_accuracy: 0.7113\n",
      "Epoch 21/35\n",
      "1607/1607 [==============================] - 9s 6ms/step - loss: 0.2119 - accuracy: 0.9284 - val_loss: 1.3732 - val_accuracy: 0.7077\n",
      "Epoch 22/35\n",
      "1607/1607 [==============================] - 9s 6ms/step - loss: 0.2023 - accuracy: 0.9353 - val_loss: 1.3067 - val_accuracy: 0.7183\n",
      "Epoch 23/35\n",
      "1607/1607 [==============================] - 9s 6ms/step - loss: 0.1761 - accuracy: 0.9477 - val_loss: 1.4773 - val_accuracy: 0.6972\n",
      "Epoch 24/35\n",
      "1607/1607 [==============================] - 9s 6ms/step - loss: 0.1777 - accuracy: 0.9434 - val_loss: 1.4209 - val_accuracy: 0.7077\n",
      "Epoch 25/35\n",
      "1607/1607 [==============================] - 9s 6ms/step - loss: 0.1585 - accuracy: 0.9496 - val_loss: 1.3854 - val_accuracy: 0.7042\n",
      "Epoch 26/35\n",
      "1607/1607 [==============================] - 9s 6ms/step - loss: 0.1429 - accuracy: 0.9502 - val_loss: 1.4798 - val_accuracy: 0.7183\n",
      "Epoch 27/35\n",
      "1607/1607 [==============================] - 10s 6ms/step - loss: 0.1060 - accuracy: 0.9639 - val_loss: 1.5694 - val_accuracy: 0.7113\n",
      "Epoch 28/35\n",
      "1607/1607 [==============================] - 9s 6ms/step - loss: 0.1049 - accuracy: 0.9633 - val_loss: 1.5167 - val_accuracy: 0.7183\n",
      "Epoch 29/35\n",
      "1607/1607 [==============================] - 9s 6ms/step - loss: 0.1196 - accuracy: 0.9583 - val_loss: 1.5235 - val_accuracy: 0.7183\n",
      "Epoch 30/35\n",
      "1607/1607 [==============================] - 9s 6ms/step - loss: 0.1173 - accuracy: 0.9633 - val_loss: 1.5493 - val_accuracy: 0.6972\n",
      "Epoch 31/35\n",
      "1607/1607 [==============================] - 9s 6ms/step - loss: 0.1157 - accuracy: 0.9583 - val_loss: 1.4402 - val_accuracy: 0.7218\n",
      "Epoch 32/35\n",
      "1607/1607 [==============================] - 11s 7ms/step - loss: 0.1135 - accuracy: 0.9596 - val_loss: 1.5113 - val_accuracy: 0.7394\n",
      "Epoch 33/35\n",
      "1607/1607 [==============================] - 13s 8ms/step - loss: 0.0896 - accuracy: 0.9689 - val_loss: 1.4737 - val_accuracy: 0.7218\n",
      "Epoch 34/35\n",
      "1607/1607 [==============================] - 11s 7ms/step - loss: 0.0803 - accuracy: 0.9695 - val_loss: 1.5264 - val_accuracy: 0.7324\n",
      "Epoch 35/35\n",
      "1607/1607 [==============================] - 11s 7ms/step - loss: 0.1136 - accuracy: 0.9658 - val_loss: 1.5763 - val_accuracy: 0.7077\n"
     ]
    }
   ],
   "source": [
    "hist = hybrid_model.fit(padded_train,y_train,epochs = 35, batch_size=8,validation_split = 0.15)"
   ]
  },
  {
   "cell_type": "code",
   "execution_count": 63,
   "metadata": {},
   "outputs": [
    {
     "name": "stdout",
     "output_type": "stream",
     "text": [
      "Accuracy of Hybrid Model model --->  0.6736526946107785\n"
     ]
    }
   ],
   "source": [
    "give_accuracy(hybrid_model,padded_test,y_test,\"Hybrid Model\")"
   ]
  },
  {
   "cell_type": "code",
   "execution_count": null,
   "metadata": {},
   "outputs": [],
   "source": []
  }
 ],
 "metadata": {
  "kernelspec": {
   "display_name": "Python 3",
   "language": "python",
   "name": "python3"
  },
  "language_info": {
   "codemirror_mode": {
    "name": "ipython",
    "version": 3
   },
   "file_extension": ".py",
   "mimetype": "text/x-python",
   "name": "python",
   "nbconvert_exporter": "python",
   "pygments_lexer": "ipython3",
   "version": "3.7.3"
  }
 },
 "nbformat": 4,
 "nbformat_minor": 4
}
