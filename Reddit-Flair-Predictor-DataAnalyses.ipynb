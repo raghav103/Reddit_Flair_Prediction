{
 "cells": [
  {
   "cell_type": "code",
   "execution_count": 2,
   "metadata": {},
   "outputs": [
    {
     "name": "stderr",
     "output_type": "stream",
     "text": [
      "Using TensorFlow backend.\n"
     ]
    }
   ],
   "source": [
    "import pandas as pd\n",
    "import numpy as np\n",
    "import matplotlib.pyplot as plt\n",
    "import keras\n",
    "import re\n",
    "import nltk\n",
    "from nltk.corpus import stopwords\n",
    "from nltk.stem import WordNetLemmatizer\n",
    "from nltk.corpus import wordnet\n",
    "import string\n",
    "import json\n",
    "from time import time\n",
    "import pickle\n",
    "from collections import Counter\n",
    "from spacy.lang.en import English"
   ]
  },
  {
   "cell_type": "code",
   "execution_count": 3,
   "metadata": {},
   "outputs": [
    {
     "data": {
      "text/html": [
       "<script>\n",
       "code_show_err=false; \n",
       "function code_toggle_err() {\n",
       " if (code_show_err){\n",
       " $('div.output_stderr').hide();\n",
       " } else {\n",
       " $('div.output_stderr').show();\n",
       " }\n",
       " code_show_err = !code_show_err\n",
       "} \n",
       "$( document ).ready(code_toggle_err);\n",
       "</script>\n",
       "To toggle on/off output_stderr, click <a href=\"javascript:code_toggle_err()\">here</a>."
      ],
      "text/plain": [
       "<IPython.core.display.HTML object>"
      ]
     },
     "execution_count": 3,
     "metadata": {},
     "output_type": "execute_result"
    }
   ],
   "source": [
    "from IPython.display import HTML\n",
    "HTML('''<script>\n",
    "code_show_err=false; \n",
    "function code_toggle_err() {\n",
    " if (code_show_err){\n",
    " $('div.output_stderr').hide();\n",
    " } else {\n",
    " $('div.output_stderr').show();\n",
    " }\n",
    " code_show_err = !code_show_err\n",
    "} \n",
    "$( document ).ready(code_toggle_err);\n",
    "</script>\n",
    "To toggle on/off output_stderr, click <a href=\"javascript:code_toggle_err()\">here</a>.''')"
   ]
  },
  {
   "cell_type": "code",
   "execution_count": 4,
   "metadata": {},
   "outputs": [],
   "source": [
    "data = pd.read_csv(\"reddit-data.csv\")   # importing csv file"
   ]
  },
  {
   "cell_type": "code",
   "execution_count": 5,
   "metadata": {},
   "outputs": [
    {
     "data": {
      "text/html": [
       "<div>\n",
       "<style scoped>\n",
       "    .dataframe tbody tr th:only-of-type {\n",
       "        vertical-align: middle;\n",
       "    }\n",
       "\n",
       "    .dataframe tbody tr th {\n",
       "        vertical-align: top;\n",
       "    }\n",
       "\n",
       "    .dataframe thead th {\n",
       "        text-align: right;\n",
       "    }\n",
       "</style>\n",
       "<table border=\"1\" class=\"dataframe\">\n",
       "  <thead>\n",
       "    <tr style=\"text-align: right;\">\n",
       "      <th></th>\n",
       "      <th>title</th>\n",
       "      <th>score</th>\n",
       "      <th>body</th>\n",
       "      <th>url</th>\n",
       "      <th>num_comments</th>\n",
       "      <th>comments</th>\n",
       "      <th>flair</th>\n",
       "      <th>id</th>\n",
       "    </tr>\n",
       "  </thead>\n",
       "  <tbody>\n",
       "    <tr>\n",
       "      <th>0</th>\n",
       "      <td>Untouchability, even in quarantine. 'We have n...</td>\n",
       "      <td>54</td>\n",
       "      <td>NaN</td>\n",
       "      <td>https://www.telegraphindia.com/india/coronavir...</td>\n",
       "      <td>7</td>\n",
       "      <td>Let them feel hungry for a couple of days, ma...</td>\n",
       "      <td>Scheduled</td>\n",
       "      <td>fzvwz8</td>\n",
       "    </tr>\n",
       "    <tr>\n",
       "      <th>1</th>\n",
       "      <td>Delhi Govt Sources: Names of CM Arvind Kejriwa...</td>\n",
       "      <td>303</td>\n",
       "      <td>NaN</td>\n",
       "      <td>https://twitter.com/ANI/status/123109390051893...</td>\n",
       "      <td>30</td>\n",
       "      <td>This is beyond petty. &gt; The inclusion of a De...</td>\n",
       "      <td>Scheduled</td>\n",
       "      <td>f7ogd8</td>\n",
       "    </tr>\n",
       "    <tr>\n",
       "      <th>2</th>\n",
       "      <td>Delhi: AP Singh, advocate of 2012 Delhi gang-r...</td>\n",
       "      <td>18</td>\n",
       "      <td>NaN</td>\n",
       "      <td>https://twitter.com/ani/status/124073128907587...</td>\n",
       "      <td>21</td>\n",
       "      <td>My hunch is , this guy is trying to expose th...</td>\n",
       "      <td>Scheduled</td>\n",
       "      <td>flgvah</td>\n",
       "    </tr>\n",
       "  </tbody>\n",
       "</table>\n",
       "</div>"
      ],
      "text/plain": [
       "                                               title  score body  \\\n",
       "0  Untouchability, even in quarantine. 'We have n...     54  NaN   \n",
       "1  Delhi Govt Sources: Names of CM Arvind Kejriwa...    303  NaN   \n",
       "2  Delhi: AP Singh, advocate of 2012 Delhi gang-r...     18  NaN   \n",
       "\n",
       "                                                 url  num_comments  \\\n",
       "0  https://www.telegraphindia.com/india/coronavir...             7   \n",
       "1  https://twitter.com/ANI/status/123109390051893...            30   \n",
       "2  https://twitter.com/ani/status/124073128907587...            21   \n",
       "\n",
       "                                            comments      flair      id  \n",
       "0   Let them feel hungry for a couple of days, ma...  Scheduled  fzvwz8  \n",
       "1   This is beyond petty. > The inclusion of a De...  Scheduled  f7ogd8  \n",
       "2   My hunch is , this guy is trying to expose th...  Scheduled  flgvah  "
      ]
     },
     "execution_count": 5,
     "metadata": {},
     "output_type": "execute_result"
    }
   ],
   "source": [
    "data.head(3)"
   ]
  },
  {
   "cell_type": "markdown",
   "metadata": {},
   "source": [
    "# Finding where we have Missing Data"
   ]
  },
  {
   "cell_type": "code",
   "execution_count": 6,
   "metadata": {},
   "outputs": [
    {
     "name": "stdout",
     "output_type": "stream",
     "text": [
      "<class 'pandas.core.frame.DataFrame'>\n",
      "RangeIndex: 2225 entries, 0 to 2224\n",
      "Data columns (total 8 columns):\n",
      "title           2225 non-null object\n",
      "score           2225 non-null int64\n",
      "body            1236 non-null object\n",
      "url             2225 non-null object\n",
      "num_comments    2225 non-null int64\n",
      "comments        1975 non-null object\n",
      "flair           2225 non-null object\n",
      "id              2225 non-null object\n",
      "dtypes: int64(2), object(6)\n",
      "memory usage: 139.1+ KB\n"
     ]
    }
   ],
   "source": [
    "data.info() "
   ]
  },
  {
   "cell_type": "markdown",
   "metadata": {},
   "source": [
    "1. The graph below shows that there are many null objects in body column, almost half of the values are null. This will lead to huge loss of data while training. So we will not consider body column for training.\n",
    "\n",
    "2. We can work with comments by removing null objects using data.dropna()"
   ]
  },
  {
   "cell_type": "code",
   "execution_count": 7,
   "metadata": {},
   "outputs": [
    {
     "data": {
      "image/png": "[encoded data removed]",
      "text/plain": [
       "<Figure size 432x288 with 1 Axes>"
      ]
     },
     "metadata": {
      "needs_background": "light"
     },
     "output_type": "display_data"
    }
   ],
   "source": [
    "import seaborn as sns\n",
    "sns.heatmap(data.isnull(),yticklabels=False,cbar = False ,cmap='cubehelix')  # Graph showing null objects\n",
    "plt.title('Graph showing null objects')\n",
    "plt.show()"
   ]
  },
  {
   "cell_type": "markdown",
   "metadata": {},
   "source": [
    "We will be focusing our attention on the “Title”, \"url\", \"comments\" columns as they contain the most valuable qualitative information."
   ]
  },
  {
   "cell_type": "markdown",
   "metadata": {},
   "source": [
    "# Creating a histogram across flair categories ( To understand distribution of our data )"
   ]
  },
  {
   "cell_type": "code",
   "execution_count": 8,
   "metadata": {},
   "outputs": [
    {
     "data": {
      "image/png": "[encoded data removed]",
      "text/plain": [
       "<Figure size 720x360 with 1 Axes>"
      ]
     },
     "metadata": {
      "needs_background": "light"
     },
     "output_type": "display_data"
    }
   ],
   "source": [
    "plt.figure(figsize = (10,5))\n",
    "ax = sns.countplot(x='flair',data=data,palette='muted')\n",
    "ax.set_xticklabels(ax.get_xticklabels(), rotation=40, ha=\"right\")\n",
    "plt.tight_layout()\n",
    "plt.show()"
   ]
  },
  {
   "cell_type": "code",
   "execution_count": 9,
   "metadata": {},
   "outputs": [
    {
     "data": {
      "text/plain": [
       "Coronavirus             249\n",
       "Politics                249\n",
       "Scheduled               234\n",
       "Sports                  232\n",
       "AskIndia                228\n",
       "Photography             222\n",
       "Science/Technology      221\n",
       "Policy/Economy          220\n",
       "Non-Political           217\n",
       "CAA-NRC-NPR             111\n",
       "FoodBusiness/Finance     42\n",
       "Name: flair, dtype: int64"
      ]
     },
     "execution_count": 9,
     "metadata": {},
     "output_type": "execute_result"
    }
   ],
   "source": [
    "data['flair'].value_counts()"
   ]
  },
  {
   "cell_type": "markdown",
   "metadata": {},
   "source": [
    "# Text Preprocessing"
   ]
  },
  {
   "cell_type": "code",
   "execution_count": 10,
   "metadata": {},
   "outputs": [
    {
     "name": "stderr",
     "output_type": "stream",
     "text": [
      "[nltk_data] Downloading package stopwords to /Users/apple/nltk_data...\n",
      "[nltk_data]   Package stopwords is already up-to-date!\n"
     ]
    },
    {
     "data": {
      "text/plain": [
       "True"
      ]
     },
     "execution_count": 10,
     "metadata": {},
     "output_type": "execute_result"
    }
   ],
   "source": [
    "import nltk\n",
    "nltk.download('stopwords')"
   ]
  },
  {
   "cell_type": "code",
   "execution_count": 11,
   "metadata": {},
   "outputs": [
    {
     "name": "stderr",
     "output_type": "stream",
     "text": [
      "[nltk_data] Downloading package averaged_perceptron_tagger to\n",
      "[nltk_data]     /Users/apple/nltk_data...\n",
      "[nltk_data]   Package averaged_perceptron_tagger is already up-to-\n",
      "[nltk_data]       date!\n"
     ]
    },
    {
     "data": {
      "text/plain": [
       "True"
      ]
     },
     "execution_count": 11,
     "metadata": {},
     "output_type": "execute_result"
    }
   ],
   "source": [
    "nltk.download('averaged_perceptron_tagger')"
   ]
  },
  {
   "cell_type": "code",
   "execution_count": 12,
   "metadata": {},
   "outputs": [
    {
     "name": "stderr",
     "output_type": "stream",
     "text": [
      "[nltk_data] Downloading package wordnet to /Users/apple/nltk_data...\n",
      "[nltk_data]   Package wordnet is already up-to-date!\n"
     ]
    },
    {
     "data": {
      "text/plain": [
       "True"
      ]
     },
     "execution_count": 12,
     "metadata": {},
     "output_type": "execute_result"
    }
   ],
   "source": [
    "nltk.download('wordnet')"
   ]
  },
  {
   "cell_type": "code",
   "execution_count": 13,
   "metadata": {},
   "outputs": [
    {
     "name": "stdout",
     "output_type": "stream",
     "text": [
      "{'weren', \"you're\", 'through', \"hasn't\", 'wouldn', 'below', \"doesn't\", 'd', \"shan't\", 'is', 'isn', 'of', \"that'll\", 'about', 'now', \"you'd\", 'before', 'both', 'had', 'a', 'for', 'his', 'as', 'yours', 'because', 'can', 'all', 'very', 'couldn', 'ain', 'into', 'not', 'doesn', 'each', 'this', 'aren', \"you'll\", 'no', 'will', 'hadn', 'just', 'he', 's', 'these', 'ourselves', 'and', 'i', 'more', 'shouldn', \"should've\", 'yourselves', 'so', 'being', 'off', 'are', 'do', \"couldn't\", \"it's\", \"mightn't\", 'here', 'we', \"wasn't\", 't', 'doing', 'few', \"mustn't\", 'it', 'does', 'up', 'at', 'have', 'needn', 'to', \"hadn't\", 'out', 'don', 'hers', 'll', 'be', 'been', 'some', 'himself', 'by', \"didn't\", 'our', 'above', 'under', \"don't\", 'm', 'against', 'during', 'they', 'with', 'your', 'whom', 'further', 'them', 'themselves', 'did', 'she', 'am', \"shouldn't\", 'that', 'any', \"haven't\", 'other', 'same', 'yourself', \"you've\", 'the', 'but', 'again', \"won't\", 'between', 'over', 'why', 'which', 'itself', 'were', 'haven', 'its', 'shan', 'having', 'him', 'once', 'when', 'y', 'where', 'you', 'who', 'an', 'own', 'such', 've', 'from', 'on', 'ma', 'has', \"aren't\", 'or', \"wouldn't\", 'her', 're', 'those', 'herself', 'in', 'mightn', 'most', 'then', 'theirs', 'myself', 'mustn', \"needn't\", 'wasn', 'won', \"she's\", 'until', 'was', \"isn't\", 'didn', 'should', 'o', 'me', 'too', \"weren't\", 'ours', 'my', 'if', 'while', 'hasn', 'down', 'what', 'after', 'only', 'their', 'there', 'than', 'nor', 'how'}\n"
     ]
    }
   ],
   "source": [
    "from nltk.corpus import stopwords\n",
    "stopwords_set = set(stopwords.words('english'))   \n",
    "print(stopwords_set) #stopwords set"
   ]
  },
  {
   "cell_type": "code",
   "execution_count": 14,
   "metadata": {},
   "outputs": [],
   "source": [
    "from nltk.stem.wordnet import WordNetLemmatizer \n",
    "wnl = WordNetLemmatizer()"
   ]
  },
  {
   "cell_type": "code",
   "execution_count": 15,
   "metadata": {},
   "outputs": [],
   "source": [
    "def lemmatise(sent):\n",
    "    \"\"\"\n",
    "    Performs lemmatization of text\n",
    "    \"\"\"\n",
    "    sent = nltk.tag.pos_tag(sent)\n",
    "    sent = [(w,get_wordnet_pos(p)) for (w,p) in sent]\n",
    "    sent = [wnl.lemmatize(w,tag) for (w,tag) in sent]\n",
    "    return sent\n",
    "\n",
    "def get_wordnet_pos(tag):\n",
    "    \"\"\"\n",
    "    returns part_of_speech tag to lemmatizer in 'wordnet' format for lemmatization\n",
    "    \"\"\"\n",
    "    if tag.startswith('J'):\n",
    "        return wordnet.ADJ\n",
    "    elif tag.startswith('V'):\n",
    "        return wordnet.VERB\n",
    "    elif tag.startswith('N'):\n",
    "        return wordnet.NOUN\n",
    "    elif tag.startswith('R'):\n",
    "        return wordnet.ADV\n",
    "    else:\n",
    "        return wordnet.NOUN"
   ]
  },
  {
   "cell_type": "code",
   "execution_count": 16,
   "metadata": {},
   "outputs": [],
   "source": [
    "def text_cleaning(sent):\n",
    "    sent = sent.lower()   #converting to lower case\n",
    "    sent = re.sub(\"[^a-zA-Z]+|(pdf|html|www|http|jpg|com)\",\" \",sent) # removing numbers and punctuation\n",
    "    sent = sent.split()\n",
    "    \n",
    "    sent = [w for w in sent if len(w)>1] # removing words of length 1 \n",
    "    sent = [w for w in sent if w not in stopwords_set] # removing stopwords\n",
    "    sent = lemmatise(sent)    # lemmatization\n",
    "    sent = \" \".join(sent)\n",
    "    return sent"
   ]
  },
  {
   "cell_type": "markdown",
   "metadata": {},
   "source": [
    "# Text Preprocessing of Titles"
   ]
  },
  {
   "cell_type": "code",
   "execution_count": 17,
   "metadata": {},
   "outputs": [],
   "source": [
    "data['title_new'] = data['title'].apply(text_cleaning)"
   ]
  },
  {
   "cell_type": "code",
   "execution_count": 18,
   "metadata": {},
   "outputs": [
    {
     "name": "stdout",
     "output_type": "stream",
     "text": [
      "old -->  Refrain from using word Dalit, stick to Scheduled Caste: I&B Ministry to media \n",
      "\n",
      "new -->  refrain use word dalit stick schedule caste ministry medium\n"
     ]
    }
   ],
   "source": [
    "print(\"old --> \",data['title'][105],\"\\n\\nnew --> \",data['title_new'][105])"
   ]
  },
  {
   "cell_type": "markdown",
   "metadata": {},
   "source": [
    "# Text preprocessing of comments"
   ]
  },
  {
   "cell_type": "code",
   "execution_count": 19,
   "metadata": {},
   "outputs": [
    {
     "data": {
      "text/plain": [
       "count      2225.000000\n",
       "mean       3252.241798\n",
       "std       22104.211730\n",
       "min           0.000000\n",
       "25%         186.000000\n",
       "50%         866.000000\n",
       "75%        2449.000000\n",
       "96%        9902.120000\n",
       "max      634435.000000\n",
       "Name: comments, dtype: float64"
      ]
     },
     "execution_count": 19,
     "metadata": {},
     "output_type": "execute_result"
    }
   ],
   "source": [
    "data['comments'].fillna(\"\").apply(len).describe(percentiles=[.96,.25,.75])"
   ]
  },
  {
   "cell_type": "markdown",
   "metadata": {},
   "source": [
    "some comments are very long the longest being 5,56,983. So, I will limit comments to 10,000 characters which will still completely cover 96% of comments i.e 96% of comments will remain as it is."
   ]
  },
  {
   "cell_type": "code",
   "execution_count": 21,
   "metadata": {},
   "outputs": [],
   "source": [
    "def clear_comments(comment):       # function to limit comment length to 10000 characters\n",
    "    if(len(comment) > 10000):\n",
    "        return comment[:10000]\n",
    "    return comment"
   ]
  },
  {
   "cell_type": "code",
   "execution_count": 22,
   "metadata": {},
   "outputs": [],
   "source": [
    "data['comments_new'] = data['comments'].fillna(\"\").apply(clear_comments).apply(text_cleaning)"
   ]
  },
  {
   "cell_type": "markdown",
   "metadata": {},
   "source": [
    "After Processing:"
   ]
  },
  {
   "cell_type": "code",
   "execution_count": 23,
   "metadata": {},
   "outputs": [
    {
     "data": {
      "text/plain": [
       "count    2225.000000\n",
       "mean     1176.175730\n",
       "std      1565.674943\n",
       "min         0.000000\n",
       "25%       114.000000\n",
       "50%       512.000000\n",
       "75%      1501.000000\n",
       "max      6900.000000\n",
       "Name: comments_new, dtype: float64"
      ]
     },
     "execution_count": 23,
     "metadata": {},
     "output_type": "execute_result"
    }
   ],
   "source": [
    "data['comments_new'].fillna(\"\").apply(len).describe()"
   ]
  },
  {
   "cell_type": "code",
   "execution_count": 24,
   "metadata": {},
   "outputs": [
    {
     "name": "stdout",
     "output_type": "stream",
     "text": [
      "old -->   AFAIK, U.S. still hasn't banned entries of Indian citizens so that shouldn't be an issue. But check with the airline he will be flying and check the advisories of the country he will be transiting through. Like Qatar Airways has banned Indians from flying.\n",
      "\n",
      "Edit: Qatar Airways hasn't banned Indians. You can still transit through Doha. But Indians are not allowed to enter Qatar. Maybe \n",
      "\n",
      "new -->  afaik still ban entry indian citizen issue check airline fly check advisory country transit like qatar airway ban indian fly edit qatar airway ban indian still transit doha indian allow enter qatar maybe\n"
     ]
    }
   ],
   "source": [
    "print(\"old --> \",data['comments'][6],\"\\n\\nnew --> \",data['comments_new'][6])"
   ]
  },
  {
   "cell_type": "markdown",
   "metadata": {},
   "source": [
    "# Text preprocessing of url\n",
    "\n",
    "Text cleaning of url requires extracting meaningful words from url and removing all the noise like (www, https, jpg, .com , etc.) such words are very common and do not help in distinguishing among different flairs "
   ]
  },
  {
   "cell_type": "code",
   "execution_count": 25,
   "metadata": {},
   "outputs": [],
   "source": [
    "def regex_on_url(text):    # custom regex to extract of only meaningful words from url\n",
    "    return re.sub(\"(https://)|[a-z.]+(com)|[^a-zA-Z]|(pdf|html|www|http|jpg)\",' ',text)\n",
    "\n",
    "def clean_url(text):\n",
    "    text = text.lower()       # converting to lowercase\n",
    "    text = regex_on_url(text) # regex\n",
    "    text = text.split()\n",
    "    \n",
    "    text = [w for w in text if len(w)>1] # removing words of length 1 \n",
    "    text = [w for w in text if w not in stopwords_set] # removing stopwords\n",
    "    text = \" \".join(text)\n",
    "    return text\n",
    "\n"
   ]
  },
  {
   "cell_type": "code",
   "execution_count": 26,
   "metadata": {},
   "outputs": [],
   "source": [
    "data['url_new'] = data['url'].apply(clean_url)"
   ]
  },
  {
   "cell_type": "code",
   "execution_count": 27,
   "metadata": {},
   "outputs": [
    {
     "name": "stdout",
     "output_type": "stream",
     "text": [
      "old -->  https://www.reddit.com/r/india/comments/85peql/i_subscribed_to_scripbox_3_months_ago_and_since/ \n",
      "\n",
      "new -->  india comments peql subscribed scripbox months ago since\n"
     ]
    }
   ],
   "source": [
    "print(\"old --> \",data['url'][100],\"\\n\\nnew --> \",data['url_new'][100])"
   ]
  },
  {
   "cell_type": "code",
   "execution_count": 28,
   "metadata": {},
   "outputs": [
    {
     "data": {
      "text/html": [
       "<div>\n",
       "<style scoped>\n",
       "    .dataframe tbody tr th:only-of-type {\n",
       "        vertical-align: middle;\n",
       "    }\n",
       "\n",
       "    .dataframe tbody tr th {\n",
       "        vertical-align: top;\n",
       "    }\n",
       "\n",
       "    .dataframe thead th {\n",
       "        text-align: right;\n",
       "    }\n",
       "</style>\n",
       "<table border=\"1\" class=\"dataframe\">\n",
       "  <thead>\n",
       "    <tr style=\"text-align: right;\">\n",
       "      <th></th>\n",
       "      <th>title</th>\n",
       "      <th>score</th>\n",
       "      <th>body</th>\n",
       "      <th>url</th>\n",
       "      <th>num_comments</th>\n",
       "      <th>comments</th>\n",
       "      <th>flair</th>\n",
       "      <th>id</th>\n",
       "    </tr>\n",
       "  </thead>\n",
       "  <tbody>\n",
       "    <tr>\n",
       "      <th>0</th>\n",
       "      <td>untouchability even quarantine never take food...</td>\n",
       "      <td>54</td>\n",
       "      <td>NaN</td>\n",
       "      <td>india coronavirus outbreak untouchability even...</td>\n",
       "      <td>7</td>\n",
       "      <td>let feel hungry couple day max week care cook ...</td>\n",
       "      <td>Scheduled</td>\n",
       "      <td>fzvwz8</td>\n",
       "    </tr>\n",
       "    <tr>\n",
       "      <th>1</th>\n",
       "      <td>delhi govt source names cm arvind kejriwal dep...</td>\n",
       "      <td>303</td>\n",
       "      <td>NaN</td>\n",
       "      <td>ani status</td>\n",
       "      <td>30</td>\n",
       "      <td>beyond petty inclusion delhi government school...</td>\n",
       "      <td>Scheduled</td>\n",
       "      <td>f7ogd8</td>\n",
       "    </tr>\n",
       "    <tr>\n",
       "      <th>2</th>\n",
       "      <td>delhi ap singh advocate delhi gang rape convic...</td>\n",
       "      <td>18</td>\n",
       "      <td>NaN</td>\n",
       "      <td>ani status</td>\n",
       "      <td>21</td>\n",
       "      <td>hunch guy try expose loophole legal system nev...</td>\n",
       "      <td>Scheduled</td>\n",
       "      <td>flgvah</td>\n",
       "    </tr>\n",
       "    <tr>\n",
       "      <th>3</th>\n",
       "      <td>supreme court verdict sc st quota create polit...</td>\n",
       "      <td>109</td>\n",
       "      <td>NaN</td>\n",
       "      <td>scroll article supreme courts verdict sc st qu...</td>\n",
       "      <td>47</td>\n",
       "      <td>muslim reservation two distraction use indian ...</td>\n",
       "      <td>Scheduled</td>\n",
       "      <td>f1o839</td>\n",
       "    </tr>\n",
       "    <tr>\n",
       "      <th>4</th>\n",
       "      <td>entrance exam schedule may</td>\n",
       "      <td>12</td>\n",
       "      <td>CLAT, AILET, NEET, JEE have been postponed bu...</td>\n",
       "      <td>india comments fvcvo entrance exams scheduled may</td>\n",
       "      <td>3</td>\n",
       "      <td>bachega india tabhi toh padhega india gand mar...</td>\n",
       "      <td>Scheduled</td>\n",
       "      <td>fvcvo1</td>\n",
       "    </tr>\n",
       "  </tbody>\n",
       "</table>\n",
       "</div>"
      ],
      "text/plain": [
       "                                               title  score  \\\n",
       "0  untouchability even quarantine never take food...     54   \n",
       "1  delhi govt source names cm arvind kejriwal dep...    303   \n",
       "2  delhi ap singh advocate delhi gang rape convic...     18   \n",
       "3  supreme court verdict sc st quota create polit...    109   \n",
       "4                         entrance exam schedule may     12   \n",
       "\n",
       "                                                body  \\\n",
       "0                                                NaN   \n",
       "1                                                NaN   \n",
       "2                                                NaN   \n",
       "3                                                NaN   \n",
       "4   CLAT, AILET, NEET, JEE have been postponed bu...   \n",
       "\n",
       "                                                 url  num_comments  \\\n",
       "0  india coronavirus outbreak untouchability even...             7   \n",
       "1                                         ani status            30   \n",
       "2                                         ani status            21   \n",
       "3  scroll article supreme courts verdict sc st qu...            47   \n",
       "4  india comments fvcvo entrance exams scheduled may             3   \n",
       "\n",
       "                                            comments      flair      id  \n",
       "0  let feel hungry couple day max week care cook ...  Scheduled  fzvwz8  \n",
       "1  beyond petty inclusion delhi government school...  Scheduled  f7ogd8  \n",
       "2  hunch guy try expose loophole legal system nev...  Scheduled  flgvah  \n",
       "3  muslim reservation two distraction use indian ...  Scheduled  f1o839  \n",
       "4  bachega india tabhi toh padhega india gand mar...  Scheduled  fvcvo1  "
      ]
     },
     "execution_count": 28,
     "metadata": {},
     "output_type": "execute_result"
    }
   ],
   "source": [
    "data['title'] = data['title_new']\n",
    "data['comments'] = data['comments_new']\n",
    "data['url'] = data['url_new']\n",
    "data = data.drop(['title_new','comments_new','url_new'],axis = 1) \n",
    "data.head(5)"
   ]
  },
  {
   "cell_type": "code",
   "execution_count": 29,
   "metadata": {},
   "outputs": [],
   "source": [
    "data.to_csv('reddit-data-cleaned.csv', index=False)  # Saving csv file for later use"
   ]
  },
  {
   "cell_type": "markdown",
   "metadata": {},
   "source": [
    "# Data Analysis\n",
    "\n",
    "What flairs tell us about scores"
   ]
  },
  {
   "cell_type": "code",
   "execution_count": 30,
   "metadata": {},
   "outputs": [],
   "source": [
    "df = data.copy()"
   ]
  },
  {
   "cell_type": "code",
   "execution_count": 31,
   "metadata": {},
   "outputs": [
    {
     "data": {
      "text/plain": [
       "count     2225.000000\n",
       "mean       134.254382\n",
       "std        663.940357\n",
       "min          0.000000\n",
       "50%         26.000000\n",
       "96%        520.600000\n",
       "max      17866.000000\n",
       "Name: score, dtype: float64"
      ]
     },
     "execution_count": 31,
     "metadata": {},
     "output_type": "execute_result"
    }
   ],
   "source": [
    "df['score'].describe(percentiles = [0.96])"
   ]
  },
  {
   "cell_type": "code",
   "execution_count": 32,
   "metadata": {},
   "outputs": [],
   "source": [
    "# removing scores greater than 500 because there are very few outliers greater than 500.\n",
    "# These outliers are very large and they squash the boxplot making it unreadable.\n",
    "df = df[df['score'] < 500]"
   ]
  },
  {
   "cell_type": "code",
   "execution_count": 33,
   "metadata": {},
   "outputs": [
    {
     "data": {
      "image/png": "[encoded data removed]",
      "text/plain": [
       "<Figure size 720x720 with 1 Axes>"
      ]
     },
     "metadata": {
      "needs_background": "light"
     },
     "output_type": "display_data"
    }
   ],
   "source": [
    "plt.figure(figsize = (10,10))\n",
    "graph = sns.boxplot(x = df['flair'],y = df['score'])\n",
    "plt.xticks(rotation=45, horizontalalignment='right',fontweight='light',fontsize='x-large')\n",
    "plt.show()"
   ]
  },
  {
   "cell_type": "markdown",
   "metadata": {},
   "source": [
    "# What flairs tell about num_comments"
   ]
  },
  {
   "cell_type": "code",
   "execution_count": 34,
   "metadata": {},
   "outputs": [],
   "source": [
    "df = data.copy()"
   ]
  },
  {
   "cell_type": "code",
   "execution_count": 35,
   "metadata": {},
   "outputs": [
    {
     "data": {
      "text/plain": [
       "count     2225.000000\n",
       "mean        46.832809\n",
       "std        362.925772\n",
       "min          0.000000\n",
       "25%          3.000000\n",
       "50%         10.000000\n",
       "75%         33.000000\n",
       "99%        346.800000\n",
       "max      10942.000000\n",
       "Name: num_comments, dtype: float64"
      ]
     },
     "execution_count": 35,
     "metadata": {},
     "output_type": "execute_result"
    }
   ],
   "source": [
    "df['num_comments'].describe(percentiles = [.99,.75,.25])"
   ]
  },
  {
   "cell_type": "markdown",
   "metadata": {},
   "source": [
    "99% of num_comments are below 400.\n",
    "\n",
    "So, it makes sense to remove outliers above 400 it would make boxplot readable."
   ]
  },
  {
   "cell_type": "code",
   "execution_count": 36,
   "metadata": {},
   "outputs": [],
   "source": [
    "df = df[df['num_comments'] < 400]"
   ]
  },
  {
   "cell_type": "code",
   "execution_count": 37,
   "metadata": {},
   "outputs": [
    {
     "data": {
      "image/png": "[encoded data removed]",
      "text/plain": [
       "<Figure size 720x720 with 1 Axes>"
      ]
     },
     "metadata": {
      "needs_background": "light"
     },
     "output_type": "display_data"
    }
   ],
   "source": [
    "plt.figure(figsize = (10,10))\n",
    "graph = sns.boxplot(x = df['flair'],y = df['num_comments'])\n",
    "plt.xticks(rotation=45, horizontalalignment='right',fontweight='light',fontsize='x-large')\n",
    "plt.show()"
   ]
  },
  {
   "cell_type": "markdown",
   "metadata": {},
   "source": [
    "# Lets introduce a new column in dataset \"word_length\"\n",
    "\n",
    "word_length column will contain the combined length of (title + url + comments) for each row.\n",
    "\n",
    "we will use it to study the relation between word_length and flair categories."
   ]
  },
  {
   "cell_type": "code",
   "execution_count": 38,
   "metadata": {},
   "outputs": [],
   "source": [
    "df['word_length'] = df[['title','url','comments']].apply(lambda x : ' '.join(x),axis = 1).apply(len)"
   ]
  },
  {
   "cell_type": "code",
   "execution_count": 39,
   "metadata": {},
   "outputs": [
    {
     "data": {
      "text/html": [
       "<div>\n",
       "<style scoped>\n",
       "    .dataframe tbody tr th:only-of-type {\n",
       "        vertical-align: middle;\n",
       "    }\n",
       "\n",
       "    .dataframe tbody tr th {\n",
       "        vertical-align: top;\n",
       "    }\n",
       "\n",
       "    .dataframe thead th {\n",
       "        text-align: right;\n",
       "    }\n",
       "</style>\n",
       "<table border=\"1\" class=\"dataframe\">\n",
       "  <thead>\n",
       "    <tr style=\"text-align: right;\">\n",
       "      <th></th>\n",
       "      <th>title</th>\n",
       "      <th>score</th>\n",
       "      <th>body</th>\n",
       "      <th>url</th>\n",
       "      <th>num_comments</th>\n",
       "      <th>comments</th>\n",
       "      <th>flair</th>\n",
       "      <th>id</th>\n",
       "      <th>word_length</th>\n",
       "    </tr>\n",
       "  </thead>\n",
       "  <tbody>\n",
       "    <tr>\n",
       "      <th>0</th>\n",
       "      <td>untouchability even quarantine never take food...</td>\n",
       "      <td>54</td>\n",
       "      <td>NaN</td>\n",
       "      <td>india coronavirus outbreak untouchability even...</td>\n",
       "      <td>7</td>\n",
       "      <td>let feel hungry couple day max week care cook ...</td>\n",
       "      <td>Scheduled</td>\n",
       "      <td>fzvwz8</td>\n",
       "      <td>324</td>\n",
       "    </tr>\n",
       "    <tr>\n",
       "      <th>1</th>\n",
       "      <td>delhi govt source names cm arvind kejriwal dep...</td>\n",
       "      <td>303</td>\n",
       "      <td>NaN</td>\n",
       "      <td>ani status</td>\n",
       "      <td>30</td>\n",
       "      <td>beyond petty inclusion delhi government school...</td>\n",
       "      <td>Scheduled</td>\n",
       "      <td>f7ogd8</td>\n",
       "      <td>1301</td>\n",
       "    </tr>\n",
       "    <tr>\n",
       "      <th>2</th>\n",
       "      <td>delhi ap singh advocate delhi gang rape convic...</td>\n",
       "      <td>18</td>\n",
       "      <td>NaN</td>\n",
       "      <td>ani status</td>\n",
       "      <td>21</td>\n",
       "      <td>hunch guy try expose loophole legal system nev...</td>\n",
       "      <td>Scheduled</td>\n",
       "      <td>flgvah</td>\n",
       "      <td>390</td>\n",
       "    </tr>\n",
       "    <tr>\n",
       "      <th>3</th>\n",
       "      <td>supreme court verdict sc st quota create polit...</td>\n",
       "      <td>109</td>\n",
       "      <td>NaN</td>\n",
       "      <td>scroll article supreme courts verdict sc st qu...</td>\n",
       "      <td>47</td>\n",
       "      <td>muslim reservation two distraction use indian ...</td>\n",
       "      <td>Scheduled</td>\n",
       "      <td>f1o839</td>\n",
       "      <td>2069</td>\n",
       "    </tr>\n",
       "    <tr>\n",
       "      <th>4</th>\n",
       "      <td>entrance exam schedule may</td>\n",
       "      <td>12</td>\n",
       "      <td>CLAT, AILET, NEET, JEE have been postponed bu...</td>\n",
       "      <td>india comments fvcvo entrance exams scheduled may</td>\n",
       "      <td>3</td>\n",
       "      <td>bachega india tabhi toh padhega india gand mar...</td>\n",
       "      <td>Scheduled</td>\n",
       "      <td>fvcvo1</td>\n",
       "      <td>243</td>\n",
       "    </tr>\n",
       "  </tbody>\n",
       "</table>\n",
       "</div>"
      ],
      "text/plain": [
       "                                               title  score  \\\n",
       "0  untouchability even quarantine never take food...     54   \n",
       "1  delhi govt source names cm arvind kejriwal dep...    303   \n",
       "2  delhi ap singh advocate delhi gang rape convic...     18   \n",
       "3  supreme court verdict sc st quota create polit...    109   \n",
       "4                         entrance exam schedule may     12   \n",
       "\n",
       "                                                body  \\\n",
       "0                                                NaN   \n",
       "1                                                NaN   \n",
       "2                                                NaN   \n",
       "3                                                NaN   \n",
       "4   CLAT, AILET, NEET, JEE have been postponed bu...   \n",
       "\n",
       "                                                 url  num_comments  \\\n",
       "0  india coronavirus outbreak untouchability even...             7   \n",
       "1                                         ani status            30   \n",
       "2                                         ani status            21   \n",
       "3  scroll article supreme courts verdict sc st qu...            47   \n",
       "4  india comments fvcvo entrance exams scheduled may             3   \n",
       "\n",
       "                                            comments      flair      id  \\\n",
       "0  let feel hungry couple day max week care cook ...  Scheduled  fzvwz8   \n",
       "1  beyond petty inclusion delhi government school...  Scheduled  f7ogd8   \n",
       "2  hunch guy try expose loophole legal system nev...  Scheduled  flgvah   \n",
       "3  muslim reservation two distraction use indian ...  Scheduled  f1o839   \n",
       "4  bachega india tabhi toh padhega india gand mar...  Scheduled  fvcvo1   \n",
       "\n",
       "   word_length  \n",
       "0          324  \n",
       "1         1301  \n",
       "2          390  \n",
       "3         2069  \n",
       "4          243  "
      ]
     },
     "execution_count": 39,
     "metadata": {},
     "output_type": "execute_result"
    }
   ],
   "source": [
    "df.head(5)"
   ]
  },
  {
   "cell_type": "code",
   "execution_count": 40,
   "metadata": {},
   "outputs": [
    {
     "data": {
      "text/plain": [
       "count    2208.000000\n",
       "mean     1252.626359\n",
       "std      1508.686168\n",
       "min        23.000000\n",
       "25%       237.000000\n",
       "50%       631.000000\n",
       "75%      1578.000000\n",
       "max      6997.000000\n",
       "Name: word_length, dtype: float64"
      ]
     },
     "execution_count": 40,
     "metadata": {},
     "output_type": "execute_result"
    }
   ],
   "source": [
    "df['word_length'].describe()"
   ]
  },
  {
   "cell_type": "code",
   "execution_count": 41,
   "metadata": {},
   "outputs": [
    {
     "data": {
      "image/png": "[encoded data removed]",
      "text/plain": [
       "<Figure size 720x720 with 1 Axes>"
      ]
     },
     "metadata": {
      "needs_background": "light"
     },
     "output_type": "display_data"
    }
   ],
   "source": [
    "plt.figure(figsize = (10,10))\n",
    "graph = sns.boxplot(x = df['flair'],y = df['word_length'])\n",
    "plt.xticks(rotation=45, horizontalalignment='right',fontweight='light',fontsize='x-large')\n",
    "plt.show()"
   ]
  },
  {
   "cell_type": "markdown",
   "metadata": {},
   "source": [
    "# Jointplot of word_length and score"
   ]
  },
  {
   "cell_type": "code",
   "execution_count": 42,
   "metadata": {},
   "outputs": [],
   "source": [
    "df_without_outliers = df[(df['score'] < 500) & (df['word_length'] < 6000)] # filtering outliers"
   ]
  },
  {
   "cell_type": "code",
   "execution_count": 43,
   "metadata": {},
   "outputs": [
    {
     "data": {
      "image/png": "[encoded data removed]",
      "text/plain": [
       "<Figure size 432x432 with 3 Axes>"
      ]
     },
     "metadata": {
      "needs_background": "light"
     },
     "output_type": "display_data"
    }
   ],
   "source": [
    "from sklearn.preprocessing import MinMaxScaler\n",
    "scaler = MinMaxScaler()\n",
    "X = scaler.fit_transform(np.reshape(df_without_outliers['word_length'].values,(-1,1)))\n",
    "Y = scaler.fit_transform(np.reshape(df_without_outliers['score'].values,(-1,1)))\n",
    "\n",
    "sns.jointplot(x = X,y = Y, kind = 'reg',scatter_kws = {'s':20,'edgecolor':'w','color':'r'})\n",
    "plt.xlabel('Word_length')\n",
    "plt.ylabel('score')\n",
    "plt.tight_layout()\n",
    "plt.show()"
   ]
  },
  {
   "cell_type": "markdown",
   "metadata": {},
   "source": [
    "# Jointplot of word_length and num_comments"
   ]
  },
  {
   "cell_type": "code",
   "execution_count": 44,
   "metadata": {},
   "outputs": [
    {
     "data": {
      "text/html": [
       "<div>\n",
       "<style scoped>\n",
       "    .dataframe tbody tr th:only-of-type {\n",
       "        vertical-align: middle;\n",
       "    }\n",
       "\n",
       "    .dataframe tbody tr th {\n",
       "        vertical-align: top;\n",
       "    }\n",
       "\n",
       "    .dataframe thead th {\n",
       "        text-align: right;\n",
       "    }\n",
       "</style>\n",
       "<table border=\"1\" class=\"dataframe\">\n",
       "  <thead>\n",
       "    <tr style=\"text-align: right;\">\n",
       "      <th></th>\n",
       "      <th>num_comments</th>\n",
       "      <th>word_length</th>\n",
       "    </tr>\n",
       "  </thead>\n",
       "  <tbody>\n",
       "    <tr>\n",
       "      <th>count</th>\n",
       "      <td>2208.000000</td>\n",
       "      <td>2208.000000</td>\n",
       "    </tr>\n",
       "    <tr>\n",
       "      <th>mean</th>\n",
       "      <td>27.616848</td>\n",
       "      <td>1252.626359</td>\n",
       "    </tr>\n",
       "    <tr>\n",
       "      <th>std</th>\n",
       "      <td>46.175017</td>\n",
       "      <td>1508.686168</td>\n",
       "    </tr>\n",
       "    <tr>\n",
       "      <th>min</th>\n",
       "      <td>0.000000</td>\n",
       "      <td>23.000000</td>\n",
       "    </tr>\n",
       "    <tr>\n",
       "      <th>50%</th>\n",
       "      <td>10.000000</td>\n",
       "      <td>631.000000</td>\n",
       "    </tr>\n",
       "    <tr>\n",
       "      <th>95%</th>\n",
       "      <td>121.000000</td>\n",
       "      <td>5077.250000</td>\n",
       "    </tr>\n",
       "    <tr>\n",
       "      <th>max</th>\n",
       "      <td>389.000000</td>\n",
       "      <td>6997.000000</td>\n",
       "    </tr>\n",
       "  </tbody>\n",
       "</table>\n",
       "</div>"
      ],
      "text/plain": [
       "       num_comments  word_length\n",
       "count   2208.000000  2208.000000\n",
       "mean      27.616848  1252.626359\n",
       "std       46.175017  1508.686168\n",
       "min        0.000000    23.000000\n",
       "50%       10.000000   631.000000\n",
       "95%      121.000000  5077.250000\n",
       "max      389.000000  6997.000000"
      ]
     },
     "execution_count": 44,
     "metadata": {},
     "output_type": "execute_result"
    }
   ],
   "source": [
    "df[['num_comments','word_length']].describe(percentiles=[.95])"
   ]
  },
  {
   "cell_type": "code",
   "execution_count": 45,
   "metadata": {},
   "outputs": [],
   "source": [
    "df_without_outliers = df[(df['num_comments'] < 130) & (df['word_length'] < 6000)]"
   ]
  },
  {
   "cell_type": "code",
   "execution_count": 46,
   "metadata": {},
   "outputs": [
    {
     "data": {
      "image/png": "[encoded data removed]",
      "text/plain": [
       "<Figure size 432x432 with 3 Axes>"
      ]
     },
     "metadata": {
      "needs_background": "light"
     },
     "output_type": "display_data"
    }
   ],
   "source": [
    "from sklearn.preprocessing import MinMaxScaler\n",
    "scaler = MinMaxScaler()\n",
    "X = scaler.fit_transform(np.reshape(df_without_outliers['word_length'].values,(-1,1)))\n",
    "Y = scaler.fit_transform(np.reshape(df_without_outliers['num_comments'].values,(-1,1)))\n",
    "\n",
    "sns.jointplot(x = X,y = Y, kind = 'reg',scatter_kws = {'s':20,'edgecolor':'w','color':'r'})\n",
    "plt.xlabel('Word_length')\n",
    "plt.ylabel('num_comments')\n",
    "plt.tight_layout()\n",
    "plt.show()"
   ]
  },
  {
   "cell_type": "markdown",
   "metadata": {},
   "source": [
    "# Content Analysis"
   ]
  },
  {
   "cell_type": "code",
   "execution_count": 47,
   "metadata": {},
   "outputs": [],
   "source": [
    "# complete_text --> It comprises of all text in our dataset\n",
    "# First we will join (title + url + comments) for each row in our dataset to get a single column of text.\n",
    "# Then we will join all values in the column to get a single variable containing full text. \n",
    "complete_text = df[['title','url','comments']].apply(lambda x: ' '.join(x),axis = 1)\n",
    "complete_text = ' '.join(complete_text.values)"
   ]
  },
  {
   "cell_type": "markdown",
   "metadata": {},
   "source": [
    "# Most common words in the whole dataset"
   ]
  },
  {
   "cell_type": "code",
   "execution_count": 48,
   "metadata": {},
   "outputs": [
    {
     "data": {
      "text/plain": [
       "<matplotlib.axes._subplots.AxesSubplot at 0x11538f630>"
      ]
     },
     "execution_count": 48,
     "metadata": {},
     "output_type": "execute_result"
    },
    {
     "data": {
      "image/png": "[encoded data removed]",
      "text/plain": [
       "<Figure size 432x288 with 1 Axes>"
      ]
     },
     "metadata": {
      "needs_background": "light"
     },
     "output_type": "display_data"
    }
   ],
   "source": [
    "nlp = English()                                                       # Spacy object\n",
    "nlp.max_length = 3000000\n",
    "complete_doc = nlp(complete_text)                                     \n",
    "words = [token.text for token in complete_doc if not token.is_stop]   # list of all words in our dataset \n",
    "words_freq = Counter(words)                                           # frequency count \n",
    "\n",
    "# Most common 10 words in entire dataset\n",
    "top_10_words = words_freq.most_common(10)\n",
    "x = []\n",
    "y = []\n",
    "for (word,count) in top_10_words:\n",
    "    x.append(word)\n",
    "    y.append(count)\n",
    "   \n",
    "sns.barplot(x=x, y=y)"
   ]
  },
  {
   "cell_type": "markdown",
   "metadata": {},
   "source": [
    "# Finding the most common words in each category"
   ]
  },
  {
   "cell_type": "code",
   "execution_count": 49,
   "metadata": {},
   "outputs": [],
   "source": [
    "flairs = ['Scheduled', 'Politics', 'Photography', 'Policy/Economy','AskIndia', 'Sports', 'Non-Political', 'Science/Technology','FoodBusiness/Finance', 'Coronavirus', 'CAA-NRC-NPR']\n",
    "complete_text_for_each_flair = {}   # dictionary which contains complete text (title + url + comments) for each flair\n",
    "for f in flairs:\n",
    "    text = df[df['flair'] == f][['title','url','comments']].apply(lambda x : ' '.join(x),axis = 1)\n",
    "    text = ' '.join(text.values)\n",
    "    complete_text_for_each_flair[f] = text"
   ]
  },
  {
   "cell_type": "code",
   "execution_count": 50,
   "metadata": {},
   "outputs": [
    {
     "name": "stdout",
     "output_type": "stream",
     "text": [
      "Top 3 words in each flair are :- \n",
      "\n",
      "Scheduled --> [('india', 433), ('people', 293), ('like', 244)]\n",
      "\n",
      "Politics --> [('people', 557), ('india', 520), ('bjp', 423)]\n",
      "\n",
      "Photography --> [('photography', 373), ('india', 342), ('good', 197)]\n",
      "\n",
      "Policy/Economy --> [('india', 1135), ('economy', 572), ('government', 466)]\n",
      "\n",
      "AskIndia --> [('india', 611), ('like', 393), ('people', 338)]\n",
      "\n",
      "Sports --> [('india', 606), ('sport', 559), ('like', 394)]\n",
      "\n",
      "Non-Political --> [('india', 338), ('political', 306), ('non', 301)]\n",
      "\n",
      "Science/Technology --> [('india', 659), ('science', 507), ('technology', 363)]\n",
      "\n",
      "FoodBusiness/Finance --> [('india', 126), ('week', 88), ('good', 80)]\n",
      "\n",
      "Coronavirus --> [('coronavirus', 452), ('india', 361), ('lockdown', 184)]\n",
      "\n",
      "CAA-NRC-NPR --> [('caa', 233), ('nrc', 221), ('india', 191)]\n",
      "\n"
     ]
    }
   ],
   "source": [
    "print(\"Top 3 words in each flair are :- \",end = '\\n\\n')\n",
    "for f in flairs:\n",
    "    doc = nlp(complete_text_for_each_flair[f])\n",
    "    words = [token.text for token in doc if not token.is_stop]\n",
    "    word_freq = Counter(words)\n",
    "    top_3_words = word_freq.most_common(3)\n",
    "    print(f,\"-->\",top_3_words,end = '\\n\\n')"
   ]
  },
  {
   "cell_type": "markdown",
   "metadata": {},
   "source": [
    "# Most flairs have India among its top common words.\n",
    "\n",
    "these results make sense and indicate that each flair category contains some words that can help distinguish them, for example :-\n",
    "\n",
    "Scheduled --> 'caste'\n",
    "\n",
    "Politics --> 'bjp'\n",
    "\n",
    "Photography --> 'photography'\n",
    "\n",
    "Policy/Economy --> 'economy'\n",
    "\n",
    "Sports --> 'sport'\n",
    "\n",
    "Science/Technology --> 'science', 'technology'\n",
    "\n",
    "FoodBusiness/Finance --> 'week'\n",
    "\n",
    "Coronavirus --> 'coronavirus'\n",
    "\n",
    "CAA-NRC-NPR --> 'caa', 'nrc'"
   ]
  },
  {
   "cell_type": "markdown",
   "metadata": {},
   "source": [
    "# 5.3 Using dependency parsing to find what India is talking about, what India is doing ?\n",
    "\n",
    "We will use Spacy's dependecy parsing to find the objects, subjects, verbs for each flair :-\n",
    "\n",
    "First, we will first find the most common OBJECTS , This will tell us what india is talking about.\n",
    "\n",
    "Second, we will find the most common VERBS , This will tell us what india is doing.\n",
    "\n",
    "Third, we will find the most common SUBJECTS, This will tell us about entities in text."
   ]
  },
  {
   "cell_type": "markdown",
   "metadata": {},
   "source": [
    "Dependency Parsing\n",
    "\n",
    "Dependency parsing is the task of extracting grammatical structure of a text, it consists of relations between \"root\" words and words.\n",
    "\n",
    "For Example:-\n",
    "\n",
    "In the example below we show the dependency tree of the sentence - \"He is playing football !\"\n",
    "We can see that the words \"He\", \"is\", \"football!\" are all linked to the the VERB playing\n",
    "The image shows you that the subject of the sentence is the proper noun 'He' and it has a 'play' relationship with object 'football'."
   ]
  },
  {
   "cell_type": "code",
   "execution_count": 51,
   "metadata": {},
   "outputs": [
    {
     "name": "stdout",
     "output_type": "stream",
     "text": [
      "He  ----  PRON  ----  playing  ----  nsubj\n",
      "is  ----  AUX  ----  playing  ----  aux\n",
      "playing  ----  VERB  ----  playing  ----  ROOT\n",
      "football  ----  NOUN  ----  playing  ----  dobj\n",
      "!  ----  PUNCT  ----  playing  ----  punct\n"
     ]
    },
    {
     "data": {
      "text/html": [
       "<span class=\"tex2jax_ignore\"><svg xmlns=\"http://www.w3.org/2000/svg\" xmlns:xlink=\"http://www.w3.org/1999/xlink\" xml:lang=\"en\" id=\"41f2fe6831f9432d9f321c184167a8f6-0\" class=\"displacy\" width=\"750\" height=\"312.0\" direction=\"ltr\" style=\"max-width: none; height: 312.0px; color: #000000; background: #ffffff; font-family: Arial; direction: ltr\">\n",
       "<text class=\"displacy-token\" fill=\"currentColor\" text-anchor=\"middle\" y=\"222.0\">\n",
       "    <tspan class=\"displacy-word\" fill=\"currentColor\" x=\"50\">He</tspan>\n",
       "    <tspan class=\"displacy-tag\" dy=\"2em\" fill=\"currentColor\" x=\"50\">PRON</tspan>\n",
       "</text>\n",
       "\n",
       "<text class=\"displacy-token\" fill=\"currentColor\" text-anchor=\"middle\" y=\"222.0\">\n",
       "    <tspan class=\"displacy-word\" fill=\"currentColor\" x=\"225\">is</tspan>\n",
       "    <tspan class=\"displacy-tag\" dy=\"2em\" fill=\"currentColor\" x=\"225\">AUX</tspan>\n",
       "</text>\n",
       "\n",
       "<text class=\"displacy-token\" fill=\"currentColor\" text-anchor=\"middle\" y=\"222.0\">\n",
       "    <tspan class=\"displacy-word\" fill=\"currentColor\" x=\"400\">playing</tspan>\n",
       "    <tspan class=\"displacy-tag\" dy=\"2em\" fill=\"currentColor\" x=\"400\">VERB</tspan>\n",
       "</text>\n",
       "\n",
       "<text class=\"displacy-token\" fill=\"currentColor\" text-anchor=\"middle\" y=\"222.0\">\n",
       "    <tspan class=\"displacy-word\" fill=\"currentColor\" x=\"575\">football!</tspan>\n",
       "    <tspan class=\"displacy-tag\" dy=\"2em\" fill=\"currentColor\" x=\"575\">NOUN</tspan>\n",
       "</text>\n",
       "\n",
       "<g class=\"displacy-arrow\">\n",
       "    <path class=\"displacy-arc\" id=\"arrow-41f2fe6831f9432d9f321c184167a8f6-0-0\" stroke-width=\"2px\" d=\"M70,177.0 C70,2.0 400.0,2.0 400.0,177.0\" fill=\"none\" stroke=\"currentColor\"/>\n",
       "    <text dy=\"1.25em\" style=\"font-size: 0.8em; letter-spacing: 1px\">\n",
       "        <textPath xlink:href=\"#arrow-41f2fe6831f9432d9f321c184167a8f6-0-0\" class=\"displacy-label\" startOffset=\"50%\" side=\"left\" fill=\"currentColor\" text-anchor=\"middle\">nsubj</textPath>\n",
       "    </text>\n",
       "    <path class=\"displacy-arrowhead\" d=\"M70,179.0 L62,167.0 78,167.0\" fill=\"currentColor\"/>\n",
       "</g>\n",
       "\n",
       "<g class=\"displacy-arrow\">\n",
       "    <path class=\"displacy-arc\" id=\"arrow-41f2fe6831f9432d9f321c184167a8f6-0-1\" stroke-width=\"2px\" d=\"M245,177.0 C245,89.5 395.0,89.5 395.0,177.0\" fill=\"none\" stroke=\"currentColor\"/>\n",
       "    <text dy=\"1.25em\" style=\"font-size: 0.8em; letter-spacing: 1px\">\n",
       "        <textPath xlink:href=\"#arrow-41f2fe6831f9432d9f321c184167a8f6-0-1\" class=\"displacy-label\" startOffset=\"50%\" side=\"left\" fill=\"currentColor\" text-anchor=\"middle\">aux</textPath>\n",
       "    </text>\n",
       "    <path class=\"displacy-arrowhead\" d=\"M245,179.0 L237,167.0 253,167.0\" fill=\"currentColor\"/>\n",
       "</g>\n",
       "\n",
       "<g class=\"displacy-arrow\">\n",
       "    <path class=\"displacy-arc\" id=\"arrow-41f2fe6831f9432d9f321c184167a8f6-0-2\" stroke-width=\"2px\" d=\"M420,177.0 C420,89.5 570.0,89.5 570.0,177.0\" fill=\"none\" stroke=\"currentColor\"/>\n",
       "    <text dy=\"1.25em\" style=\"font-size: 0.8em; letter-spacing: 1px\">\n",
       "        <textPath xlink:href=\"#arrow-41f2fe6831f9432d9f321c184167a8f6-0-2\" class=\"displacy-label\" startOffset=\"50%\" side=\"left\" fill=\"currentColor\" text-anchor=\"middle\">dobj</textPath>\n",
       "    </text>\n",
       "    <path class=\"displacy-arrowhead\" d=\"M570.0,179.0 L578.0,167.0 562.0,167.0\" fill=\"currentColor\"/>\n",
       "</g>\n",
       "</svg></span>"
      ],
      "text/plain": [
       "<IPython.core.display.HTML object>"
      ]
     },
     "metadata": {},
     "output_type": "display_data"
    }
   ],
   "source": [
    "import spacy\n",
    "from spacy import displacy\n",
    "nlp = spacy.load('en_core_web_sm')\n",
    "doc = nlp(\"He is playing football!\")\n",
    "for token in doc:\n",
    "    print(token.text,\" ---- \", token.pos_,\" ---- \", token.head.text,\" ---- \", token.dep_)\n",
    "displacy.render(doc,jupyter = True)"
   ]
  },
  {
   "cell_type": "markdown",
   "metadata": {},
   "source": [
    "We will try to find a similar dependancy relationship for each flair.\n",
    "We will look for token.dep_ , they tell us about the relationships of each token with its headword. In the example above headword was 'playing'. Generally headwords are VERBS.\n",
    "\n",
    "We will look at the following dependency labels (token.dep_) for eachtask :-\n",
    "\n",
    "OBJECT :- dobj (direct-object), obj(object), pobj (object-of-preposition)\n",
    "\n",
    "VERB :- we will extract headwords\n",
    "\n",
    "NOUN :- nsubj (nominal-subject), nsubjpass (nominal-subject-passive), csubj (clausal-subject), csubjpass (clausal-\n",
    "subject-passive)"
   ]
  },
  {
   "cell_type": "markdown",
   "metadata": {},
   "source": [
    "# 5.3.1 Most common objects\n",
    "\n",
    "let's see what India is talking about in each flair:-\n",
    "\n",
    "This sheds some light on topics of discussion in each flair, some observations are very interesting like 'reservation' in Scheduled, 'lockdown' in coronavirus"
   ]
  },
  {
   "cell_type": "code",
   "execution_count": 52,
   "metadata": {},
   "outputs": [
    {
     "name": "stdout",
     "output_type": "stream",
     "text": [
      "Scheduled --> [('time', 49), ('game', 43), ('caste', 40), ('people', 38), ('work', 37)]\n",
      "\n",
      "Politics --> [('thing', 73), ('people', 68), ('politics', 57), ('india', 55), ('time', 52)]\n",
      "\n",
      "Photography --> [('photography', 59), ('comments', 38), ('thing', 35), ('work', 32), ('india', 32)]\n",
      "\n",
      "Policy/Economy --> [('economy', 108), ('india', 98), ('country', 69), ('people', 64), ('time', 62)]\n",
      "\n",
      "AskIndia --> [('comments', 71), ('time', 63), ('india', 60), ('thing', 59), ('use', 57)]\n",
      "\n",
      "Sports --> [('sport', 62), ('india', 52), ('comments', 41), ('people', 40), ('thing', 40)]\n",
      "\n",
      "Non-Political --> [('comments', 35), ('time', 25), ('india', 25), ('thing', 25), ('people', 21)]\n",
      "\n",
      "Science/Technology --> [('technology', 62), ('india', 45), ('time', 44), ('comments', 43), ('science', 38)]\n",
      "\n",
      "FoodBusiness/Finance --> [('comments', 15), ('post', 14), ('work', 13), ('thing', 12), ('time', 10)]\n",
      "\n",
      "Coronavirus --> [('coronavirus', 46), ('lockdown', 29), ('case', 28), ('people', 26), ('india', 19)]\n",
      "\n",
      "CAA-NRC-NPR --> [('protest', 21), ('caa', 16), ('comments', 16), ('people', 16), ('source', 14)]\n",
      "\n"
     ]
    }
   ],
   "source": [
    "for f in flairs:\n",
    "    doc = nlp(complete_text_for_each_flair[f])\n",
    "    objects = []\n",
    "    for token in doc:\n",
    "        if (token.dep_ == 'dobj' or token.dep_ == 'obj' or token.dep_ == 'pobj'):\n",
    "            objects.append(token.text)\n",
    "        \n",
    "\n",
    "    objects = Counter(objects)\n",
    "    top_5 = objects.most_common(5)\n",
    "    print(f,\"-->\",top_5,end = '\\n\\n')"
   ]
  },
  {
   "cell_type": "markdown",
   "metadata": {},
   "source": [
    "# Random Objects\n",
    "\n",
    "lets see some random objects, to get a better idea"
   ]
  },
  {
   "cell_type": "code",
   "execution_count": 53,
   "metadata": {},
   "outputs": [
    {
     "name": "stdout",
     "output_type": "stream",
     "text": [
      "Scheduled  -----> call, launch, reservation, love, hope, \n",
      "\n",
      "Politics  -----> post, country, point, modi, source, \n",
      "\n",
      "Photography  -----> thread, work, experience, experience, life, \n",
      "\n",
      "Policy/Economy  -----> findia, inflation, gdp, indian, govt, \n",
      "\n",
      "AskIndia  -----> language, year, problem, question, situation, \n",
      "\n",
      "Sports  -----> fact, football, work, people, match, \n",
      "\n",
      "Non-Political  -----> comments, post, money, time, place, \n",
      "\n",
      "Science/Technology  -----> point, science, job, etc, education, \n",
      "\n",
      "FoodBusiness/Finance  -----> post, post, work, post, thing, \n",
      "\n",
      "Coronavirus  -----> time, help, people, help, day, \n",
      "\n",
      "CAA-NRC-NPR  -----> thing, country, protest, source, protest, \n",
      "\n"
     ]
    }
   ],
   "source": [
    "for f in flairs:\n",
    "    doc = nlp(complete_text_for_each_flair[f])\n",
    "    objects = []\n",
    "    for token in doc:\n",
    "         if (token.dep_ == 'dobj' or token.dep_ == 'obj' or token.dep_ == 'pobj'):\n",
    "            objects.append(token.text)\n",
    "        \n",
    "\n",
    "    objects = Counter(objects)\n",
    "    freq_cnt = dict(objects)\n",
    "    sorted_verbs = sorted(freq_cnt.items(),key = lambda x : x[1])\n",
    "    sorted_verbs = [w[0] for w in sorted_verbs if w[1] > 10]\n",
    "    idx = np.random.randint(0, len(sorted_verbs), size=(5,))\n",
    "    print(f, \" -----> \",end = '')\n",
    "    for i in idx:\n",
    "        print(sorted_verbs[i],end = ', ')\n",
    "       \n",
    "    print('\\n')"
   ]
  },
  {
   "cell_type": "markdown",
   "metadata": {},
   "source": [
    "# Most common verbs\n",
    "\n",
    "let's see what India is doing :-\n",
    "\n",
    "It's hard to make any inference from this output, the most common actions are very general.\n",
    "Perhaps this indicates the nature of our text, It mainly consists of people reporting and posting things about India. We can expect that the most common verbs to be the very general ones i.e the ones we mostly use in everyday life."
   ]
  },
  {
   "cell_type": "code",
   "execution_count": 54,
   "metadata": {},
   "outputs": [
    {
     "name": "stdout",
     "output_type": "stream",
     "text": [
      "Scheduled --> [('think', 81), ('want', 76), ('know', 68), ('play', 65), ('need', 44)]\n",
      "\n",
      "Politics --> [('think', 151), ('know', 96), ('want', 83), ('need', 65), ('let', 56)]\n",
      "\n",
      "Photography --> [('want', 61), ('know', 57), ('look', 56), ('think', 53), ('need', 36)]\n",
      "\n",
      "Policy/Economy --> [('think', 131), ('know', 96), ('want', 83), ('need', 58), ('mean', 52)]\n",
      "\n",
      "AskIndia --> [('think', 117), ('know', 112), ('need', 83), ('want', 82), ('try', 70)]\n",
      "\n",
      "Sports --> [('think', 122), ('know', 71), ('watch', 68), ('want', 61), ('need', 49)]\n",
      "\n",
      "Non-Political --> [('think', 61), ('want', 47), ('know', 44), ('comments', 24), ('try', 22)]\n",
      "\n",
      "Science/Technology --> [('think', 84), ('know', 77), ('want', 68), ('need', 58), ('try', 44)]\n",
      "\n",
      "FoodBusiness/Finance --> [('think', 25), ('know', 21), ('need', 15), ('find', 12), ('want', 11)]\n",
      "\n",
      "Coronavirus --> [('know', 27), ('think', 23), ('need', 19), ('ask', 17), ('want', 14)]\n",
      "\n",
      "CAA-NRC-NPR --> [('think', 31), ('know', 18), ('need', 17), ('want', 14), ('let', 12)]\n",
      "\n"
     ]
    }
   ],
   "source": [
    "for f in flairs:\n",
    "    doc = nlp(complete_text_for_each_flair[f])\n",
    "    verbs = []\n",
    "    for token in doc:\n",
    "        if (token.dep_ == 'ROOT'):\n",
    "            if(token.is_stop == False):\n",
    "                verbs.append(token.text)\n",
    "        \n",
    "\n",
    "    verbs = Counter(verbs)\n",
    "    top_5 = verbs.most_common(5)\n",
    "    print(f,\"-->\",top_5,end = '\\n\\n')"
   ]
  },
  {
   "cell_type": "markdown",
   "metadata": {},
   "source": [
    "# Random verbs\n",
    "\n",
    "This provides us a better view of actions that a flair can be involved in\n",
    "\n",
    "Politics --> speak, win, face\n",
    "\n",
    "Photography --> comments\n",
    "\n",
    "Policy/Economy --> suggest, grow, hope\n",
    "\n",
    "AskIndia --> tell, understand\n",
    "\n",
    "Sports --> beat\n",
    "\n",
    "Science/Technology --> write, try\n",
    "\n",
    "Coronavirus --> use, test\n",
    "\n",
    "CAA-NRC-NPR --> protest"
   ]
  },
  {
   "cell_type": "code",
   "execution_count": 56,
   "metadata": {},
   "outputs": [
    {
     "name": "stdout",
     "output_type": "stream",
     "text": [
      "Scheduled  -----> believe, leave, happen, want, try, \n",
      "\n",
      "Politics  -----> leave, remain, believe, work, hai, \n",
      "\n",
      "Photography  -----> ask, start, let, try, remove, \n",
      "\n",
      "Policy/Economy  -----> point, need, cause, create, turn, \n",
      "\n",
      "AskIndia  -----> want, start, consider, talk, hope, \n",
      "\n",
      "Sports  -----> sport, love, help, play, run, \n",
      "\n",
      "Non-Political  -----> feel, mean, live, happen, want, \n",
      "\n",
      "Science/Technology  -----> provide, think, let, think, allow, \n",
      "\n",
      "FoodBusiness/Finance  -----> know, want, need, know, need, \n",
      "\n",
      "Coronavirus  -----> think, want, need, know, think, \n",
      "\n",
      "CAA-NRC-NPR  -----> understand, understand, prove, let, know, \n",
      "\n"
     ]
    }
   ],
   "source": [
    "for f in flairs:\n",
    "    doc = nlp(complete_text_for_each_flair[f])\n",
    "    verbs = []\n",
    "    for token in doc:\n",
    "        if (token.dep_ == 'ROOT'):\n",
    "            if(token.is_stop == False):\n",
    "                verbs.append(token.text)\n",
    "        \n",
    "\n",
    "    verbs = Counter(verbs)\n",
    "    freq_cnt = dict(verbs)\n",
    "    sorted_verbs = sorted(freq_cnt.items(),key = lambda x : x[1])\n",
    "    sorted_verbs = [w[0] for w in sorted_verbs if w[1] > 10]\n",
    "    idx = np.random.randint(0, len(sorted_verbs), size=(5,))\n",
    "    print(f, \" -----> \",end = '')\n",
    "    for i in idx:\n",
    "        print(sorted_verbs[i],end = ', ')\n",
    "       \n",
    "    print('\\n')"
   ]
  },
  {
   "cell_type": "markdown",
   "metadata": {},
   "source": [
    "# Most common Subjects\n",
    "\n",
    "the subject is the part of a sentence that commonly indicates\n",
    "\n",
    "what it is about\n",
    "\n",
    "who or what performs the action"
   ]
  },
  {
   "cell_type": "code",
   "execution_count": 57,
   "metadata": {},
   "outputs": [
    {
     "name": "stdout",
     "output_type": "stream",
     "text": [
      "Scheduled --> [('anyone', 55), ('thing', 50), ('guy', 45), ('someone', 43), ('comments', 38)]\n",
      "\n",
      "Politics --> [('bjp', 93), ('politics', 80), ('government', 75), ('thing', 71), ('modi', 71)]\n",
      "\n",
      "Photography --> [('photography', 57), ('comments', 39), ('work', 34), ('place', 30), ('guy', 29)]\n",
      "\n",
      "Policy/Economy --> [('government', 171), ('economy', 162), ('modi', 132), ('country', 101), ('thing', 70)]\n",
      "\n",
      "AskIndia --> [('thing', 90), ('askindia', 70), ('someone', 62), ('life', 60), ('guy', 54)]\n",
      "\n",
      "Sports --> [('sport', 56), ('someone', 54), ('country', 52), ('thing', 49), ('channel', 43)]\n",
      "\n",
      "Non-Political --> [('comments', 33), ('guy', 31), ('thing', 29), ('someone', 27), ('friend', 20)]\n",
      "\n",
      "Science/Technology --> [('technology', 51), ('government', 44), ('help', 44), ('thing', 40), ('science', 39)]\n",
      "\n",
      "FoodBusiness/Finance --> [('post', 22), ('thing', 16), ('government', 13), ('one', 12), ('bank', 11)]\n",
      "\n",
      "Coronavirus --> [('coronavirus', 58), ('modi', 30), ('lockdown', 28), ('government', 24), ('case', 20)]\n",
      "\n",
      "CAA-NRC-NPR --> [('nrc', 34), ('npr', 27), ('country', 24), ('government', 23), ('protest', 22)]\n",
      "\n"
     ]
    }
   ],
   "source": [
    "for f in flairs:\n",
    "    doc = nlp(complete_text_for_each_flair[f])\n",
    "    subjects = []\n",
    "    for token in doc:\n",
    "        if (token.dep_ == 'nsubj' or token.dep_ == 'nsubjpass' or token.dep_ == 'csubj' or token.dep_ == 'csubjpass'):\n",
    "            if (token.text != 'people' and token.text != 'india'):  # people and india are the most common nouns in the dataset\n",
    "                subjects.append(token.text)\n",
    "        \n",
    "\n",
    "    subjects = Counter(subjects)\n",
    "    top_5 = subjects.most_common(5)\n",
    "    print(f,\"-->\",top_5,end = '\\n\\n')"
   ]
  },
  {
   "cell_type": "markdown",
   "metadata": {},
   "source": [
    "# Random Subjects"
   ]
  },
  {
   "cell_type": "code",
   "execution_count": 58,
   "metadata": {},
   "outputs": [
    {
     "name": "stdout",
     "output_type": "stream",
     "text": [
      "Scheduled  -----> woman, family, game, government, everything, \n",
      "\n",
      "Politics  -----> everything, politician, statement, post, pm, \n",
      "\n",
      "Photography  -----> comments, post, man, job, hobby, \n",
      "\n",
      "Policy/Economy  -----> rate, party, people, money, change, \n",
      "\n",
      "AskIndia  -----> reason, plan, woman, start, post, \n",
      "\n",
      "Sports  -----> money, country, comments, work, everyone, \n",
      "\n",
      "Non-Political  -----> help, op, place, anyone, help, \n",
      "\n",
      "Science/Technology  -----> pany, someone, science, article, message, \n",
      "\n",
      "FoodBusiness/Finance  -----> thing, thing, india, india, post, \n",
      "\n",
      "Coronavirus  -----> india, government, india, coronavirus, coronavirus, \n",
      "\n",
      "CAA-NRC-NPR  -----> nrc, caa, protest, nrc, caa, \n",
      "\n"
     ]
    }
   ],
   "source": [
    "for f in flairs:\n",
    "    doc = nlp(complete_text_for_each_flair[f])\n",
    "    subjects = []\n",
    "    for token in doc:\n",
    "        if (token.dep_ == 'nsubj' or token.dep_ == 'nsubjpass' or token.dep_ == 'csubj' or token.dep_ == 'csubjpass'):\n",
    "                subjects.append(token.text)\n",
    "        \n",
    "\n",
    "    subjects = Counter(subjects)\n",
    "    freq_cnt = dict(subjects)\n",
    "    sorted_verbs = sorted(freq_cnt.items(),key = lambda x : x[1])\n",
    "    sorted_verbs = [w[0] for w in sorted_verbs if w[1] > 15]\n",
    "    idx = np.random.randint(0, len(sorted_verbs), size=(5,))\n",
    "    print(f, \" -----> \",end = '')\n",
    "    for i in idx:\n",
    "        print(sorted_verbs[i],end = ', ')\n",
    "       \n",
    "    print('\\n')\n"
   ]
  },
  {
   "cell_type": "markdown",
   "metadata": {},
   "source": [
    "# Most common Bigrams, Trigrams"
   ]
  },
  {
   "cell_type": "markdown",
   "metadata": {},
   "source": [
    "Bigrams\n",
    "\n",
    "A bigram is a made up of two words, every two adjacent words in text create one bigram.\n",
    "\n",
    "For the sentence, \"I like playing football\" the bigrams are ----> [ \"I like\", \"like playing\", \"playing football\" ]\n",
    "\n",
    "Compared with unigrams bigrams can convey more meaning.\n",
    "\n",
    "We'll extract the most common bigrams"
   ]
  },
  {
   "cell_type": "code",
   "execution_count": 59,
   "metadata": {},
   "outputs": [],
   "source": [
    "from nltk import bigrams, trigrams   # using nltk"
   ]
  },
  {
   "cell_type": "code",
   "execution_count": 60,
   "metadata": {},
   "outputs": [],
   "source": [
    "nlp = English()                     \n",
    "nlp.max_length = 3000000\n",
    "complete_doc = nlp(complete_text)\n",
    "unigrams = [token.text for token in complete_doc if not token.is_stop]     # creating list of all unigrams (words)\n"
   ]
  },
  {
   "cell_type": "code",
   "execution_count": 61,
   "metadata": {},
   "outputs": [
    {
     "data": {
      "image/png": "[encoded data removed]",
      "text/plain": [
       "<Figure size 576x576 with 1 Axes>"
      ]
     },
     "metadata": {
      "needs_background": "light"
     },
     "output_type": "display_data"
    }
   ],
   "source": [
    "bi_grams = bigrams(unigrams)            # bi_grams --> generator object containing bigrams\n",
    "bigram_list = []\n",
    "temp = [w for w in bi_grams]\n",
    "for x in temp:                          # creating list of bigrams\n",
    "    y = x[0]+' '+x[1]\n",
    "    bigram_list.append(y)               \n",
    "   \n",
    "bigram_freq = Counter(bigram_list)\n",
    "bigram_top = bigram_freq.most_common(10)\n",
    "x = []\n",
    "y = []\n",
    "for element in bigram_top:\n",
    "    x.append(element[0])\n",
    "    y.append(element[1])\n",
    "   \n",
    "plt.figure(figsize=(8,8))\n",
    "sns.barplot(x = x,y = y)\n",
    "plt.xticks(rotation=45, horizontalalignment='right',fontweight='light',fontsize='x-large')\n",
    "plt.show()"
   ]
  },
  {
   "cell_type": "code",
   "execution_count": 62,
   "metadata": {},
   "outputs": [
    {
     "name": "stdout",
     "output_type": "stream",
     "text": [
      "Scheduled   ----->   [('india comments', 155), ('youtube watch', 60), ('daily discussion', 40), ('schedule caste', 39), ('random daily', 39), ('sc st', 36)]\n",
      "\n",
      "\n",
      "Politics   ----->   [('india comments', 90), ('political party', 38), ('look like', 38), ('shiv sena', 34), ('amit shah', 32), ('hindu muslim', 30)]\n",
      "\n",
      "\n",
      "Photography   ----->   [('india comments', 139), ('photography thread', 75), ('weekly photography', 67), ('thread thread', 54), ('look like', 24), ('youtube channel', 21)]\n",
      "\n",
      "\n",
      "Policy/Economy   ----->   [('india comments', 141), ('indian economy', 75), ('prime minister', 51), ('long term', 51), ('narendra modi', 47), ('modi government', 45)]\n",
      "\n",
      "\n",
      "AskIndia   ----->   [('india comments', 222), ('self post', 19), ('india india', 18), ('long time', 17), ('year ago', 16), ('good luck', 16)]\n",
      "\n",
      "\n",
      "Sports   ----->   [('india comments', 132), ('star sport', 40), ('world cup', 34), ('virat kohli', 24), ('india india', 22), ('social medium', 20)]\n",
      "\n",
      "\n",
      "Non-Political   ----->   [('non political', 265), ('india comments', 120), ('bubble bubble', 39), ('political india', 33), ('south indian', 22), ('north indian', 20)]\n",
      "\n",
      "\n",
      "Science/Technology   ----->   [('science technology', 218), ('india comments', 130), ('reddit message', 43), ('message pose', 43), ('message creator', 30), ('creator reddit', 30)]\n",
      "\n",
      "\n",
      "FoodBusiness/Finance   ----->   [('india comments', 42), ('week indian', 27), ('indian economy', 27), ('economy week', 22), ('week th', 14), ('indian startup', 12)]\n",
      "\n",
      "\n",
      "Coronavirus   ----->   [('coronavirus lockdown', 47), ('india comments', 34), ('india coronavirus', 29), ('coronavirus outbreak', 28), ('coronavirus india', 23), ('india news', 22)]\n",
      "\n",
      "\n",
      "CAA-NRC-NPR   ----->   [('caa nrc', 75), ('nrc npr', 56), ('npr nrc', 46), ('caa npr', 44), ('india comments', 41), ('nrc caa', 26)]\n",
      "\n",
      "\n"
     ]
    }
   ],
   "source": [
    "for f in flairs:\n",
    "    doc = nlp(complete_text_for_each_flair[f])\n",
    "    unigrams = [token.text for token in doc if not token.is_stop]\n",
    "    bi_grams = bigrams(unigrams)\n",
    "    bigram_list = []\n",
    "    temp = [w for w in bi_grams]\n",
    "    for x in temp:\n",
    "        y = x[0]+' '+x[1]\n",
    "        bigram_list.append(y)\n",
    "\n",
    "    bigram_freq = Counter(bigram_list)\n",
    "    bigram_top = bigram_freq.most_common(6)\n",
    "    print(f,\"  ----->  \",bigram_top,end = '\\n\\n\\n')"
   ]
  },
  {
   "cell_type": "markdown",
   "metadata": {},
   "source": [
    "## Trigrams"
   ]
  },
  {
   "cell_type": "markdown",
   "metadata": {},
   "source": [
    "Trigram is a collection of three words, every three adjacent words make up one trigram\n",
    "\n",
    "For the sentence, \"I like playing football\" the trigrams are ----> [ \"I like playing\", \"like playing football\" ]"
   ]
  },
  {
   "cell_type": "code",
   "execution_count": 63,
   "metadata": {},
   "outputs": [
    {
     "data": {
      "image/png": "[encoded data removed]",
      "text/plain": [
       "<Figure size 576x576 with 1 Axes>"
      ]
     },
     "metadata": {
      "needs_background": "light"
     },
     "output_type": "display_data"
    }
   ],
   "source": [
    "tri_grams = trigrams(unigrams)\n",
    "trigram_list = []\n",
    "temp = [w for w in tri_grams]\n",
    "for x in temp:\n",
    "    y = x[0]+' '+x[1]+' '+x[2]\n",
    "    trigram_list.append(y)\n",
    "   \n",
    "trigram_freq = Counter(trigram_list)\n",
    "trigram_top = trigram_freq.most_common(10)\n",
    "x = []\n",
    "y = []\n",
    "for element in trigram_top:\n",
    "    x.append(element[0])\n",
    "    y.append(element[1])\n",
    "   \n",
    "plt.figure(figsize=(8,8))\n",
    "sns.barplot(x = x,y = y)\n",
    "plt.xticks(rotation=45, horizontalalignment='right',fontweight='light',fontsize='x-large')\n",
    "plt.show()"
   ]
  },
  {
   "cell_type": "code",
   "execution_count": 64,
   "metadata": {},
   "outputs": [
    {
     "name": "stdout",
     "output_type": "stream",
     "text": [
      "Scheduled  ----->  [('random daily discussion', 39), ('schedule india comments', 33), ('thread schedule india', 27), ('daily discussion morning', 20), ('discussion morning thread', 20)]\n",
      "\n",
      "\n",
      "Politics  ----->  [('en wikipedia org', 9), ('wikipedia org wiki', 9), ('indiatoday india story', 9), ('politics india comments', 8), ('bharat mata ki', 8)]\n",
      "\n",
      "\n",
      "Photography  ----->  [('weekly photography thread', 67), ('photography thread thread', 54), ('reddit india ments', 14), ('thread thread december', 10), ('thread thread september', 10)]\n",
      "\n",
      "\n",
      "Policy/Economy  ----->  [('reddit message pose', 38), ('article adblocker unfriendly', 22), ('adblocker unfriendly follow', 22), ('unfriendly follow text', 22), ('follow text article', 22)]\n",
      "\n",
      "\n",
      "AskIndia  ----->  [('india india comments', 15), ('askindia india comments', 13), ('en wikipedia org', 8), ('reddit india ments', 8), ('low effort political', 7)]\n",
      "\n",
      "\n",
      "Sports  ----->  [('india india comments', 19), ('star sport select', 10), ('accidental prime minister', 9), ('sport india comments', 7), ('delhi cabinet approves', 6)]\n",
      "\n",
      "\n",
      "Non-Political  ----->  [('bubble bubble bubble', 38), ('non political india', 32), ('political india comments', 26), ('  non political', 19), ('reddit message pose', 17)]\n",
      "\n",
      "\n",
      "Science/Technology  ----->  [('reddit message pose', 43), ('message creator reddit', 30), ('creator reddit message', 30), ('message pose sallurocks', 29), ('github hunkdivine samacharbot', 29)]\n",
      "\n",
      "\n",
      "FoodBusiness/Finance  ----->  [('week indian economy', 25), ('indian economy week', 22), ('economy week end', 11), ('economy week ending', 11), ('indian startup week', 10)]\n",
      "\n",
      "\n",
      "Coronavirus  ----->  [('world asia india', 14), ('test positive coronavirus', 14), ('india news coronavirus', 13), ('news world asia', 11), ('articleshow cms  ', 8)]\n",
      "\n",
      "\n",
      "CAA-NRC-NPR  ----->  [('caa nrc npr', 51), ('caa npr nrc', 35), ('protest caa nrc', 14), ('npr nrc caa', 10), ('twitter nrcprotest status', 6)]\n",
      "\n",
      "\n"
     ]
    }
   ],
   "source": [
    "for f in flairs:\n",
    "    doc = nlp(complete_text_for_each_flair[f])\n",
    "    unigrams = [token.text for token in doc if not token.is_stop]\n",
    "    tri_grams = trigrams(unigrams)\n",
    "    trigram_list = []\n",
    "    temp = [w for w in tri_grams]\n",
    "    for x in temp:\n",
    "        y = x[0]+' '+x[1]+' '+x[2]\n",
    "        trigram_list.append(y)\n",
    "\n",
    "    trigram_freq = Counter(trigram_list)\n",
    "    trigram_top = trigram_freq.most_common(5)\n",
    "    print(f,\" -----> \",trigram_top,end = '\\n\\n\\n')"
   ]
  },
  {
   "cell_type": "code",
   "execution_count": null,
   "metadata": {},
   "outputs": [],
   "source": []
  }
 ],
 "metadata": {
  "kernelspec": {
   "display_name": "Python 3",
   "language": "python",
   "name": "python3"
  },
  "language_info": {
   "codemirror_mode": {
    "name": "ipython",
    "version": 3
   },
   "file_extension": ".py",
   "mimetype": "text/x-python",
   "name": "python",
   "nbconvert_exporter": "python",
   "pygments_lexer": "ipython3",
   "version": "3.7.3"
  }
 },
 "nbformat": 4,
 "nbformat_minor": 4
}
